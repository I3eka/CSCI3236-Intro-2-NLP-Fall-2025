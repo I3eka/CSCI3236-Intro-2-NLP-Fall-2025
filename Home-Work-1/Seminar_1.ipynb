{
 "cells": [
  {
   "cell_type": "markdown",
   "metadata": {},
   "source": [
    "### Cleaning and preparing data [Homework]"
   ]
  },
  {
   "cell_type": "markdown",
   "metadata": {},
   "source": [
    "Download the next Excel file “Synthetic_data.csv” and complete all the methods of cleaning and preliminary processing that you studied in the lecture.\n",
    "\n",
    "Finally, save new “purified” data to the new CSV file “Cleaned_Synthetic_Data.csv”"
   ]
  },
  {
   "cell_type": "markdown",
   "metadata": {},
   "source": [
    "Note: You can use functions, classes, modules, packages, etc. To do homework."
   ]
  },
  {
   "cell_type": "code",
   "execution_count": 2,
   "metadata": {},
   "outputs": [],
   "source": [
    "import csv"
   ]
  },
  {
   "cell_type": "code",
   "execution_count": 3,
   "metadata": {
    "scrolled": true
   },
   "outputs": [
    {
     "data": {
      "text/plain": [
       "['cleaned_synthetic_data.csv',\n",
       " 'clean_house_prices.csv',\n",
       " 'dirty_str_house_prices.csv',\n",
       " 'HW-1.ipynb',\n",
       " 'Seminar_1.ipynb',\n",
       " 'Social_Network_Ads.csv',\n",
       " 'str_house_prices.csv',\n",
       " 'synthetic_data.csv']"
      ]
     },
     "execution_count": 3,
     "metadata": {},
     "output_type": "execute_result"
    }
   ],
   "source": [
    "import os\n",
    "os.listdir()"
   ]
  },
  {
   "cell_type": "code",
   "execution_count": 4,
   "metadata": {},
   "outputs": [],
   "source": [
    "import re\n",
    "\n",
    "results = []\n",
    "with open(\"synthetic_data.csv\", 'r', encoding='utf-8') as file:\n",
    "    reader = csv.reader(file)\n",
    "    header = next(reader)\n",
    "    header = [h.strip().title() for h in header]\n",
    "    results.append(header)\n",
    "    \n",
    "    for row in reader:\n",
    "        cleaned_row = []\n",
    "        for i, value in enumerate(row):\n",
    "            value = value.strip()\n",
    "            value = re.sub(r'[\\[\\]\\(\\)]', '', value)\n",
    "            \n",
    "            if i == 0:\n",
    "                cleaned_row.append(value)\n",
    "            elif i == 1:\n",
    "                cleaned_row.append(value.capitalize() if value else 'Unknown')\n",
    "            elif i == 2:\n",
    "                cleaned_row.append(value.capitalize())\n",
    "            elif i == 3:\n",
    "                value = value.title()\n",
    "                if value.lower() == 'nur-sultan':\n",
    "                    value = 'Astana'\n",
    "                elif value.lower() == 'pusan':\n",
    "                    value = 'Busan'\n",
    "                cleaned_row.append(value)\n",
    "            elif i == 4:\n",
    "                if '-' in value:\n",
    "                    value = value.split('-')[0]\n",
    "                cleaned_row.append(value)\n",
    "        \n",
    "        results.append(cleaned_row)\n",
    "\n",
    "with open(\"cleaned_synthetic_data.csv\", \"w\", encoding='utf-8', newline='') as file:\n",
    "    writer = csv.writer(file)\n",
    "    writer.writerows(results)"
   ]
  },
  {
   "cell_type": "code",
   "execution_count": 5,
   "metadata": {},
   "outputs": [
    {
     "name": "stdout",
     "output_type": "stream",
     "text": [
      "[['Id', 'Gender', 'Nationality', 'City', 'Data Of Birth'], ['1', 'Male', 'Kazakhstan', 'Aktobe', '1990'], ['2', 'Female', 'Russia', 'Moscow', '1956'], ['3', 'Male', 'Kazakhstan', 'Astana', '2001'], ['4', 'Female', 'Kazakhstan', 'Astana', '2019'], ['5', 'Male', 'Russia', 'Saint Petersburg', '1999'], ['6', 'Female', 'Ukraine', 'Kiev', '1989'], ['7', 'Unknown', 'Kazakhstan', 'Almaty', '2008'], ['8', 'Male', 'Korea', 'Busan', '1999'], ['9', 'Female', 'Korea', 'Busan', '1980']]\n"
     ]
    }
   ],
   "source": [
    "print(results)\n"
   ]
  },
  {
   "cell_type": "code",
   "execution_count": 6,
   "metadata": {},
   "outputs": [
    {
     "name": "stdout",
     "output_type": "stream",
     "text": [
      "Data cleaning completed successfully!\n",
      "Total rows processed: 10\n",
      "Header: ['Id', 'Gender', 'Nationality', 'City', 'Data Of Birth']\n",
      "\n",
      "First 3 data rows:\n",
      "['1', 'Male', 'Kazakhstan', 'Aktobe', '1990']\n",
      "['2', 'Female', 'Russia', 'Moscow', '1956']\n",
      "['3', 'Male', 'Kazakhstan', 'Astana', '2001']\n"
     ]
    }
   ],
   "source": [
    "import re\n",
    "\n",
    "# Data cleaning and preprocessing\n",
    "results = []\n",
    "\n",
    "with open(\"synthetic_data.csv\", 'r', encoding='utf-8') as file:\n",
    "    reader = csv.reader(file)\n",
    "    \n",
    "    # Read and clean header\n",
    "    header = next(reader)\n",
    "    header = [h.strip().title() for h in header]\n",
    "    header = ['Data Of Birth' if h == 'Data Of Birth' else h for h in header]\n",
    "    results.append(header)\n",
    "    \n",
    "    # Process each row\n",
    "    for row in reader:\n",
    "        cleaned_row = []\n",
    "        \n",
    "        for i, value in enumerate(row):\n",
    "            # Step 1: Remove extra spaces\n",
    "            value = value.strip()\n",
    "            \n",
    "            # Step 2: Remove brackets and parentheses\n",
    "            value = re.sub(r'[\\[\\]\\(\\)]', '', value)\n",
    "            \n",
    "            # Step 3: Clean each column based on its type\n",
    "            if i == 0:  # Id column\n",
    "                cleaned_row.append(value)\n",
    "            \n",
    "            elif i == 1:  # Gender column\n",
    "                if value:\n",
    "                    # Normalize gender values\n",
    "                    value = value.strip().capitalize()\n",
    "                else:\n",
    "                    # Handle missing values\n",
    "                    value = 'Unknown'\n",
    "                cleaned_row.append(value)\n",
    "            \n",
    "            elif i == 2:  # Nationality column\n",
    "                # Capitalize nationality\n",
    "                value = value.capitalize()\n",
    "                cleaned_row.append(value)\n",
    "            \n",
    "            elif i == 3:  # City column\n",
    "                # Capitalize each word in city names\n",
    "                value = value.title()\n",
    "                # Standardize city names\n",
    "                if value.lower() == 'nur-sultan':\n",
    "                    value = 'Astana'\n",
    "                elif value.lower() == 'pusan':\n",
    "                    value = 'Busan'\n",
    "                cleaned_row.append(value)\n",
    "            \n",
    "            elif i == 4:  # Date of birth column\n",
    "                # Handle date ranges (extract first year)\n",
    "                if '-' in value:\n",
    "                    value = value.split('-')[0]\n",
    "                cleaned_row.append(value)\n",
    "        \n",
    "        results.append(cleaned_row)\n",
    "\n",
    "# Save cleaned data to new CSV file\n",
    "with open(\"cleaned_synthetic_data.csv\", \"w\", encoding='utf-8', newline='') as file:\n",
    "    writer = csv.writer(file)\n",
    "    writer.writerows(results)\n",
    "\n",
    "print(\"Data cleaning completed successfully!\")\n",
    "print(f\"Total rows processed: {len(results)}\")\n",
    "print(f\"Header: {results[0]}\")\n",
    "print(\"\\nFirst 3 data rows:\")\n",
    "for row in results[1:4]:\n",
    "    print(row)\n"
   ]
  },
  {
   "cell_type": "code",
   "execution_count": 7,
   "metadata": {},
   "outputs": [
    {
     "name": "stdout",
     "output_type": "stream",
     "text": [
      "Cleaned data:\n",
      "['Id', 'Gender', 'Nationality', 'City', 'Data Of Birth']\n",
      "['1', 'Male', 'Kazakhstan', 'Aktobe', '1990']\n",
      "['2', 'Female', 'Russia', 'Moscow', '1956']\n",
      "['3', 'Male', 'Kazakhstan', 'Astana', '2001']\n",
      "['4', 'Female', 'Kazakhstan', 'Astana', '2019']\n",
      "['5', 'Male', 'Russia', 'Saint Petersburg', '1999']\n",
      "['6', 'Female', 'Ukraine', 'Kiev', '1989']\n",
      "['7', 'Unknown', 'Kazakhstan', 'Almaty', '2008']\n",
      "['8', 'Male', 'Korea', 'Busan', '1999']\n",
      "['9', 'Female', 'Korea', 'Busan', '1980']\n"
     ]
    }
   ],
   "source": [
    "# Verification: Read and display cleaned data\n",
    "with open(\"cleaned_synthetic_data.csv\", 'r', encoding='utf-8') as file:\n",
    "    reader = csv.reader(file)\n",
    "    cleaned_data = list(reader)\n",
    "    \n",
    "print(\"Cleaned data:\")\n",
    "for row in cleaned_data:\n",
    "    print(row)\n"
   ]
  },
  {
   "cell_type": "markdown",
   "metadata": {},
   "source": [
    "### Data Cleaning Summary\n",
    "\n",
    "The following data cleaning and preprocessing methods were applied:\n",
    "\n",
    "1. **Whitespace Removal**: Removed leading and trailing spaces from all fields\n",
    "2. **Special Characters Cleaning**: Removed brackets `[]` and parentheses `()` from all fields\n",
    "3. **Missing Values Handling**: Replaced empty gender values with \"Unknown\"\n",
    "4. **Text Normalization**:\n",
    "   - Capitalized gender values (Male, Female)\n",
    "   - Capitalized nationality names (Kazakhstan, Russia, Ukraine, Korea)\n",
    "   - Applied title case to city names (proper capitalization)\n",
    "5. **Data Standardization**:\n",
    "   - Standardized city names: \"Nur-Sultan\" → \"Astana\"\n",
    "   - Standardized city names: \"Pusan\" → \"Busan\"\n",
    "   - Extracted first year from date ranges (e.g., \"1956-1957\" → \"1956\")\n",
    "6. **Header Formatting**: Cleaned and standardized column headers\n",
    "\n",
    "**Changes made:**\n",
    "- Row 1: Cleaned brackets from gender `(male)` → `Male`\n",
    "- Row 2: Fixed date range `1956-1957` → `1956`, standardized text case\n",
    "- Row 3: Standardized text case\n",
    "- Row 4: Standardized city name `nur-sultan` → `Astana`\n",
    "- Row 5: Removed extra spaces from gender\n",
    "- Row 6: Cleaned broken parenthesis `female)` → `Female`\n",
    "- Row 7: Replaced empty gender with `Unknown`\n",
    "- Row 8: Standardized city name `pusan` → `Busan`\n",
    "- Row 9: Cleaned brackets from gender `(female)` → `Female`\n"
   ]
  }
 ],
 "metadata": {
  "kernelspec": {
   "display_name": "Python 3",
   "language": "python",
   "name": "python3"
  },
  "language_info": {
   "codemirror_mode": {
    "name": "ipython",
    "version": 3
   },
   "file_extension": ".py",
   "mimetype": "text/x-python",
   "name": "python",
   "nbconvert_exporter": "python",
   "pygments_lexer": "ipython3",
   "version": "3.13.5"
  }
 },
 "nbformat": 4,
 "nbformat_minor": 4
}
