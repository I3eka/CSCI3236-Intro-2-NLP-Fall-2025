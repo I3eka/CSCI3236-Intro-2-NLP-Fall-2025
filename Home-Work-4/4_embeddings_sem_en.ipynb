{
  "cells": [
    {
      "cell_type": "markdown",
      "metadata": {
        "id": "ypt7ymI8X-rM"
      },
      "source": [
        "# Embeddings\n",
        "\n",
        "## Word2Vec\n",
        "\n",
        "Vector models that we considered before (TF -idf, Bow) are conditionally called *counting *. They are based on the fact that one way or another they “consider” the words and their neighbors, and based on this they build a vector for words.\n",
        "\n",
        "Another class of models, which is more commonly common to date, is called *predictive *(or *neural *) models. The idea of ​​these models is to use neural networks that \"predict\" (and not count) neighbors of words. One of the most famous such models is Word2VEC. The technology is based on a neural network that predicts the likelihood of finding a word in a given context. This tool was developed by a group of Google researchers in 2013, the project manager was Tomash Mikolov (now working on Facebook). Here are the two most important articles:\n",
        "\n",
        "* [Efficient Estimation of Word Representations in Vector Space](https://arxiv.org/pdf/1301.3781.pdf)\n",
        "* [Distributed Representations of Words and Phrases and their Compositionality](https://arxiv.org/abs/1310.4546)\n",
        "\n",
        "\n",
        "The vectors obtained in this way are called*distributed representations of the words*, or ** embeddings **.\n",
        "\n",
        "\n",
        "### How does it study?\n",
        "We set a vector for each word using a $ W $ matrix and a context vector using a $ w $ matrix. In fact, Word2VEC is a generalizing name for two architectures of SKIP-Gram and Continous Bag-OF-Words (CBOW).\n",
        "\n",
        "** CBOW ** predicts the current word based on the context surrounding it.\n",
        "\n",
        "** Skip-Gram **, on the contrary, uses the current word to predict the words surrounding him.\n",
        "\n",
        "### How does it work?\n",
        "Word2VEC accepts a large text case as input data and compares each word of the vector, giving out the coordinates of words at the output. First, he creates a dictionary, “studying” on the input text data, and then calculates the vector representation of words. The vector representation is based on contextual proximity: the words found in the text next to the same words (and therefore, according to the distribution hypothesis that have a similar meaning), in the vector representation will have close coordinates of the vectors-words. To calculate the proximity of words, the cosine distance between their vectors is used.\n",
        "\n",
        "\n",
        "With the help of distribution vector models, you can build semantic proportions (they are also analogy) and solve examples:\n",
        "\n",
        "* * King: Man = Queen: Woman *\n",
        "$\\Rightarrow$\n",
        "* * king - man + woman = queen *"
      ]
    },
    {
      "cell_type": "markdown",
      "metadata": {
        "id": "Z3sSyfHaX-rN"
      },
      "source": [
        "![w2v](https://cdn-images-1.medium.com/max/2600/1*sXNXYfAqfLUeiDXPCo130w.png)"
      ]
    },
    {
      "cell_type": "markdown",
      "metadata": {
        "id": "0oH_UDyFX-rO"
      },
      "source": [
        "### Problems\n",
        "It is impossible to establish the type of semantic relations between the words: synonyms, antonyms, etc. They will be equally close because they are usually used in similar contexts. Therefore, the words close in the vector space are called *semantic associates *. This means that they are semantically connected, but how exactly it is incomprehensible.\n",
        "\n",
        "\n",
        "### in rusvectics\n",
        "\n",
        "\n",
        "On the XX_MarkDown_Link_XX website, pretended to learn from various data for the Russian language are collected, and you can also look for the closest words to the given, calculate the semantic proximity of a few words and post examples using the “calculator of semantic proximity”.\n",
        "\n",
        "\n",
        "For other languages, you can also find the learned models - for example, the XX_MarkDown_Link_XX and XX_MarkDown_Link_XX models (about them a little further).\n",
        "\n",
        "### visualization\n",
        "And [вот тут](https://projector.tensorflow.org/) has good visualization for English."
      ]
    },
    {
      "cell_type": "markdown",
      "metadata": {
        "id": "yXNm8flVX-rP"
      },
      "source": [
        "## Gensim\n",
        "\n",
        "You can use the pre -study model of embedding or teach your own using the `Gensim` library. Here is [ее документация](https://radimrehurek.com/gensim/models/word2vec.html).\n",
        "\n",
        "### How to use a finished model\n",
        "\n",
        "Word2Vec models come in different formats:\n",
        "\n",
        "* .Vec.gz - regular file\n",
        "* .bin.gz - binary\n",
        "\n",
        "They are loaded with the same class `keyedVectors', only the` binary` parameter is changing in the `Load_Word2VEC_FORMAT` function.\n",
        "\n",
        "If the embeddings are trained ** not ** using Word2VEC, then to download the `Load` function. Those. To load the pre -learned Embeddings * Glove, FastText, BPE * and any others are needed.\n",
        "\n",
        "Download with rusvectōrēs model for the Russian language, trained on the NKRA of the 2015 model."
      ]
    },
    {
      "cell_type": "code",
      "execution_count": 1,
      "metadata": {
        "colab": {
          "base_uri": "https://localhost:8080/"
        },
        "collapsed": true,
        "id": "GB_zmkGeKckW",
        "jupyter": {
          "outputs_hidden": true
        },
        "outputId": "bbde8762-87d4-46d0-fc89-635425bd6a03"
      },
      "outputs": [
        {
          "output_type": "stream",
          "name": "stdout",
          "text": [
            "Requirement already satisfied: pymorphy2 in /usr/local/lib/python3.12/dist-packages (0.9.1)\n",
            "Requirement already satisfied: dawg-python>=0.7.1 in /usr/local/lib/python3.12/dist-packages (from pymorphy2) (0.7.2)\n",
            "Requirement already satisfied: pymorphy2-dicts-ru<3.0,>=2.4 in /usr/local/lib/python3.12/dist-packages (from pymorphy2) (2.4.417127.4579844)\n",
            "Requirement already satisfied: docopt>=0.6 in /usr/local/lib/python3.12/dist-packages (from pymorphy2) (0.6.2)\n",
            "fatal: destination path 'fastText' already exists and is not an empty directory.\n",
            "Processing ./fastText\n",
            "  Installing build dependencies ... \u001b[?25l\u001b[?25hdone\n",
            "  Getting requirements to build wheel ... \u001b[?25l\u001b[?25hdone\n",
            "  Preparing metadata (pyproject.toml) ... \u001b[?25l\u001b[?25hdone\n",
            "Requirement already satisfied: pybind11>=2.2 in /usr/local/lib/python3.12/dist-packages (from fasttext==0.9.2) (3.0.1)\n",
            "Requirement already satisfied: setuptools>=0.7.0 in /usr/local/lib/python3.12/dist-packages (from fasttext==0.9.2) (75.2.0)\n",
            "Requirement already satisfied: numpy in /usr/local/lib/python3.12/dist-packages (from fasttext==0.9.2) (1.26.4)\n",
            "Building wheels for collected packages: fasttext\n",
            "  Building wheel for fasttext (pyproject.toml) ... \u001b[?25l\u001b[?25hdone\n",
            "  Created wheel for fasttext: filename=fasttext-0.9.2-cp312-cp312-linux_x86_64.whl size=4498166 sha256=9279c9ccffc86a76e2725efec5013fec3c5c0a9fc43e8be4e5b3adc1c654ddbf\n",
            "  Stored in directory: /tmp/pip-ephem-wheel-cache-96qp7e0s/wheels/23/6e/8a/c38354dc8ed418ddfd2e9f0d8eb07ee87a057a1b568d57b9ef\n",
            "Successfully built fasttext\n",
            "Installing collected packages: fasttext\n",
            "  Attempting uninstall: fasttext\n",
            "    Found existing installation: fasttext 0.9.2\n",
            "    Uninstalling fasttext-0.9.2:\n",
            "      Successfully uninstalled fasttext-0.9.2\n",
            "Successfully installed fasttext-0.9.2\n"
          ]
        }
      ],
      "source": [
        "!pip install pymorphy2\n",
        "! git clone https://github.com/facebookresearch/fastText.git\n",
        "! pip3 install fastText/."
      ]
    },
    {
      "cell_type": "code",
      "execution_count": 2,
      "metadata": {
        "colab": {
          "base_uri": "https://localhost:8080/"
        },
        "id": "q9_ujGhANMS7",
        "outputId": "a739b766-3d37-4f0c-a25b-e642d6fddf44",
        "scrolled": true
      },
      "outputs": [
        {
          "output_type": "stream",
          "name": "stdout",
          "text": [
            "--2025-10-04 23:40:06--  https://rusvectores.org/static/models/rusvectores4/unigrams/ruwikiruscorpora-nobigrams_upos_skipgram_300_5_2018.vec.gz\n",
            "Resolving rusvectores.org (rusvectores.org)... 129.240.189.200, 2001:700:112::200\n",
            "Connecting to rusvectores.org (rusvectores.org)|129.240.189.200|:443... connected.\n",
            "HTTP request sent, awaiting response... 200 OK\n",
            "Length: 404014768 (385M) [application/x-gzip]\n",
            "Saving to: ‘ruwikiruscorpora-nobigrams_upos_skipgram_300_5_2018.vec.gz.2’\n",
            "\n",
            "ruwikiruscorpora-no 100%[===================>] 385.30M  6.83MB/s    in 51s     \n",
            "\n",
            "2025-10-04 23:40:58 (7.57 MB/s) - ‘ruwikiruscorpora-nobigrams_upos_skipgram_300_5_2018.vec.gz.2’ saved [404014768/404014768]\n",
            "\n",
            "--2025-10-04 23:40:58--  https://raw.githubusercontent.com/ancatmara/data-science-nlp/master/data/w2v/train/unlabeledTrainData.tsv\n",
            "Resolving raw.githubusercontent.com (raw.githubusercontent.com)... 185.199.108.133, 185.199.109.133, 185.199.111.133, ...\n",
            "Connecting to raw.githubusercontent.com (raw.githubusercontent.com)|185.199.108.133|:443... connected.\n",
            "HTTP request sent, awaiting response... 200 OK\n",
            "Length: 67281491 (64M) [text/plain]\n",
            "Saving to: ‘unlabeledTrainData.tsv.2’\n",
            "\n",
            "unlabeledTrainData. 100%[===================>]  64.16M   291MB/s    in 0.2s    \n",
            "\n",
            "2025-10-04 23:41:00 (291 MB/s) - ‘unlabeledTrainData.tsv.2’ saved [67281491/67281491]\n",
            "\n",
            "--2025-10-04 23:41:00--  https://raw.githubusercontent.com/ancatmara/data-science-nlp/master/data/w2v/train/alice.txt\n",
            "Resolving raw.githubusercontent.com (raw.githubusercontent.com)... 185.199.108.133, 185.199.109.133, 185.199.110.133, ...\n",
            "Connecting to raw.githubusercontent.com (raw.githubusercontent.com)|185.199.108.133|:443... connected.\n",
            "HTTP request sent, awaiting response... 200 OK\n",
            "Length: 167631 (164K) [text/plain]\n",
            "Saving to: ‘alice.txt.2’\n",
            "\n",
            "alice.txt.2         100%[===================>] 163.70K  --.-KB/s    in 0.02s   \n",
            "\n",
            "2025-10-04 23:41:00 (8.76 MB/s) - ‘alice.txt.2’ saved [167631/167631]\n",
            "\n",
            "--2025-10-04 23:41:00--  https://raw.githubusercontent.com/ancatmara/data-science-nlp/master/data/w2v/evaluation/ru_analogy_tagged.txt\n",
            "Resolving raw.githubusercontent.com (raw.githubusercontent.com)... 185.199.108.133, 185.199.109.133, 185.199.110.133, ...\n",
            "Connecting to raw.githubusercontent.com (raw.githubusercontent.com)|185.199.108.133|:443... connected.\n",
            "HTTP request sent, awaiting response... 200 OK\n",
            "Length: 871776 (851K) [text/plain]\n",
            "Saving to: ‘ru_analogy_tagged.txt.2’\n",
            "\n",
            "ru_analogy_tagged.t 100%[===================>] 851.34K  --.-KB/s    in 0.03s   \n",
            "\n",
            "2025-10-04 23:41:00 (28.5 MB/s) - ‘ru_analogy_tagged.txt.2’ saved [871776/871776]\n",
            "\n",
            "--2025-10-04 23:41:00--  https://www.dropbox.com/s/fnpq3z4bcnoktiv/positive.csv?dl=0\n",
            "Resolving www.dropbox.com (www.dropbox.com)... 162.125.1.18, 2620:100:6019:18::a27d:412\n",
            "Connecting to www.dropbox.com (www.dropbox.com)|162.125.1.18|:443... connected.\n",
            "HTTP request sent, awaiting response... 302 Found\n",
            "Location: https://www.dropbox.com/scl/fi/6mg7rw3wltux83q2o4ah4/positive.csv?rlkey=cvruhzofza9kkfxwzyp2vskfd&dl=0 [following]\n",
            "--2025-10-04 23:41:00--  https://www.dropbox.com/scl/fi/6mg7rw3wltux83q2o4ah4/positive.csv?rlkey=cvruhzofza9kkfxwzyp2vskfd&dl=0\n",
            "Reusing existing connection to www.dropbox.com:443.\n",
            "HTTP request sent, awaiting response... 302 Found\n",
            "Location: https://uc936eaf24fde97ee0e4e3e19714.dl.dropboxusercontent.com/cd/0/inline/CykeBoSZo5xpBSF-QzJu_zOw7KEAt0K_0maSNoOcfCsBdqlmApeBu0hp2FWX0tLVK-5zsLiC_xjgZ8u1rBsZ76Y_hmtTxRYH0X3K10OAEcyFVrpkEJtyZ8iUzUjJeZA-c1o/file# [following]\n",
            "--2025-10-04 23:41:01--  https://uc936eaf24fde97ee0e4e3e19714.dl.dropboxusercontent.com/cd/0/inline/CykeBoSZo5xpBSF-QzJu_zOw7KEAt0K_0maSNoOcfCsBdqlmApeBu0hp2FWX0tLVK-5zsLiC_xjgZ8u1rBsZ76Y_hmtTxRYH0X3K10OAEcyFVrpkEJtyZ8iUzUjJeZA-c1o/file\n",
            "Resolving uc936eaf24fde97ee0e4e3e19714.dl.dropboxusercontent.com (uc936eaf24fde97ee0e4e3e19714.dl.dropboxusercontent.com)... 162.125.1.15, 2620:100:6016:15::a27d:10f\n",
            "Connecting to uc936eaf24fde97ee0e4e3e19714.dl.dropboxusercontent.com (uc936eaf24fde97ee0e4e3e19714.dl.dropboxusercontent.com)|162.125.1.15|:443... connected.\n",
            "HTTP request sent, awaiting response... 200 OK\n",
            "Length: 26233379 (25M) [text/plain]\n",
            "Saving to: ‘positive.csv’\n",
            "\n",
            "positive.csv        100%[===================>]  25.02M   161MB/s    in 0.2s    \n",
            "\n",
            "2025-10-04 23:41:01 (161 MB/s) - ‘positive.csv’ saved [26233379/26233379]\n",
            "\n",
            "--2025-10-04 23:41:01--  https://www.dropbox.com/s/r6u59ljhhjdg6j0/negative.csv?dl=0\n",
            "Resolving www.dropbox.com (www.dropbox.com)... 162.125.1.18, 2620:100:6019:18::a27d:412\n",
            "Connecting to www.dropbox.com (www.dropbox.com)|162.125.1.18|:443... connected.\n",
            "HTTP request sent, awaiting response... 302 Found\n",
            "Location: https://www.dropbox.com/scl/fi/wui0xz78kpna56690uej4/negative.csv?rlkey=309xeou9u3rtbejw9stb13wfr&dl=0 [following]\n",
            "--2025-10-04 23:41:02--  https://www.dropbox.com/scl/fi/wui0xz78kpna56690uej4/negative.csv?rlkey=309xeou9u3rtbejw9stb13wfr&dl=0\n",
            "Reusing existing connection to www.dropbox.com:443.\n",
            "HTTP request sent, awaiting response... 302 Found\n",
            "Location: https://uc9be4267a4cea862ec7e37521de.dl.dropboxusercontent.com/cd/0/inline/CylBwTx1fDZB9BUs5YDNjvZEhi45onK_S7UYuP2Xgf-4efR2vU3QUUSDOPjyWEh7UHAyRJjXI06iSVE9C4GyBQQzdGHQ-1ANh5DeNaRjYKnUsgn7DgjlRRf_rRM2PLrLTAQ/file# [following]\n",
            "--2025-10-04 23:41:02--  https://uc9be4267a4cea862ec7e37521de.dl.dropboxusercontent.com/cd/0/inline/CylBwTx1fDZB9BUs5YDNjvZEhi45onK_S7UYuP2Xgf-4efR2vU3QUUSDOPjyWEh7UHAyRJjXI06iSVE9C4GyBQQzdGHQ-1ANh5DeNaRjYKnUsgn7DgjlRRf_rRM2PLrLTAQ/file\n",
            "Resolving uc9be4267a4cea862ec7e37521de.dl.dropboxusercontent.com (uc9be4267a4cea862ec7e37521de.dl.dropboxusercontent.com)... 162.125.4.15, 2620:100:6016:15::a27d:10f\n",
            "Connecting to uc9be4267a4cea862ec7e37521de.dl.dropboxusercontent.com (uc9be4267a4cea862ec7e37521de.dl.dropboxusercontent.com)|162.125.4.15|:443... connected.\n",
            "HTTP request sent, awaiting response... 200 OK\n",
            "Length: 24450101 (23M) [text/plain]\n",
            "Saving to: ‘negative.csv’\n",
            "\n",
            "negative.csv        100%[===================>]  23.32M  28.1MB/s    in 0.8s    \n",
            "\n",
            "2025-10-04 23:41:03 (28.1 MB/s) - ‘negative.csv’ saved [24450101/24450101]\n",
            "\n"
          ]
        }
      ],
      "source": [
        "! wget https://rusvectores.org/static/models/rusvectores4/unigrams/ruwikiruscorpora-nobigrams_upos_skipgram_300_5_2018.vec.gz\n",
        "! wget https://raw.githubusercontent.com/ancatmara/data-science-nlp/master/data/w2v/train/unlabeledTrainData.tsv\n",
        "! wget https://raw.githubusercontent.com/ancatmara/data-science-nlp/master/data/w2v/train/alice.txt\n",
        "! wget https://raw.githubusercontent.com/ancatmara/data-science-nlp/master/data/w2v/evaluation/ru_analogy_tagged.txt\n",
        "! wget -O positive.csv https://www.dropbox.com/s/fnpq3z4bcnoktiv/positive.csv?dl=0\n",
        "! wget -O negative.csv https://www.dropbox.com/s/r6u59ljhhjdg6j0/negative.csv?dl=0"
      ]
    },
    {
      "cell_type": "code",
      "execution_count": 18,
      "metadata": {
        "colab": {
          "base_uri": "https://localhost:8080/"
        },
        "id": "hAtH-lqPPUDT",
        "outputId": "a66d3960-df3f-4f25-d514-b60dfbf3b6fe"
      },
      "outputs": [
        {
          "output_type": "stream",
          "name": "stdout",
          "text": [
            "Requirement already satisfied: pymorphy3 in /usr/local/lib/python3.12/dist-packages (2.0.5)\n",
            "Requirement already satisfied: dawg2-python>=0.8.0 in /usr/local/lib/python3.12/dist-packages (from pymorphy3) (0.9.0)\n",
            "Requirement already satisfied: pymorphy3-dicts-ru in /usr/local/lib/python3.12/dist-packages (from pymorphy3) (2.4.417150.4580142)\n",
            "Requirement already satisfied: setuptools>=68.2.2 in /usr/local/lib/python3.12/dist-packages (from pymorphy3) (75.2.0)\n"
          ]
        }
      ],
      "source": [
        "!pip install pymorphy3\n",
        "\n",
        "from pymorphy3 import MorphAnalyzer"
      ]
    },
    {
      "cell_type": "code",
      "execution_count": 4,
      "metadata": {
        "colab": {
          "base_uri": "https://localhost:8080/"
        },
        "id": "sTLnNKaNX-rP",
        "outputId": "461626b9-48f0-48b8-bab9-8846587a7325"
      },
      "outputs": [
        {
          "output_type": "stream",
          "name": "stdout",
          "text": [
            "\u001b[31mERROR: Could not find a version that satisfies the requirement genism (from versions: none)\u001b[0m\u001b[31m\n",
            "\u001b[0m\u001b[31mERROR: No matching distribution found for genism\u001b[0m\u001b[31m\n",
            "\u001b[0m"
          ]
        },
        {
          "output_type": "stream",
          "name": "stderr",
          "text": [
            "[nltk_data] Downloading package punkt to /root/nltk_data...\n",
            "[nltk_data]   Package punkt is already up-to-date!\n"
          ]
        }
      ],
      "source": [
        "!pip install genism\n",
        "import re\n",
        "import gensim\n",
        "import logging\n",
        "import nltk.data\n",
        "import pandas as pd\n",
        "import urllib.request\n",
        "from bs4 import BeautifulSoup\n",
        "from nltk.corpus import stopwords\n",
        "from gensim.models import word2vec\n",
        "from nltk.tokenize import sent_tokenize, RegexpTokenizer\n",
        "from pymorphy2 import MorphAnalyzer\n",
        "from gensim.test.utils import datapath\n",
        "nltk.download('punkt')\n",
        "\n",
        "from nltk import FreqDist\n",
        "from tqdm import tqdm_notebook as tqdm\n",
        "from sklearn.manifold import TSNE\n",
        "\n",
        "from bokeh.models import ColumnDataSource, LabelSet\n",
        "from bokeh.plotting import figure, show, output_file\n",
        "from bokeh.io import output_notebook\n",
        "\n",
        "from sklearn.decomposition import TruncatedSVD\n",
        "import fasttext\n",
        "\n",
        "from functools import lru_cache\n",
        "from multiprocessing import Pool\n",
        "import numpy as np\n",
        "from sklearn.model_selection import train_test_split\n",
        "from tqdm import tqdm_notebook as tqdm\n",
        "import re"
      ]
    },
    {
      "cell_type": "code",
      "execution_count": 5,
      "metadata": {
        "id": "mkuCawyFX-rW"
      },
      "outputs": [],
      "source": [
        "model_path = 'ruwikiruscorpora-nobigrams_upos_skipgram_300_5_2018.vec.gz'\n",
        "\n",
        "model_ru = gensim.models.KeyedVectors.load_word2vec_format(model_path, binary=False)"
      ]
    },
    {
      "cell_type": "markdown",
      "metadata": {
        "id": "ZvvO1ew5p3PP"
      },
      "source": [
        "Take a few words for example:"
      ]
    },
    {
      "cell_type": "code",
      "execution_count": 6,
      "metadata": {
        "id": "H4D0hMgkX-rY"
      },
      "outputs": [],
      "source": [
        "words = ['день_NOUN', 'ночь_NOUN', 'человек_NOUN', 'семантика_NOUN', 'биткоин_NOUN']"
      ]
    },
    {
      "cell_type": "markdown",
      "metadata": {
        "id": "jbTShU9aX-ra"
      },
      "source": [
        "Frequency tags are needed, since it is the specifics of the downloaded model - it was trained in words announced by their parts of speech (and lemmetized). ** NB! ** The names of models on `rusvectores` indicate which tigset they use (Mystem, Upos, etc.)\n",
        "\n",
        "Let us ask the model 10 closest neighbors for each word and the coefficient of cosine proximity to everyone:"
      ]
    },
    {
      "cell_type": "code",
      "execution_count": 7,
      "metadata": {
        "colab": {
          "base_uri": "https://localhost:8080/"
        },
        "id": "9Uer5sHyX-ra",
        "outputId": "f1023062-9776-480b-f863-19dbd739959a"
      },
      "outputs": [
        {
          "output_type": "stream",
          "name": "stdout",
          "text": [
            "день_NOUN\n",
            "[ 0.117177  0.008562 -0.054731  0.03821   0.006885  0.041716  0.063708\n",
            "  0.070478  0.032087  0.050791]\n",
            "неделя_NOUN :  0.7242119312286377\n",
            "месяц_NOUN :  0.7178640365600586\n",
            "утро_NOUN :  0.6738513708114624\n",
            "вечер_NOUN :  0.6443344950675964\n",
            "воскресенье_NOUN :  0.6362559795379639\n",
            "час_NOUN :  0.632983386516571\n",
            "накануне_ADV :  0.6304810047149658\n",
            "днями_NOUN :  0.6276212930679321\n",
            "днемя_NOUN :  0.621060848236084\n",
            "ночь_NOUN :  0.6077756285667419\n",
            "\n",
            "\n",
            "ночь_NOUN\n",
            "[ 0.070529 -0.068594  0.029781  0.035559 -0.01488   0.072418 -0.01183\n",
            "  0.051797 -0.024269  0.034406]\n",
            "ночь_PROPN :  0.7884491682052612\n",
            "вечер_NOUN :  0.7778281569480896\n",
            "утро_NOUN :  0.7638111710548401\n",
            "полночь_NOUN :  0.7437741756439209\n",
            "рассвет_NOUN :  0.6889956593513489\n",
            "полдень_NOUN :  0.6811894178390503\n",
            "утро_PROPN :  0.6788180470466614\n",
            "сумерки_NOUN :  0.6461666822433472\n",
            "напроать_NOUN :  0.6451945900917053\n",
            "напролет_VERB :  0.6393611431121826\n",
            "\n",
            "\n",
            "человек_NOUN\n",
            "[ 0.022094 -0.077399  0.038363 -0.051602  0.000347  0.073115 -0.068763\n",
            " -0.037081 -0.057053  0.103592]\n",
            "человеколо_NOUN :  0.6339133381843567\n",
            "людямя_NOUN :  0.5752431154251099\n",
            "человек_PROPN :  0.562440037727356\n",
            "людей_NOUN :  0.5577748417854309\n",
            "плотностьнаселение_PROPN :  0.5463516116142273\n",
            "человекомя_NOUN :  0.541978120803833\n",
            "микрочел/кв.етр_NOUN :  0.5279955267906189\n",
            "человека_NOUN :  0.5220513939857483\n",
            ",человек_ADJ :  0.5200932621955872\n",
            "душа_NOUN :  0.5174600481987\n",
            "\n",
            "\n",
            "семантика_NOUN\n",
            "[ 0.145827  0.079547 -0.015398  0.044673  0.01098   0.018703 -0.017285\n",
            " -0.003601 -0.012524 -0.03982 ]\n",
            "семантический_ADJ :  0.7788299918174744\n",
            "синтаксический_ADJ :  0.7409731149673462\n",
            "-семантический_ADJ :  0.7346712946891785\n",
            "метаязык_NOUN :  0.7314320206642151\n",
            "синтаксис_NOUN :  0.7253472208976746\n",
            "семантико_ADJ :  0.723125159740448\n",
            "семантика_PROPN :  0.7222791314125061\n",
            "парадигматика_NOUN :  0.7084903717041016\n",
            "синтактика_NOUN :  0.7036083340644836\n",
            "интенсиональный_ADJ :  0.7011395692825317\n",
            "\n",
            "\n",
            "Увы, слова \"биткоин_NOUN\" нет в модели!\n"
          ]
        }
      ],
      "source": [
        "for word in words:\n",
        "    # есть ли слово в модели?\n",
        "    if word in model_ru:\n",
        "        print(word)\n",
        "        # смотрим на вектор слова (его размерность 300, смотрим на первые 10 чисел)\n",
        "        print(model_ru[word][:10])\n",
        "        # выдаем 10 ближайших соседей слова:\n",
        "        for word, sim in model_ru.most_similar(positive=[word], topn=10):\n",
        "            # слово + коэффициент косинусной близости\n",
        "            print(word, ': ', sim)\n",
        "        print('\\n')\n",
        "    else:\n",
        "        # Увы!\n",
        "        print('Увы, слова \"%s\" нет в модели!' % word)"
      ]
    },
    {
      "cell_type": "markdown",
      "metadata": {
        "id": "1GqDmAcJX-rc"
      },
      "source": [
        "We find the cosine closeness of a pair of words:"
      ]
    },
    {
      "cell_type": "code",
      "execution_count": 8,
      "metadata": {
        "colab": {
          "base_uri": "https://localhost:8080/"
        },
        "id": "MDFjOSJjX-rd",
        "outputId": "3af5be10-23a4-450f-d76c-ae0093084ce4"
      },
      "outputs": [
        {
          "output_type": "stream",
          "name": "stdout",
          "text": [
            "0.7847429\n"
          ]
        }
      ],
      "source": [
        "print(model_ru.similarity('nvidia_PROPN', 'видеокарта_NOUN'))"
      ]
    },
    {
      "cell_type": "markdown",
      "metadata": {
        "id": "B0w4pQooX-rf"
      },
      "source": [
        "What happens if you subtract Italy from pizza and add Siberia?\n",
        "\n",
        "* Positive - vectors that we add\n",
        "* Negative - vectors that we subtract"
      ]
    },
    {
      "cell_type": "code",
      "execution_count": 9,
      "metadata": {
        "colab": {
          "base_uri": "https://localhost:8080/"
        },
        "id": "N0L5_TCQX-rf",
        "outputId": "164fe806-7085-4483-a10c-86e01d5d5dd0"
      },
      "outputs": [
        {
          "output_type": "stream",
          "name": "stdout",
          "text": [
            "татарстан_NOUN\n"
          ]
        }
      ],
      "source": [
        "print(model_ru.most_similar(positive=['татарин_NOUN', 'казахстан_NOUN'], negative=['казах_NOUN'])[0][0])"
      ]
    },
    {
      "cell_type": "code",
      "execution_count": 10,
      "metadata": {
        "colab": {
          "base_uri": "https://localhost:8080/",
          "height": 36
        },
        "id": "DrN2Jc31X-rh",
        "outputId": "d64f882f-d6d0-49b1-cd2d-7884952ad350"
      },
      "outputs": [
        {
          "output_type": "execute_result",
          "data": {
            "text/plain": [
              "'манты_NOUN'"
            ],
            "application/vnd.google.colaboratory.intrinsic+json": {
              "type": "string"
            }
          },
          "metadata": {},
          "execution_count": 10
        }
      ],
      "source": [
        "model_ru.doesnt_match('бешбармак_NOUN плов_NOUN манты_NOUN'.split())"
      ]
    },
    {
      "cell_type": "markdown",
      "metadata": {
        "id": "z9XsGSE_HuFJ"
      },
      "source": [
        "** Warm exercises **\n",
        "\n",
        "Find an example of a multi-valued word for which in the top 10 (method `most_similar`) words similar to it include words related to different meanings:"
      ]
    },
    {
      "cell_type": "code",
      "execution_count": 11,
      "metadata": {
        "colab": {
          "base_uri": "https://localhost:8080/"
        },
        "id": "MWXGH79-H1ED",
        "outputId": "9c18258f-532f-42ef-fc1b-9e51fe7c8744"
      },
      "outputs": [
        {
          "output_type": "execute_result",
          "data": {
            "text/plain": [
              "[('ключ_ADJ', 0.6990529298782349),\n",
              " ('ключом_NOUN', 0.6460300087928772),\n",
              " ('ключ_PROPN', 0.6185873746871948),\n",
              " ('расшифровывание_NOUN', 0.5978684425354004),\n",
              " ('ключ_VERB', 0.5960569381713867),\n",
              " ('криптосистем_NOUN', 0.5936962962150574),\n",
              " ('отмычка_NOUN', 0.5862348675727844),\n",
              " ('отмычкий_NOUN', 0.577734649181366),\n",
              " ('зашифровывать_VERB', 0.5704915523529053),\n",
              " ('диффи-хеллман_PROPN', 0.5641186237335205)]"
            ]
          },
          "metadata": {},
          "execution_count": 11
        }
      ],
      "source": [
        "model_ru.most_similar(positive=['ключ_NOUN'], topn=10)"
      ]
    },
    {
      "cell_type": "code",
      "execution_count": 12,
      "metadata": {
        "id": "-zVyje3iPUDZ",
        "outputId": "d0ad764b-4aa2-481e-a41f-9e690d36f02b",
        "colab": {
          "base_uri": "https://localhost:8080/"
        }
      },
      "outputs": [
        {
          "output_type": "execute_result",
          "data": {
            "text/plain": [
              "[('дверца_NOUN', 0.7919579148292542),\n",
              " ('дверка_NOUN', 0.7831783890724182),\n",
              " ('отвориться_VERB', 0.7785482406616211),\n",
              " ('калитка_NOUN', 0.7784631252288818),\n",
              " ('дверной_ADJ', 0.7726611495018005),\n",
              " ('засов_NOUN', 0.7565937042236328),\n",
              " ('настежь_ADV', 0.7547726035118103),\n",
              " ('приотвориться_VERB', 0.7538771033287048),\n",
              " ('прихожая_NOUN', 0.750787615776062),\n",
              " ('отворить_VERB', 0.7491068243980408)]"
            ]
          },
          "metadata": {},
          "execution_count": 12
        }
      ],
      "source": [
        "model_ru.most_similar(positive=['дверь_NOUN'], topn=10)"
      ]
    },
    {
      "cell_type": "markdown",
      "metadata": {
        "id": "adiAA7AqIY4g"
      },
      "source": [
        "By analogy with Italy - pizza, Siberia - cracker, come up with a similar bunch of words for verification:"
      ]
    },
    {
      "cell_type": "code",
      "execution_count": 13,
      "metadata": {
        "colab": {
          "base_uri": "https://localhost:8080/"
        },
        "id": "u5bzD-ZXKOSY",
        "outputId": "7f70c45e-51c4-4cb6-9f22-27a3295126df"
      },
      "outputs": [
        {
          "output_type": "execute_result",
          "data": {
            "text/plain": [
              "[('польша_NOUN', 0.3561699390411377),\n",
              " ('франция_NOUN', 0.3416089713573456),\n",
              " ('дплс_PROPN', 0.2917874753475189),\n",
              " ('албания_NOUN', 0.2896476089954376),\n",
              " ('норвегия_NOUN', 0.27540141344070435),\n",
              " ('португалия_NOUN', 0.26797914505004883),\n",
              " ('канада_NOUN', 0.2634488642215729),\n",
              " ('каталонии_NOUN', 0.2630119025707245),\n",
              " ('италию_NOUN', 0.2511085569858551),\n",
              " ('греция_NOUN', 0.24830304086208344)]"
            ]
          },
          "metadata": {},
          "execution_count": 13
        }
      ],
      "source": [
        "model_ru.most_similar(positive=['италия_NOUN'], negative=['пицца_NOUN'])"
      ]
    },
    {
      "cell_type": "code",
      "execution_count": 14,
      "metadata": {
        "id": "Dhk-1RZaPUDa",
        "outputId": "312cb3cb-d4d7-4d99-dc04-0cf3c0327f52",
        "colab": {
          "base_uri": "https://localhost:8080/"
        }
      },
      "outputs": [
        {
          "output_type": "execute_result",
          "data": {
            "text/plain": [
              "[('королева_NOUN', 0.7274051308631897),\n",
              " ('королева_ADV', 0.6973327994346619),\n",
              " ('королева_ADJ', 0.6478138566017151),\n",
              " ('король_PROPN', 0.6415081024169922),\n",
              " ('короля_NOUN', 0.6195558905601501),\n",
              " ('королева-консорт_NOUN', 0.6013587117195129),\n",
              " ('людовик_PROPN', 0.5912467837333679),\n",
              " ('-консорт_NOUN', 0.5904233455657959),\n",
              " ('королевство_NOUN', 0.5836767554283142),\n",
              " ('монарх_NOUN', 0.5797032713890076)]"
            ]
          },
          "metadata": {},
          "execution_count": 14
        }
      ],
      "source": [
        "model_ru.most_similar(positive=['король_NOUN', 'женщина_NOUN'], negative=['мужчина_NOUN'])"
      ]
    },
    {
      "cell_type": "markdown",
      "metadata": {
        "id": "dpIDtQIzKO1M"
      },
      "source": [
        "Give an example of three words W1, W2, W3, such that W1 and W2 are synonyms, W1 and W3 are antonyms, but at the same time, Similarity (W1, W2) <Similarity (W1, W3)."
      ]
    },
    {
      "cell_type": "code",
      "execution_count": 15,
      "metadata": {
        "colab": {
          "base_uri": "https://localhost:8080/"
        },
        "id": "YLHYb34gKXgz",
        "outputId": "cf0f0d0d-1ec2-4608-9576-ec0114f9c9a4",
        "scrolled": true
      },
      "outputs": [
        {
          "output_type": "execute_result",
          "data": {
            "text/plain": [
              "[('идти_NOUN', 0.7714468240737915),\n",
              " ('пойти_VERB', 0.7684582471847534),\n",
              " ('идти_NUM', 0.6786747574806213),\n",
              " ('ихать_VERB', 0.658195972442627),\n",
              " ('идти_ADJ', 0.6211366653442383),\n",
              " ('повехать_VERB', 0.6183276772499084),\n",
              " ('брести_VERB', 0.612551748752594),\n",
              " ('подвигаться_VERB', 0.6117924451828003),\n",
              " ('плетиваться_VERB', 0.602618932723999),\n",
              " ('ида_VERB', 0.6008363366127014)]"
            ]
          },
          "metadata": {},
          "execution_count": 15
        }
      ],
      "source": [
        "model_ru.most_similar(positive=['идти_VERB'], topn=10)"
      ]
    },
    {
      "cell_type": "markdown",
      "metadata": {
        "id": "0rfihwVJKwzC"
      },
      "source": [
        "### Exercise\n",
        "\n",
        "Write a function that accepts the proposal to the input, and replaces the random noun in it with Associat - the closest word to it from the Word2VEC model.\n",
        "\n",
        "NB: For this you will need a morphological analyzer. I advise you to use Pymorphy (we briefly talked about it at the last seminar)."
      ]
    },
    {
      "cell_type": "markdown",
      "metadata": {
        "id": "nCMPmoRrM3ES"
      },
      "source": [
        "How to use Pymorphy:"
      ]
    },
    {
      "cell_type": "code",
      "execution_count": 19,
      "metadata": {
        "id": "AYvl-ttDNCJl",
        "scrolled": true
      },
      "outputs": [],
      "source": [
        "analyser = MorphAnalyzer()"
      ]
    },
    {
      "cell_type": "code",
      "metadata": {
        "id": "e0f49416"
      },
      "source": [
        "!pip uninstall -y pymorphy2 pymorphy2-dicts-ru\n",
        "!pip install pymorphy2\n",
        "!pip install pymorphy2-dicts-ru"
      ],
      "execution_count": null,
      "outputs": []
    },
    {
      "cell_type": "code",
      "execution_count": 20,
      "metadata": {
        "colab": {
          "base_uri": "https://localhost:8080/"
        },
        "id": "xUvP-U-nNF6Y",
        "outputId": "8c806ce6-9b68-401e-8787-a346ab640e48"
      },
      "outputs": [
        {
          "output_type": "execute_result",
          "data": {
            "text/plain": [
              "[Parse(word='слово', tag=OpencorporaTag('NOUN,inan,neut sing,nomn'), normal_form='слово', score=0.59813, methods_stack=((DictionaryAnalyzer(), 'слово', 54, 0),)),\n",
              " Parse(word='слово', tag=OpencorporaTag('NOUN,inan,neut sing,accs'), normal_form='слово', score=0.401869, methods_stack=((DictionaryAnalyzer(), 'слово', 54, 3),))]"
            ]
          },
          "metadata": {},
          "execution_count": 20
        }
      ],
      "source": [
        "# разобрать слово (в данном случае возможно два разбора, поэтому получаем список из двух элементов)\n",
        "result = analyser.parse('слово')\n",
        "result"
      ]
    },
    {
      "cell_type": "code",
      "execution_count": 21,
      "metadata": {
        "colab": {
          "base_uri": "https://localhost:8080/",
          "height": 36
        },
        "id": "enrQF-SQOtQP",
        "outputId": "59663031-ee71-4580-e735-2dd444c29e2f"
      },
      "outputs": [
        {
          "output_type": "execute_result",
          "data": {
            "text/plain": [
              "'NOUN'"
            ],
            "application/vnd.google.colaboratory.intrinsic+json": {
              "type": "string"
            }
          },
          "metadata": {},
          "execution_count": 21
        }
      ],
      "source": [
        "# достать часть речи\n",
        "result[0].tag.POS"
      ]
    },
    {
      "cell_type": "code",
      "execution_count": 22,
      "metadata": {
        "colab": {
          "base_uri": "https://localhost:8080/",
          "height": 36
        },
        "id": "a8P6VpjDPR_z",
        "outputId": "68d8343b-3c27-4e9f-85af-bfda065bb17f"
      },
      "outputs": [
        {
          "output_type": "execute_result",
          "data": {
            "text/plain": [
              "'слову'"
            ],
            "application/vnd.google.colaboratory.intrinsic+json": {
              "type": "string"
            }
          },
          "metadata": {},
          "execution_count": 22
        }
      ],
      "source": [
        "# поставить в дательный падеж\n",
        "result[0].inflect(frozenset(['datv'])).word"
      ]
    },
    {
      "cell_type": "markdown",
      "metadata": {
        "id": "PNhjJC-xPwMg"
      },
      "source": [
        "Your function (for simplicity, you can not try to put the word in the \"necessary\" form and limit yourself to a nominative case):"
      ]
    },
    {
      "cell_type": "code",
      "execution_count": 23,
      "metadata": {
        "colab": {
          "base_uri": "https://localhost:8080/"
        },
        "id": "uAZnJ1tH_c_S",
        "outputId": "791c46d6-d4d1-4c4e-bb93-d9ad306024a1",
        "scrolled": true
      },
      "outputs": [
        {
          "output_type": "execute_result",
          "data": {
            "text/plain": [
              "[('покупать_VERB', 0.8457080125808716)]"
            ]
          },
          "metadata": {},
          "execution_count": 23
        }
      ],
      "source": [
        "model_ru.most_similar(positive=['купить_VERB'], topn=1)"
      ]
    },
    {
      "cell_type": "code",
      "execution_count": 24,
      "metadata": {
        "colab": {
          "base_uri": "https://localhost:8080/",
          "height": 36
        },
        "id": "X3i8IRL9-VO8",
        "outputId": "16dd263a-9000-4eeb-a3c4-21176e02b763"
      },
      "outputs": [
        {
          "output_type": "execute_result",
          "data": {
            "text/plain": [
              "'крошечный человеколо видеть обезьяна франция '"
            ],
            "application/vnd.google.colaboratory.intrinsic+json": {
              "type": "string"
            }
          },
          "metadata": {},
          "execution_count": 24
        }
      ],
      "source": [
        "sent = 'маленький_ADJ человек_NOUN увидеть_VERB обезьяна_NOUN италия_NOUN'.split()\n",
        "new_sent = ''\n",
        "for word in sent:\n",
        "    # word = word.lower()\n",
        "    result = analyser.parse(word)[0].tag.POS\n",
        "    new_word = f'{word}_{result}'\n",
        "    top1 = model_ru.most_similar(positive=[word], topn=1)[0][0].split('_')[0]\n",
        "    new_sent += top1 + ' '\n",
        "new_sent"
      ]
    },
    {
      "cell_type": "code",
      "execution_count": 32,
      "metadata": {
        "id": "y5slDKGtP23t"
      },
      "outputs": [],
      "source": [
        "import random\n",
        "\n",
        "def change_random_noun(sentence):\n",
        "    \"\"\"\n",
        "    Replaces a random noun in a sentence with its closest associate from the Word2Vec model.\n",
        "\n",
        "    Args:\n",
        "        sentence (str): The input sentence.\n",
        "\n",
        "    Returns:\n",
        "        str: The sentence with a random noun replaced by its associate,\n",
        "             or the original sentence if no nouns are found or the noun\n",
        "             is not in the model.\n",
        "    \"\"\"\n",
        "    words = sentence.split()\n",
        "    nouns = []\n",
        "    for word in words:\n",
        "        parsed_word = analyser.parse(word.lower())\n",
        "        if parsed_word and parsed_word[0].tag.POS == 'NOUN':\n",
        "            nouns.append(word)\n",
        "\n",
        "    if not nouns:\n",
        "        return sentence\n",
        "\n",
        "    random_noun = random.choice(nouns)\n",
        "    tagged_random_noun = f\"{random_noun.lower()}_NOUN\"\n",
        "\n",
        "    if tagged_random_noun in model_ru:\n",
        "        try:\n",
        "            closest_associate = model_ru.most_similar(positive=[tagged_random_noun], topn=1)[0][0].split('_')[0]\n",
        "            new_sentence = sentence.replace(random_noun, closest_associate, 1)\n",
        "            return new_sentence\n",
        "        except IndexError:\n",
        "            # Handle cases where most_similar might return an empty list\n",
        "            return sentence\n",
        "    else:\n",
        "        return sentence"
      ]
    },
    {
      "cell_type": "markdown",
      "metadata": {
        "id": "ZNHMtmbqX-rl"
      },
      "source": [
        "## how to train your model\n",
        "\n",
        "As training data, we take the marked and unreasonable reviews about films (the dataset is taken with Kaggle)."
      ]
    },
    {
      "cell_type": "code",
      "execution_count": 33,
      "metadata": {
        "colab": {
          "base_uri": "https://localhost:8080/"
        },
        "id": "B2wv-vSxX-ro",
        "outputId": "005cd516-2598-4f91-d4a7-fa6379bb5adc"
      },
      "outputs": [
        {
          "output_type": "execute_result",
          "data": {
            "text/plain": [
              "50000"
            ]
          },
          "metadata": {},
          "execution_count": 33
        }
      ],
      "source": [
        "data = pd.read_csv(\"unlabeledTrainData.tsv\", header=0, delimiter=\"\\t\", quoting=3)\n",
        "\n",
        "len(data)"
      ]
    },
    {
      "cell_type": "code",
      "execution_count": 27,
      "metadata": {
        "colab": {
          "base_uri": "https://localhost:8080/",
          "height": 206
        },
        "id": "eEGmrh-nX-rq",
        "outputId": "a05c1c06-5e27-41d9-8e47-d00c0a4852ce"
      },
      "outputs": [
        {
          "output_type": "execute_result",
          "data": {
            "text/plain": [
              "          id                                             review\n",
              "0   \"9999_0\"  \"Watching Time Chasers, it obvious that it was...\n",
              "1  \"45057_0\"  \"I saw this film about 20 years ago and rememb...\n",
              "2  \"15561_0\"  \"Minor Spoilers<br /><br />In New York, Joan B...\n",
              "3   \"7161_0\"  \"I went to see this film with a great deal of ...\n",
              "4  \"43971_0\"  \"Yes, I agree with everyone on this site this ..."
            ],
            "text/html": [
              "\n",
              "  <div id=\"df-b38f5297-8107-4b3a-ae69-9119ce3381c6\" class=\"colab-df-container\">\n",
              "    <div>\n",
              "<style scoped>\n",
              "    .dataframe tbody tr th:only-of-type {\n",
              "        vertical-align: middle;\n",
              "    }\n",
              "\n",
              "    .dataframe tbody tr th {\n",
              "        vertical-align: top;\n",
              "    }\n",
              "\n",
              "    .dataframe thead th {\n",
              "        text-align: right;\n",
              "    }\n",
              "</style>\n",
              "<table border=\"1\" class=\"dataframe\">\n",
              "  <thead>\n",
              "    <tr style=\"text-align: right;\">\n",
              "      <th></th>\n",
              "      <th>id</th>\n",
              "      <th>review</th>\n",
              "    </tr>\n",
              "  </thead>\n",
              "  <tbody>\n",
              "    <tr>\n",
              "      <th>0</th>\n",
              "      <td>\"9999_0\"</td>\n",
              "      <td>\"Watching Time Chasers, it obvious that it was...</td>\n",
              "    </tr>\n",
              "    <tr>\n",
              "      <th>1</th>\n",
              "      <td>\"45057_0\"</td>\n",
              "      <td>\"I saw this film about 20 years ago and rememb...</td>\n",
              "    </tr>\n",
              "    <tr>\n",
              "      <th>2</th>\n",
              "      <td>\"15561_0\"</td>\n",
              "      <td>\"Minor Spoilers&lt;br /&gt;&lt;br /&gt;In New York, Joan B...</td>\n",
              "    </tr>\n",
              "    <tr>\n",
              "      <th>3</th>\n",
              "      <td>\"7161_0\"</td>\n",
              "      <td>\"I went to see this film with a great deal of ...</td>\n",
              "    </tr>\n",
              "    <tr>\n",
              "      <th>4</th>\n",
              "      <td>\"43971_0\"</td>\n",
              "      <td>\"Yes, I agree with everyone on this site this ...</td>\n",
              "    </tr>\n",
              "  </tbody>\n",
              "</table>\n",
              "</div>\n",
              "    <div class=\"colab-df-buttons\">\n",
              "\n",
              "  <div class=\"colab-df-container\">\n",
              "    <button class=\"colab-df-convert\" onclick=\"convertToInteractive('df-b38f5297-8107-4b3a-ae69-9119ce3381c6')\"\n",
              "            title=\"Convert this dataframe to an interactive table.\"\n",
              "            style=\"display:none;\">\n",
              "\n",
              "  <svg xmlns=\"http://www.w3.org/2000/svg\" height=\"24px\" viewBox=\"0 -960 960 960\">\n",
              "    <path d=\"M120-120v-720h720v720H120Zm60-500h600v-160H180v160Zm220 220h160v-160H400v160Zm0 220h160v-160H400v160ZM180-400h160v-160H180v160Zm440 0h160v-160H620v160ZM180-180h160v-160H180v160Zm440 0h160v-160H620v160Z\"/>\n",
              "  </svg>\n",
              "    </button>\n",
              "\n",
              "  <style>\n",
              "    .colab-df-container {\n",
              "      display:flex;\n",
              "      gap: 12px;\n",
              "    }\n",
              "\n",
              "    .colab-df-convert {\n",
              "      background-color: #E8F0FE;\n",
              "      border: none;\n",
              "      border-radius: 50%;\n",
              "      cursor: pointer;\n",
              "      display: none;\n",
              "      fill: #1967D2;\n",
              "      height: 32px;\n",
              "      padding: 0 0 0 0;\n",
              "      width: 32px;\n",
              "    }\n",
              "\n",
              "    .colab-df-convert:hover {\n",
              "      background-color: #E2EBFA;\n",
              "      box-shadow: 0px 1px 2px rgba(60, 64, 67, 0.3), 0px 1px 3px 1px rgba(60, 64, 67, 0.15);\n",
              "      fill: #174EA6;\n",
              "    }\n",
              "\n",
              "    .colab-df-buttons div {\n",
              "      margin-bottom: 4px;\n",
              "    }\n",
              "\n",
              "    [theme=dark] .colab-df-convert {\n",
              "      background-color: #3B4455;\n",
              "      fill: #D2E3FC;\n",
              "    }\n",
              "\n",
              "    [theme=dark] .colab-df-convert:hover {\n",
              "      background-color: #434B5C;\n",
              "      box-shadow: 0px 1px 3px 1px rgba(0, 0, 0, 0.15);\n",
              "      filter: drop-shadow(0px 1px 2px rgba(0, 0, 0, 0.3));\n",
              "      fill: #FFFFFF;\n",
              "    }\n",
              "  </style>\n",
              "\n",
              "    <script>\n",
              "      const buttonEl =\n",
              "        document.querySelector('#df-b38f5297-8107-4b3a-ae69-9119ce3381c6 button.colab-df-convert');\n",
              "      buttonEl.style.display =\n",
              "        google.colab.kernel.accessAllowed ? 'block' : 'none';\n",
              "\n",
              "      async function convertToInteractive(key) {\n",
              "        const element = document.querySelector('#df-b38f5297-8107-4b3a-ae69-9119ce3381c6');\n",
              "        const dataTable =\n",
              "          await google.colab.kernel.invokeFunction('convertToInteractive',\n",
              "                                                    [key], {});\n",
              "        if (!dataTable) return;\n",
              "\n",
              "        const docLinkHtml = 'Like what you see? Visit the ' +\n",
              "          '<a target=\"_blank\" href=https://colab.research.google.com/notebooks/data_table.ipynb>data table notebook</a>'\n",
              "          + ' to learn more about interactive tables.';\n",
              "        element.innerHTML = '';\n",
              "        dataTable['output_type'] = 'display_data';\n",
              "        await google.colab.output.renderOutput(dataTable, element);\n",
              "        const docLink = document.createElement('div');\n",
              "        docLink.innerHTML = docLinkHtml;\n",
              "        element.appendChild(docLink);\n",
              "      }\n",
              "    </script>\n",
              "  </div>\n",
              "\n",
              "\n",
              "    <div id=\"df-0d7d5c10-bc4c-46e9-8440-c2cbf12f132b\">\n",
              "      <button class=\"colab-df-quickchart\" onclick=\"quickchart('df-0d7d5c10-bc4c-46e9-8440-c2cbf12f132b')\"\n",
              "                title=\"Suggest charts\"\n",
              "                style=\"display:none;\">\n",
              "\n",
              "<svg xmlns=\"http://www.w3.org/2000/svg\" height=\"24px\"viewBox=\"0 0 24 24\"\n",
              "     width=\"24px\">\n",
              "    <g>\n",
              "        <path d=\"M19 3H5c-1.1 0-2 .9-2 2v14c0 1.1.9 2 2 2h14c1.1 0 2-.9 2-2V5c0-1.1-.9-2-2-2zM9 17H7v-7h2v7zm4 0h-2V7h2v10zm4 0h-2v-4h2v4z\"/>\n",
              "    </g>\n",
              "</svg>\n",
              "      </button>\n",
              "\n",
              "<style>\n",
              "  .colab-df-quickchart {\n",
              "      --bg-color: #E8F0FE;\n",
              "      --fill-color: #1967D2;\n",
              "      --hover-bg-color: #E2EBFA;\n",
              "      --hover-fill-color: #174EA6;\n",
              "      --disabled-fill-color: #AAA;\n",
              "      --disabled-bg-color: #DDD;\n",
              "  }\n",
              "\n",
              "  [theme=dark] .colab-df-quickchart {\n",
              "      --bg-color: #3B4455;\n",
              "      --fill-color: #D2E3FC;\n",
              "      --hover-bg-color: #434B5C;\n",
              "      --hover-fill-color: #FFFFFF;\n",
              "      --disabled-bg-color: #3B4455;\n",
              "      --disabled-fill-color: #666;\n",
              "  }\n",
              "\n",
              "  .colab-df-quickchart {\n",
              "    background-color: var(--bg-color);\n",
              "    border: none;\n",
              "    border-radius: 50%;\n",
              "    cursor: pointer;\n",
              "    display: none;\n",
              "    fill: var(--fill-color);\n",
              "    height: 32px;\n",
              "    padding: 0;\n",
              "    width: 32px;\n",
              "  }\n",
              "\n",
              "  .colab-df-quickchart:hover {\n",
              "    background-color: var(--hover-bg-color);\n",
              "    box-shadow: 0 1px 2px rgba(60, 64, 67, 0.3), 0 1px 3px 1px rgba(60, 64, 67, 0.15);\n",
              "    fill: var(--button-hover-fill-color);\n",
              "  }\n",
              "\n",
              "  .colab-df-quickchart-complete:disabled,\n",
              "  .colab-df-quickchart-complete:disabled:hover {\n",
              "    background-color: var(--disabled-bg-color);\n",
              "    fill: var(--disabled-fill-color);\n",
              "    box-shadow: none;\n",
              "  }\n",
              "\n",
              "  .colab-df-spinner {\n",
              "    border: 2px solid var(--fill-color);\n",
              "    border-color: transparent;\n",
              "    border-bottom-color: var(--fill-color);\n",
              "    animation:\n",
              "      spin 1s steps(1) infinite;\n",
              "  }\n",
              "\n",
              "  @keyframes spin {\n",
              "    0% {\n",
              "      border-color: transparent;\n",
              "      border-bottom-color: var(--fill-color);\n",
              "      border-left-color: var(--fill-color);\n",
              "    }\n",
              "    20% {\n",
              "      border-color: transparent;\n",
              "      border-left-color: var(--fill-color);\n",
              "      border-top-color: var(--fill-color);\n",
              "    }\n",
              "    30% {\n",
              "      border-color: transparent;\n",
              "      border-left-color: var(--fill-color);\n",
              "      border-top-color: var(--fill-color);\n",
              "      border-right-color: var(--fill-color);\n",
              "    }\n",
              "    40% {\n",
              "      border-color: transparent;\n",
              "      border-right-color: var(--fill-color);\n",
              "      border-top-color: var(--fill-color);\n",
              "    }\n",
              "    60% {\n",
              "      border-color: transparent;\n",
              "      border-right-color: var(--fill-color);\n",
              "    }\n",
              "    80% {\n",
              "      border-color: transparent;\n",
              "      border-right-color: var(--fill-color);\n",
              "      border-bottom-color: var(--fill-color);\n",
              "    }\n",
              "    90% {\n",
              "      border-color: transparent;\n",
              "      border-bottom-color: var(--fill-color);\n",
              "    }\n",
              "  }\n",
              "</style>\n",
              "\n",
              "      <script>\n",
              "        async function quickchart(key) {\n",
              "          const quickchartButtonEl =\n",
              "            document.querySelector('#' + key + ' button');\n",
              "          quickchartButtonEl.disabled = true;  // To prevent multiple clicks.\n",
              "          quickchartButtonEl.classList.add('colab-df-spinner');\n",
              "          try {\n",
              "            const charts = await google.colab.kernel.invokeFunction(\n",
              "                'suggestCharts', [key], {});\n",
              "          } catch (error) {\n",
              "            console.error('Error during call to suggestCharts:', error);\n",
              "          }\n",
              "          quickchartButtonEl.classList.remove('colab-df-spinner');\n",
              "          quickchartButtonEl.classList.add('colab-df-quickchart-complete');\n",
              "        }\n",
              "        (() => {\n",
              "          let quickchartButtonEl =\n",
              "            document.querySelector('#df-0d7d5c10-bc4c-46e9-8440-c2cbf12f132b button');\n",
              "          quickchartButtonEl.style.display =\n",
              "            google.colab.kernel.accessAllowed ? 'block' : 'none';\n",
              "        })();\n",
              "      </script>\n",
              "    </div>\n",
              "\n",
              "    </div>\n",
              "  </div>\n"
            ],
            "application/vnd.google.colaboratory.intrinsic+json": {
              "type": "dataframe",
              "variable_name": "data",
              "summary": "{\n  \"name\": \"data\",\n  \"rows\": 50000,\n  \"fields\": [\n    {\n      \"column\": \"id\",\n      \"properties\": {\n        \"dtype\": \"string\",\n        \"num_unique_values\": 50000,\n        \"samples\": [\n          \"\\\"2545_0\\\"\",\n          \"\\\"8811_0\\\"\",\n          \"\\\"3696_0\\\"\"\n        ],\n        \"semantic_type\": \"\",\n        \"description\": \"\"\n      }\n    },\n    {\n      \"column\": \"review\",\n      \"properties\": {\n        \"dtype\": \"string\",\n        \"num_unique_values\": 49507,\n        \"samples\": [\n          \"\\\"Oh God, where do I begin? The murder in the alley? The bad guy with the shark mask? The Nazi Pope? The clumsy lip synching by the plastic woman in the wheel chair? The plastic woman having sex? All the above? Yes and much more.<br /><br />Lets cut to the chase: this movie is awful. The first thing is the bad script. Crappy burger chain using human remains funded by the 'Nazi Pope' with crappy F-rated detectives on their tale. And somehow related to a shark-man who wants revenge. Already makes your head hurt.<br /><br />Then you got the crappy sound editing and the lousy camera work. Could they get the mannequin to lip synch right or was that out of the budget? And what is up with the mannequin sex scene? Just plain retarded in every aspect.<br /><br />Quite frankly this is the worst movie I have never seen such bad acting in all my life. In fact, this is the worst movie I have ever seen so far in my life. The only comparable film in horrible quality is \\\\\\\"Deady Drifter\\\\\\\" - aka \\\\\\\"Out\\\\\\\" with Danny Glover. But this one, with its non-ending ending and lack of brain power prove to be the undoing before this one ever began.<br /><br />Sucks, sucks, and yes - sucks. \\\\\\\"F\\\\\\\"\\\"\",\n          \"\\\"Okay, I understand that this is a kid's movie, and that it's intended to simply be fun. However, that's no excuse for the wreck of a screenplay provided by Britt Allcroft. Some day I may be compelled out of sheer obsession to document the many problems with this movie, but the most fundamental flaw is the continued use of the \\\\\\\"Shining Time\\\\\\\" additions to the Awdry stories. Didi Conn is the only thing shining in Shining Time, created for US TV audiences to stitch together the excellent model railroad Thomas stories. The only thing is, they didn't need to be stitched together, as they stand up just fine on their own in book and video. Worse, the Shining Time portions on TV are excruciating to watch...and now the whole premise is brought to a movie.<br /><br />Now it seems there's some kind of magic railroad connecting a mythical British island railroad to Shining Time, clearly in the USA. In fact, it must be in Lancaster, PA, USA, because the Strasburg Railroad locomotive #475 makes a few appearances in the movie (in Strasburg and Harrisburg, PA) and I doubt it's ever been across the Atlantic.<br /><br />Anyway, to make a long and painful story short, there's almost no motivation for any of the characters in this story to do anything at all. Somehow Mr. Conductor (not an Awdry creation) is running out of gold dust, which will somehow make his \\\\\\\"universe\\\\\\\" fall apart. There's no mention as to why supplies would dwindle to nothing when it's the only thing holding Sodor together - Mr. Conductor is pretty irresponsible if you ask me. He summons his idiot brother who is no help at all, and together they and the rest of the characters stumble on the answer and save the day in a completely underwhelming conclusion.<br /><br />The gold dust emergency happens to coincide with the apparent return of a diesel engine intent on destroying steam engines. The whole evil-diesel and his predictable sidekick-duo are completely unnecessary and just scare the little kids (like my two-year-old). I assume that the marketing folks needed a few more new characters to work into the merchandising mix because there's no excuse for the plot damage caused by the diesel.<br /><br />Your kids may enjoy the railroad scenes, but don't watch this movie unless you want your brains to leak out of your head and turn to mush. The models are great, but the acting and writing are ridiculous. Avoid at all costs!!!\\\"\",\n          \"\\\"The Fans of \\\\\\\"Star Wars - Clone Wars\\\\\\\" may tar and feather me for my opinion, but after seeing this on TV a few months ago (aired directly after the original \\\\\\\"Star Wars - Attack of the Clones\\\\\\\"-Picture) i was extremely disappointed. As a \\\\\\\"Star Wars\\\\\\\"-Fan since 1977 i expected something, that surely will not par up to George Lucas original movies, but a least pay homage to the original movies, but after 15 Minutes i turned the TV off. The cheap animation (boldly called in another comment \\\\\\\"state-of-the-art\\\\\\\"...) was on the roughest level, The movings, explosions and laser-shots was always the same animation-cels reused and reused, the depicting of the actors in his animated forms was ridiculous, the dialogue was extremely stupid... i can't help, i simply did not like this film! It was an insult to George Lucas original movies for me! The next shock for me was to search here on the IMDb for it... Rating 8.1!! Come on: Ed Wood (in drunken condition) would it done better! Everyone has it's own opinion, but i did not like this film, and no power (even not \\\\\\\"the force\\\\\\\" :-) will force me to see the whole thing!\\\"\"\n        ],\n        \"semantic_type\": \"\",\n        \"description\": \"\"\n      }\n    }\n  ]\n}"
            }
          },
          "metadata": {},
          "execution_count": 27
        }
      ],
      "source": [
        "data.head()"
      ]
    },
    {
      "cell_type": "markdown",
      "metadata": {
        "id": "oIZaQ3kYX-rt"
      },
      "source": [
        "We remove the link from the data, the HTML damping and non-table symbols, and then bring everything to the lower register and tocenize. The output is an array of sentences, each of which is an array of words. A tokenizer from the `nltk` library is used here."
      ]
    },
    {
      "cell_type": "code",
      "execution_count": 34,
      "metadata": {
        "id": "ZAzxyk3WTgrd"
      },
      "outputs": [],
      "source": [
        "tokenizer = nltk.data.load('tokenizers/punkt/english.pickle')"
      ]
    },
    {
      "cell_type": "code",
      "metadata": {
        "colab": {
          "base_uri": "https://localhost:8080/"
        },
        "id": "3a74384c",
        "outputId": "1f2bc30e-299b-4094-a384-07e0c1540430"
      },
      "source": [
        "import nltk\n",
        "nltk.download('punkt_tab')"
      ],
      "execution_count": 30,
      "outputs": [
        {
          "output_type": "stream",
          "name": "stderr",
          "text": [
            "[nltk_data] Downloading package punkt_tab to /root/nltk_data...\n",
            "[nltk_data]   Unzipping tokenizers/punkt_tab.zip.\n"
          ]
        },
        {
          "output_type": "execute_result",
          "data": {
            "text/plain": [
              "True"
            ]
          },
          "metadata": {},
          "execution_count": 30
        }
      ]
    },
    {
      "cell_type": "code",
      "execution_count": 35,
      "metadata": {
        "id": "irbunSOfX-rt"
      },
      "outputs": [],
      "source": [
        "def review_to_wordlist(review, remove_stopwords=False ):\n",
        "    # убираем ссылки\n",
        "    review = re.sub(r\"http[s]?://(?:[a-zA-Z]|[0-9]|[$-_@.&+]|[!*\\(\\),]|(?:%[0-9a-fA-F][0-9a-fA-F]))+\", \" \", review)\n",
        "    # достаем сам текст\n",
        "    review_text = BeautifulSoup(review, \"lxml\").get_text()\n",
        "    # оставляем только буквенные символы\n",
        "    review_text = re.sub(\"[^a-zA-Z]\",\" \", review_text)\n",
        "    # приводим к нижнему регистру и разбиваем на слова по символу пробела\n",
        "    words = review_text.lower().split()\n",
        "    if remove_stopwords: # убираем стоп-слова\n",
        "        stops = stopwords.words(\"english\")\n",
        "        words = [w for w in words if not w in stops]\n",
        "    return(words)\n",
        "\n",
        "def review_to_sentences(review, tokenizer, remove_stopwords=False):\n",
        "    # разбиваем обзор на предложения\n",
        "    raw_sentences = tokenizer.tokenize(review.strip())\n",
        "    sentences = []\n",
        "    # применяем предыдущую функцию к каждому предложению\n",
        "    for raw_sentence in raw_sentences:\n",
        "        if len(raw_sentence) > 0:\n",
        "            sentences.append(review_to_wordlist(raw_sentence, remove_stopwords))\n",
        "    return sentences"
      ]
    },
    {
      "cell_type": "code",
      "execution_count": 36,
      "metadata": {
        "colab": {
          "base_uri": "https://localhost:8080/"
        },
        "id": "bolPEuQgX-rv",
        "outputId": "cae8e5d5-0fa7-45c3-b044-a080fa864965"
      },
      "outputs": [
        {
          "output_type": "stream",
          "name": "stdout",
          "text": [
            "Parsing sentences from training set...\n"
          ]
        }
      ],
      "source": [
        "#logging.basicConfig(format='%(asctime)s : %(levelname)s : %(message)s', level=logging.INFO)\n",
        "\n",
        "sentences = []\n",
        "\n",
        "print(\"Parsing sentences from training set...\")\n",
        "for review in data[\"review\"]:\n",
        "    sentences += review_to_sentences(review, tokenizer)"
      ]
    },
    {
      "cell_type": "code",
      "execution_count": 37,
      "metadata": {
        "colab": {
          "base_uri": "https://localhost:8080/"
        },
        "id": "RCgyQhmxNmTo",
        "outputId": "57fd01df-eac8-4e3d-d10b-f5f320633758"
      },
      "outputs": [
        {
          "output_type": "stream",
          "name": "stderr",
          "text": [
            "[nltk_data] Downloading package stopwords to /root/nltk_data...\n",
            "[nltk_data]   Unzipping corpora/stopwords.zip.\n"
          ]
        },
        {
          "output_type": "execute_result",
          "data": {
            "text/plain": [
              "True"
            ]
          },
          "metadata": {},
          "execution_count": 37
        }
      ],
      "source": [
        "nltk.download('stopwords')"
      ]
    },
    {
      "cell_type": "code",
      "execution_count": 38,
      "metadata": {
        "colab": {
          "base_uri": "https://localhost:8080/"
        },
        "id": "FbrH6TdfX-rx",
        "outputId": "6ec76e23-0ad1-424e-e193-b21deec60481"
      },
      "outputs": [
        {
          "output_type": "stream",
          "name": "stdout",
          "text": [
            "529416\n",
            "['watching', 'time', 'chasers', 'it', 'obvious', 'that', 'it', 'was', 'made', 'by', 'a', 'bunch', 'of', 'friends']\n"
          ]
        }
      ],
      "source": [
        "print(len(sentences))\n",
        "print(sentences[0])"
      ]
    },
    {
      "cell_type": "code",
      "execution_count": 39,
      "metadata": {
        "id": "Cqb_NOteX-rz"
      },
      "outputs": [],
      "source": [
        "# это понадобится нам позже\n",
        "\n",
        "with open('clean_text.txt', 'w') as f:\n",
        "    for s in sentences[:5000]:\n",
        "        f.write(' '.join(s))\n",
        "        f.write('\\n')"
      ]
    },
    {
      "cell_type": "markdown",
      "metadata": {
        "id": "qqFhuv7XX-r1"
      },
      "source": [
        "We teach and save the model.\n",
        "\n",
        "\n",
        "Main parameters:\n",
        "* Data must be an iterized object\n",
        "* Size - size vector,\n",
        "* Window - observation window size,\n",
        "* min_count - min. The frequency of the word in the case,\n",
        "* SG-used learning algorithm (0-CBOW, 1-SKIP-GRAM),\n",
        "* sample - threshold for download of high -frequency words,\n",
        "* works - the number of flows,\n",
        "* alpha — learning rate,\n",
        "* Iter - the number of iterations,\n",
        "* max_vocab_size - allows you to set the restriction from memory when creating a dictionary (i.e., if the restriction is exceeded, then low -frequency words will be released). For comparison: 10 million words = 1GB RAM.\n",
        "\n",
        "** NB! ** Please note that the modeling of the model does not include preprocessing! This means that getting rid of punctuation, leading words to the lower register, lemmetizing them, and frequency tags will have to be affixed before modeling the model (unless, of course, this is necessary for your task). Those. In what form the words will be in the original text, in this they will be in the model."
      ]
    },
    {
      "cell_type": "code",
      "execution_count": 40,
      "metadata": {
        "colab": {
          "base_uri": "https://localhost:8080/"
        },
        "id": "OB2FqIioX-r1",
        "outputId": "547b54bc-cff5-4b58-a214-c2a5e944ab09"
      },
      "outputs": [
        {
          "output_type": "stream",
          "name": "stdout",
          "text": [
            "Training model...\n",
            "CPU times: user 5 µs, sys: 1e+03 ns, total: 6 µs\n",
            "Wall time: 9.54 µs\n"
          ]
        }
      ],
      "source": [
        "print(\"Training model...\")\n",
        "\n",
        "%time\n",
        "model_en = word2vec.Word2Vec(sentences, workers=4, vector_size=300, min_count=10, window=10, sample=1e-3)"
      ]
    },
    {
      "cell_type": "markdown",
      "metadata": {
        "id": "HFU6SYAZX-r3"
      },
      "source": [
        "We look how many words are in the model."
      ]
    },
    {
      "cell_type": "code",
      "execution_count": 41,
      "metadata": {
        "colab": {
          "base_uri": "https://localhost:8080/"
        },
        "id": "HA3P0CUYX-r4",
        "outputId": "8b3efaf7-bfe3-4f6a-c84e-6dd19c13fcd2"
      },
      "outputs": [
        {
          "output_type": "stream",
          "name": "stdout",
          "text": [
            "28308\n"
          ]
        }
      ],
      "source": [
        "print(len(model_en.wv.key_to_index))"
      ]
    },
    {
      "cell_type": "markdown",
      "metadata": {
        "id": "2mU9sbGYX-r8"
      },
      "source": [
        "Let's try to evaluate the model manually by solving examples. A little given below, try to come up with your own."
      ]
    },
    {
      "cell_type": "code",
      "execution_count": 42,
      "metadata": {
        "colab": {
          "base_uri": "https://localhost:8080/"
        },
        "id": "n8OQxmUyX-r9",
        "outputId": "0f3a6c27-b949-4120-9937-a3b12a06d6e1"
      },
      "outputs": [
        {
          "output_type": "stream",
          "name": "stdout",
          "text": [
            "[('queen', 0.5786672830581665), ('princess', 0.5593191981315613), ('prince', 0.504291832447052)]\n",
            "[('men', 0.6133282780647278)]\n",
            "[('europe', 0.7352497577667236), ('germany', 0.7302961945533752), ('uk', 0.71626216173172)]\n",
            "novel\n"
          ]
        }
      ],
      "source": [
        "print(model_en.wv.most_similar(positive=[\"king\", \"woman\"], negative=[\"man\"], topn=3))\n",
        "print(model_en.wv.most_similar(positive=[\"dogs\", \"man\"], negative=[\"dog\"], topn=1))\n",
        "\n",
        "print(model_en.wv.most_similar(\"usa\", topn=3))\n",
        "\n",
        "print(model_en.wv.doesnt_match(\"comedy thriller western novel\".split()))"
      ]
    },
    {
      "cell_type": "markdown",
      "metadata": {
        "id": "juR4NX0wX-r_"
      },
      "source": [
        "### How to receive an existing model\n",
        "\n",
        "When training, the “weight” models are initialized by accident, but it can be used to initialize weight vectors from a pre -scientific model, thus, as it were, who is accustomed to it.\n",
        "\n",
        "First, let's see the proximity of some pair of words in the existing model, then to compare the result with the learned one."
      ]
    },
    {
      "cell_type": "code",
      "execution_count": 43,
      "metadata": {
        "colab": {
          "base_uri": "https://localhost:8080/"
        },
        "id": "rAUVp96kX-sA",
        "outputId": "fd318966-dbb8-4dd2-a5e8-4b74970f5ce8"
      },
      "outputs": [
        {
          "output_type": "execute_result",
          "data": {
            "text/plain": [
              "0.6908767"
            ]
          },
          "metadata": {},
          "execution_count": 43
        }
      ],
      "source": [
        "model_en.wv.similarity('italy', 'north')"
      ]
    },
    {
      "cell_type": "markdown",
      "metadata": {
        "id": "Mxsz8DKMX-sD"
      },
      "source": [
        "As additional data for learning, take the English text “Alice in the Zadaker”."
      ]
    },
    {
      "cell_type": "code",
      "execution_count": 44,
      "metadata": {
        "colab": {
          "base_uri": "https://localhost:8080/"
        },
        "id": "yHuXJgB_X-sI",
        "outputId": "23f25810-039d-4426-e2c8-562ef332c28b"
      },
      "outputs": [
        {
          "output_type": "stream",
          "name": "stdout",
          "text": [
            "[['through', 'the', 'looking-glass', 'by', 'lewis', 'carroll', 'chapter', 'i', 'looking-glass', 'house', 'one', 'thing', 'was', 'certain', 'that', 'the', 'white', 'kitten', 'had', 'had', 'nothing', 'to', 'do', 'with', 'it', '', 'it', 'was', 'the', 'black', 'kitten’s', 'fault', 'entirely'], ['for', 'the', 'white', 'kitten', 'had', 'been', 'having', 'its', 'face', 'washed', 'by', 'the', 'old', 'cat', 'for', 'the', 'last', 'quarter', 'of', 'an', 'hour', 'and', 'bearing', 'it', 'pretty', 'well', 'considering', 'so', 'you', 'see', 'that', 'it', 'couldn’t', 'have', 'had', 'any', 'hand', 'in', 'the', 'mischief']]\n"
          ]
        },
        {
          "output_type": "stream",
          "name": "stderr",
          "text": [
            "<>:9: SyntaxWarning: invalid escape sequence '\\]'\n",
            "<>:9: SyntaxWarning: invalid escape sequence '\\]'\n",
            "/tmp/ipython-input-2075466421.py:9: SyntaxWarning: invalid escape sequence '\\]'\n",
            "  punct = '!\"#$%&()*+,-./:;<=>?@[\\]^_`{|}~„“«»†*—/\\-‘’'\n"
          ]
        }
      ],
      "source": [
        "with open(\"alice.txt\", 'r', encoding='utf-8') as f:\n",
        "    text = f.read()\n",
        "\n",
        "# убираем переносы строк, токенизируем текст\n",
        "text = re.sub('\\n', ' ', text)\n",
        "sents = sent_tokenize(text)\n",
        "\n",
        "# убираем всю пунктуацию и делим текст на слова по пробелу\n",
        "punct = '!\"#$%&()*+,-./:;<=>?@[\\]^_`{|}~„“«»†*—/\\-‘’'\n",
        "clean_sents = []\n",
        "for sent in sents:\n",
        "    s = [w.lower().strip(punct) for w in sent.split()]\n",
        "    clean_sents.append(s)\n",
        "\n",
        "print(clean_sents[:2])"
      ]
    },
    {
      "cell_type": "markdown",
      "metadata": {
        "id": "dH8f7GNBX-sK"
      },
      "source": [
        "To receive the model, you must first save it, and then load it. All parameters of the training (the size of the vector, min. The frequency of the word, etc.) will be taken from the loaded model, i.e. You can’t again set them.\n",
        "\n",
        "** NB! ** You can only receive a full model, and `keyedVectors` is impossible. Therefore, the model must be preserved in a corresponding format. Read more about the difference XX_MarkDown_Link_XX."
      ]
    },
    {
      "cell_type": "code",
      "execution_count": 45,
      "metadata": {
        "colab": {
          "base_uri": "https://localhost:8080/"
        },
        "id": "Rv--44TmX-sL",
        "outputId": "47100ebf-8fbc-4a61-cc3b-38aeef097ad8"
      },
      "outputs": [
        {
          "output_type": "stream",
          "name": "stdout",
          "text": [
            "Saving model...\n"
          ]
        }
      ],
      "source": [
        "model_path = \"movie_reviews.model\"\n",
        "\n",
        "print(\"Saving model...\")\n",
        "model_en.save(model_path)"
      ]
    },
    {
      "cell_type": "code",
      "execution_count": 46,
      "metadata": {
        "colab": {
          "base_uri": "https://localhost:8080/"
        },
        "id": "f6eZwBQzX-sQ",
        "outputId": "c608e85a-4d34-4cdc-936b-6d9da5b34d70"
      },
      "outputs": [
        {
          "output_type": "stream",
          "name": "stderr",
          "text": [
            "WARNING:gensim.models.word2vec:Effective 'alpha' higher than previous training cycles\n"
          ]
        },
        {
          "output_type": "execute_result",
          "data": {
            "text/plain": [
              "(96946, 150225)"
            ]
          },
          "metadata": {},
          "execution_count": 46
        }
      ],
      "source": [
        "model = word2vec.Word2Vec.load(model_path)\n",
        "\n",
        "model.build_vocab(clean_sents, update=True)\n",
        "model.train(clean_sents, total_examples=model.corpus_count, epochs=5)"
      ]
    },
    {
      "cell_type": "markdown",
      "metadata": {
        "id": "nMLhISWiX-sS"
      },
      "source": [
        "Leo and rabbit have become closer to each other!"
      ]
    },
    {
      "cell_type": "code",
      "execution_count": 47,
      "metadata": {
        "colab": {
          "base_uri": "https://localhost:8080/"
        },
        "id": "4USaUjmzX-sS",
        "outputId": "a1481982-5915-4420-fc12-6b026d454e1b"
      },
      "outputs": [
        {
          "output_type": "execute_result",
          "data": {
            "text/plain": [
              "0.287682"
            ]
          },
          "metadata": {},
          "execution_count": 47
        }
      ],
      "source": [
        "model.wv.similarity('lion', 'cat')"
      ]
    },
    {
      "cell_type": "markdown",
      "metadata": {
        "id": "F5bYd1qmX-sT"
      },
      "source": [
        "You can normalize the vector, then the model will occupy less RAM. However, after that it cannot be finished. Here, L2-Normalization is used: the vectors are normalized so that if you fold the squares of all elements of the vector, in total it turns out 1.\n",
        "\n",
        "In addition, we will preserve not complete vectors, but `KeyedVectors`."
      ]
    },
    {
      "cell_type": "code",
      "execution_count": 48,
      "metadata": {
        "colab": {
          "base_uri": "https://localhost:8080/"
        },
        "id": "ZAVaTYvQX-sU",
        "outputId": "6021af53-caf6-43b0-b0c6-9bb826a42d16"
      },
      "outputs": [
        {
          "output_type": "stream",
          "name": "stdout",
          "text": [
            "Saving model...\n"
          ]
        }
      ],
      "source": [
        "# model.init_sims(replace=True)\n",
        "model_path = \"movies_alice.bin\"\n",
        "\n",
        "print(\"Saving model...\")\n",
        "model.wv.save_word2vec_format(model_path, binary=True)"
      ]
    },
    {
      "cell_type": "markdown",
      "metadata": {
        "id": "CXKnPffPX-sY"
      },
      "source": [
        "## assessment\n",
        "\n",
        "This, of course, is good, but how to understand which model is better? Or, for example, I made my model, but how to understand how good it is?\n",
        "\n",
        "For this, there are special datasets to assess the quality of distribution models. The main two: one measures the accuracy of solving problems on analogy (about Russia and dumplings), and the second is used to assess the coefficient of semantic proximity.\n",
        "\n",
        "### Word Similarity\n",
        "\n",
        "This method is to evaluate how ideas about the semantic proximity of words in the model are related to the \"ideas\" of people.\n",
        "\n",
        "| Word 1 | Word 2 | proximity |\n",
        "|------------|------------|----------|\n",
        "| cat | dog | 0.7 |\n",
        "| Cup | mug | 0.9 |\n",
        "\n",
        "For each pair of words from a predetermined dataset, we can calculate the cosine distance, and get a list of such meanings. At the same time, we already have a list of meanings made by people. We can compare these two lists and understand how similar they are (for example, considering the correlation). This measure of similarity should talk about how well the model simulates the distance to the word.\n",
        "\n",
        "### analogies\n",
        "\n",
        "Another popular task for an “internal” assessment is called the task of searching analogies. As we have already analyzed above, with the help of simple arithmetic operations, we can modify the meaning of the word. If you collect a set of words-modifiers in advance, as well as the words that we want to get into the results of the modification, then based on the calculation of the number of “hits” in the desired word, we can evaluate how well the model works well.\n",
        "\n",
        "As a word-modifier, we can use semantic analogies. Say, if we have some attitude of the \"country country\", then to evaluate the model we can use pairs like \"Russia-Moscow\", \"Norway-Ovos\", etc. Dataset will look as follows:\n",
        "\n",
        "| Word 1 | Word 2 | Attitude\n",
        "|------------|------------|---------------|\n",
        "| Russia | Moscow | Country Country |\n",
        "| Norway | Oslo Side\n",
        "\n",
        "Considering the random two pairs from this set, we want to, having a triplet (Russia, Moscow, Norway), we want to get the word \"Oslo\", i.e. Find the word that will be in the same respect with the word \"Norway\" as \"Russia\" is with Moscow.\n",
        "\n",
        "Datasets for the Russian language can be downloaded on a page with models on rusvectores. We calculate the quality of our NKRA model on the Dataset about the analogy:"
      ]
    },
    {
      "cell_type": "code",
      "execution_count": 50,
      "metadata": {
        "collapsed": true,
        "jupyter": {
          "outputs_hidden": true
        },
        "id": "a_PmSqdbPUD6",
        "outputId": "a3fdc338-4208-4866-b52c-ec6ddc92c5a3",
        "colab": {
          "base_uri": "https://localhost:8080/",
          "height": 36
        }
      },
      "outputs": [
        {
          "output_type": "execute_result",
          "data": {
            "text/plain": [
              "': capital-common-countries\\n'"
            ],
            "application/vnd.google.colaboratory.intrinsic+json": {
              "type": "string"
            }
          },
          "metadata": {},
          "execution_count": 50
        }
      ],
      "source": [
        "from gensim.test.utils import datapath\n",
        "\n",
        "file_path = datapath('questions-words.txt')\n",
        "file_txt = open(file_path, 'r')\n",
        "file_txt.readline()"
      ]
    },
    {
      "cell_type": "code",
      "execution_count": 51,
      "metadata": {
        "id": "xisXadgVuHTb"
      },
      "outputs": [],
      "source": [
        "res = model.wv.evaluate_word_analogies(datapath('questions-words.txt'))"
      ]
    },
    {
      "cell_type": "code",
      "execution_count": 52,
      "metadata": {
        "colab": {
          "base_uri": "https://localhost:8080/"
        },
        "id": "wosWMPCkGBjB",
        "outputId": "c7e67d6d-81ce-4036-b244-ac9f8959b1be"
      },
      "outputs": [
        {
          "output_type": "execute_result",
          "data": {
            "text/plain": [
              "0.23644426526909898"
            ]
          },
          "metadata": {},
          "execution_count": 52
        }
      ],
      "source": [
        "res[0]"
      ]
    },
    {
      "cell_type": "markdown",
      "metadata": {
        "id": "Sv0wxUXIX-se"
      },
      "source": [
        "## visualization\n",
        "\n",
        "You can see the resulting model by visualizing it, for example, on a plane.\n",
        "### T-Sne\n",
        "\n",
        "** T-SNE ** (*t-distributed stochastic neighbor embedding*)-a technique of non-linear decrease in dimension and visualization of multidimensional variables. It is designed specifically for the high dimension data L. van der Maaten and D. Hinton, XX_MarkDown_Link_XX. T-SNE is an iterative algorithm based on the calculation of pair distances between all objects (including therefore, it is quite slow).\n",
        "\n",
        "\n",
        "We portray on a plane of 1000 most frequency words from a collection of texts about cinema:"
      ]
    },
    {
      "cell_type": "code",
      "execution_count": 53,
      "metadata": {
        "colab": {
          "base_uri": "https://localhost:8080/",
          "height": 138,
          "referenced_widgets": [
            "d73e9ab8297949bd8379ab0d2ed3d6e3",
            "790701a9dfd943b8944785ecf8a5ca49",
            "af279264ce414605af38a3dc799d6d84",
            "f9f4e7f06d4f419b84c18f3063cb3e55",
            "3d9c3d0d533c4225a113dc9a42ccb962",
            "bda5d9bd379642b384ec4bdce3dd3d99",
            "89f3491983544600ad55fcdb75b78395",
            "51d4a8842343453ea1d08349351dbd20",
            "47c8d85e33b34242902b07da1c2edeb8",
            "e8c77a1adfc84241bcaca9474d265325",
            "2e8ed78650bb4c5d9f6d84aa0528eb52"
          ]
        },
        "id": "5UH91gFyX-sf",
        "outputId": "f0189e6f-e2cb-4fbd-f604-f1663f6496c4"
      },
      "outputs": [
        {
          "output_type": "stream",
          "name": "stderr",
          "text": [
            "/tmp/ipython-input-2085447832.py:5: TqdmDeprecationWarning: This function will be removed in tqdm==5.0.0\n",
            "Please use `tqdm.notebook.tqdm` instead of `tqdm.tqdm_notebook`\n",
            "  for s in tqdm(sentences):\n"
          ]
        },
        {
          "output_type": "display_data",
          "data": {
            "text/plain": [
              "  0%|          | 0/529416 [00:00<?, ?it/s]"
            ],
            "application/vnd.jupyter.widget-view+json": {
              "version_major": 2,
              "version_minor": 0,
              "model_id": "d73e9ab8297949bd8379ab0d2ed3d6e3"
            }
          },
          "metadata": {}
        },
        {
          "output_type": "stream",
          "name": "stdout",
          "text": [
            "['the', 'and', 'a', 'of', 'to', 'is', 'it', 'in', 'i', 'this', 'that', 's', 'was', 'as', 'with', 'for', 'movie', 'but', 'film', 'you', 't', 'on', 'not', 'he', 'are', 'his', 'have', 'be', 'one', 'all', 'they', 'at', 'by', 'who', 'an', 'from', 'so', 'like', 'there', 'or', 'her', 'just', 'about', 'out', 'has', 'if', 'what', 'some', 'good', 'can']\n"
          ]
        }
      ],
      "source": [
        "top_words = []\n",
        "\n",
        "\n",
        "fd = FreqDist()\n",
        "for s in tqdm(sentences):\n",
        "    fd.update(s)\n",
        "\n",
        "for w in fd.most_common(1000):\n",
        "    top_words.append(w[0])\n",
        "\n",
        "print(top_words[:50:])\n",
        "top_words_vec = model.wv[top_words]"
      ]
    },
    {
      "cell_type": "code",
      "execution_count": 54,
      "metadata": {
        "id": "8jx_BhKHTgsG"
      },
      "outputs": [],
      "source": [
        "top_words_vec = model.wv[top_words]"
      ]
    },
    {
      "cell_type": "code",
      "execution_count": 55,
      "metadata": {
        "collapsed": true,
        "jupyter": {
          "outputs_hidden": true
        },
        "id": "8RLyvjIEPUD-",
        "outputId": "b18eb8d9-ab62-4051-d969-0c263edea051",
        "colab": {
          "base_uri": "https://localhost:8080/",
          "height": 668
        }
      },
      "outputs": [
        {
          "output_type": "stream",
          "name": "stdout",
          "text": [
            "Requirement already satisfied: numpy in /usr/local/lib/python3.12/dist-packages (1.26.4)\n",
            "Collecting numpy\n",
            "  Downloading numpy-2.3.3-cp312-cp312-manylinux_2_27_x86_64.manylinux_2_28_x86_64.whl.metadata (62 kB)\n",
            "\u001b[2K     \u001b[90m━━━━━━━━━━━━━━━━━━━━━━━━━━━━━━━━━━━━━━━━\u001b[0m \u001b[32m62.1/62.1 kB\u001b[0m \u001b[31m3.0 MB/s\u001b[0m eta \u001b[36m0:00:00\u001b[0m\n",
            "\u001b[?25hRequirement already satisfied: scikit-learn in /usr/local/lib/python3.12/dist-packages (1.6.1)\n",
            "Collecting scikit-learn\n",
            "  Downloading scikit_learn-1.7.2-cp312-cp312-manylinux2014_x86_64.manylinux_2_17_x86_64.whl.metadata (11 kB)\n",
            "Requirement already satisfied: threadpoolctl in /usr/local/lib/python3.12/dist-packages (3.6.0)\n",
            "Requirement already satisfied: scipy>=1.8.0 in /usr/local/lib/python3.12/dist-packages (from scikit-learn) (1.13.1)\n",
            "Requirement already satisfied: joblib>=1.2.0 in /usr/local/lib/python3.12/dist-packages (from scikit-learn) (1.5.2)\n",
            "Collecting numpy\n",
            "  Downloading numpy-2.2.6-cp312-cp312-manylinux_2_17_x86_64.manylinux2014_x86_64.whl.metadata (62 kB)\n",
            "\u001b[2K     \u001b[90m━━━━━━━━━━━━━━━━━━━━━━━━━━━━━━━━━━━━━━━━\u001b[0m \u001b[32m62.0/62.0 kB\u001b[0m \u001b[31m4.0 MB/s\u001b[0m eta \u001b[36m0:00:00\u001b[0m\n",
            "\u001b[?25hDownloading scikit_learn-1.7.2-cp312-cp312-manylinux2014_x86_64.manylinux_2_17_x86_64.whl (9.5 MB)\n",
            "\u001b[2K   \u001b[90m━━━━━━━━━━━━━━━━━━━━━━━━━━━━━━━━━━━━━━━━\u001b[0m \u001b[32m9.5/9.5 MB\u001b[0m \u001b[31m64.3 MB/s\u001b[0m eta \u001b[36m0:00:00\u001b[0m\n",
            "\u001b[?25hDownloading numpy-2.2.6-cp312-cp312-manylinux_2_17_x86_64.manylinux2014_x86_64.whl (16.5 MB)\n",
            "\u001b[2K   \u001b[90m━━━━━━━━━━━━━━━━━━━━━━━━━━━━━━━━━━━━━━━━\u001b[0m \u001b[32m16.5/16.5 MB\u001b[0m \u001b[31m44.6 MB/s\u001b[0m eta \u001b[36m0:00:00\u001b[0m\n",
            "\u001b[?25hInstalling collected packages: numpy, scikit-learn\n",
            "  Attempting uninstall: numpy\n",
            "    Found existing installation: numpy 1.26.4\n",
            "    Uninstalling numpy-1.26.4:\n",
            "      Successfully uninstalled numpy-1.26.4\n",
            "  Attempting uninstall: scikit-learn\n",
            "    Found existing installation: scikit-learn 1.6.1\n",
            "    Uninstalling scikit-learn-1.6.1:\n",
            "      Successfully uninstalled scikit-learn-1.6.1\n",
            "\u001b[31mERROR: pip's dependency resolver does not currently take into account all the packages that are installed. This behaviour is the source of the following dependency conflicts.\n",
            "gensim 4.3.3 requires numpy<2.0,>=1.18.5, but you have numpy 2.2.6 which is incompatible.\n",
            "tsfresh 0.21.1 requires scipy>=1.14.0; python_version >= \"3.10\", but you have scipy 1.13.1 which is incompatible.\n",
            "tensorflow 2.19.0 requires numpy<2.2.0,>=1.26.0, but you have numpy 2.2.6 which is incompatible.\n",
            "numba 0.60.0 requires numpy<2.1,>=1.22, but you have numpy 2.2.6 which is incompatible.\u001b[0m\u001b[31m\n",
            "\u001b[0mSuccessfully installed numpy-2.2.6 scikit-learn-1.7.2\n"
          ]
        },
        {
          "output_type": "display_data",
          "data": {
            "application/vnd.colab-display-data+json": {
              "pip_warning": {
                "packages": [
                  "numpy",
                  "sklearn"
                ]
              },
              "id": "ce62d70cf1a44dd982f9fc42d45ae5be"
            }
          },
          "metadata": {}
        }
      ],
      "source": [
        "!pip install --upgrade numpy scikit-learn threadpoolctl\n"
      ]
    },
    {
      "cell_type": "code",
      "execution_count": 56,
      "metadata": {
        "collapsed": true,
        "jupyter": {
          "outputs_hidden": true
        },
        "scrolled": true,
        "id": "TA3SrlVwPUD_",
        "outputId": "5d11eab5-2716-417c-81ea-fc743b1e4111",
        "colab": {
          "base_uri": "https://localhost:8080/"
        }
      },
      "outputs": [
        {
          "output_type": "stream",
          "name": "stdout",
          "text": [
            "Collecting MulticoreTSNE\n",
            "  Downloading MulticoreTSNE-0.1.tar.gz (20 kB)\n",
            "  Preparing metadata (setup.py) ... \u001b[?25l\u001b[?25hdone\n",
            "Requirement already satisfied: numpy in /usr/local/lib/python3.12/dist-packages (from MulticoreTSNE) (2.2.6)\n",
            "Requirement already satisfied: cffi in /usr/local/lib/python3.12/dist-packages (from MulticoreTSNE) (2.0.0)\n",
            "Requirement already satisfied: pycparser in /usr/local/lib/python3.12/dist-packages (from cffi->MulticoreTSNE) (2.23)\n",
            "Building wheels for collected packages: MulticoreTSNE\n",
            "  \u001b[1;31merror\u001b[0m: \u001b[1msubprocess-exited-with-error\u001b[0m\n",
            "  \n",
            "  \u001b[31m×\u001b[0m \u001b[32mpython setup.py bdist_wheel\u001b[0m did not run successfully.\n",
            "  \u001b[31m│\u001b[0m exit code: \u001b[1;36m1\u001b[0m\n",
            "  \u001b[31m╰─>\u001b[0m See above for output.\n",
            "  \n",
            "  \u001b[1;35mnote\u001b[0m: This error originates from a subprocess, and is likely not a problem with pip.\n",
            "  Building wheel for MulticoreTSNE (setup.py) ... \u001b[?25lerror\n",
            "\u001b[31m  ERROR: Failed building wheel for MulticoreTSNE\u001b[0m\u001b[31m\n",
            "\u001b[0m\u001b[?25h  Running setup.py clean for MulticoreTSNE\n",
            "Failed to build MulticoreTSNE\n",
            "\u001b[31mERROR: ERROR: Failed to build installable wheels for some pyproject.toml based projects (MulticoreTSNE)\u001b[0m\u001b[31m\n",
            "\u001b[0m"
          ]
        }
      ],
      "source": [
        "!pip install MulticoreTSNE"
      ]
    },
    {
      "cell_type": "code",
      "execution_count": 57,
      "metadata": {
        "colab": {
          "base_uri": "https://localhost:8080/"
        },
        "id": "74FvTsuuX-sg",
        "outputId": "112dee55-1495-4ba7-db68-949b5e553229"
      },
      "outputs": [
        {
          "output_type": "stream",
          "name": "stdout",
          "text": [
            "CPU times: user 34 µs, sys: 0 ns, total: 34 µs\n",
            "Wall time: 37.4 µs\n"
          ]
        }
      ],
      "source": [
        "%%time\n",
        "tsne = TSNE(n_components=2, random_state=0)\n"
      ]
    },
    {
      "cell_type": "code",
      "execution_count": 58,
      "metadata": {
        "id": "PFLAv-rBPUEA",
        "outputId": "c45ef8a9-475d-42d4-ddd7-f03c0f7ae6d0",
        "colab": {
          "base_uri": "https://localhost:8080/"
        }
      },
      "outputs": [
        {
          "output_type": "stream",
          "name": "stdout",
          "text": [
            "/bin/bash: line 1: conda: command not found\n"
          ]
        }
      ],
      "source": [
        "!conda install -c conda-forge scikit-learn\n"
      ]
    },
    {
      "cell_type": "code",
      "execution_count": 59,
      "metadata": {
        "collapsed": true,
        "jupyter": {
          "outputs_hidden": true
        },
        "id": "GG_FfCpOPUEA",
        "outputId": "0bf5485c-5801-4ae0-86b2-9a911531accc",
        "colab": {
          "base_uri": "https://localhost:8080/"
        }
      },
      "outputs": [
        {
          "output_type": "stream",
          "name": "stderr",
          "text": [
            "Exception ignored on calling ctypes callback function: <function ThreadpoolController._find_libraries_with_dl_iterate_phdr.<locals>.match_library_callback at 0x7f179dbeeac0>\n",
            "Traceback (most recent call last):\n",
            "  File \"/usr/local/lib/python3.12/dist-packages/threadpoolctl.py\", line 1005, in match_library_callback\n",
            "    self._make_controller_from_path(filepath)\n",
            "  File \"/usr/local/lib/python3.12/dist-packages/threadpoolctl.py\", line 1187, in _make_controller_from_path\n",
            "    lib_controller = controller_class(\n",
            "                     ^^^^^^^^^^^^^^^^^\n",
            "  File \"/usr/local/lib/python3.12/dist-packages/threadpoolctl.py\", line 114, in __init__\n",
            "    self.dynlib = ctypes.CDLL(filepath, mode=_RTLD_NOLOAD)\n",
            "                  ^^^^^^^^^^^^^^^^^^^^^^^^^^^^^^^^^^^^^^^^\n",
            "  File \"/usr/lib/python3.12/ctypes/__init__.py\", line 379, in __init__\n",
            "    self._handle = _dlopen(self._name, mode)\n",
            "                   ^^^^^^^^^^^^^^^^^^^^^^^^^\n",
            "OSError: /usr/local/lib/python3.12/dist-packages/numpy.libs/libopenblas64_p-r0-0cf96a72.3.23.dev.so: cannot open shared object file: No such file or directory\n",
            "Exception ignored on calling ctypes callback function: <function ThreadpoolController._find_libraries_with_dl_iterate_phdr.<locals>.match_library_callback at 0x7f179dbeeac0>\n",
            "Traceback (most recent call last):\n",
            "  File \"/usr/local/lib/python3.12/dist-packages/threadpoolctl.py\", line 1005, in match_library_callback\n",
            "    self._make_controller_from_path(filepath)\n",
            "  File \"/usr/local/lib/python3.12/dist-packages/threadpoolctl.py\", line 1187, in _make_controller_from_path\n",
            "    lib_controller = controller_class(\n",
            "                     ^^^^^^^^^^^^^^^^^\n",
            "  File \"/usr/local/lib/python3.12/dist-packages/threadpoolctl.py\", line 114, in __init__\n",
            "    self.dynlib = ctypes.CDLL(filepath, mode=_RTLD_NOLOAD)\n",
            "                  ^^^^^^^^^^^^^^^^^^^^^^^^^^^^^^^^^^^^^^^^\n",
            "  File \"/usr/lib/python3.12/ctypes/__init__.py\", line 379, in __init__\n",
            "    self._handle = _dlopen(self._name, mode)\n",
            "                   ^^^^^^^^^^^^^^^^^^^^^^^^^\n",
            "OSError: dlopen() error\n"
          ]
        }
      ],
      "source": [
        "top_words_tsne = tsne.fit_transform(top_words_vec)"
      ]
    },
    {
      "cell_type": "code",
      "execution_count": 60,
      "metadata": {
        "colab": {
          "base_uri": "https://localhost:8080/",
          "height": 617
        },
        "collapsed": true,
        "id": "R0A__XKwX-si",
        "jupyter": {
          "outputs_hidden": true
        },
        "outputId": "d14ee1fa-ad69-4467-c673-46da04f4f3ba",
        "scrolled": true
      },
      "outputs": [
        {
          "output_type": "display_data",
          "data": {
            "application/javascript": [
              "'use strict';\n",
              "(function(root) {\n",
              "  function now() {\n",
              "    return new Date();\n",
              "  }\n",
              "\n",
              "  const force = true;\n",
              "\n",
              "  if (typeof root._bokeh_onload_callbacks === \"undefined\" || force === true) {\n",
              "    root._bokeh_onload_callbacks = [];\n",
              "    root._bokeh_is_loading = undefined;\n",
              "  }\n",
              "\n",
              "const JS_MIME_TYPE = 'application/javascript';\n",
              "  const HTML_MIME_TYPE = 'text/html';\n",
              "  const EXEC_MIME_TYPE = 'application/vnd.bokehjs_exec.v0+json';\n",
              "  const CLASS_NAME = 'output_bokeh rendered_html';\n",
              "\n",
              "  /**\n",
              "   * Render data to the DOM node\n",
              "   */\n",
              "  function render(props, node) {\n",
              "    const script = document.createElement(\"script\");\n",
              "    node.appendChild(script);\n",
              "  }\n",
              "\n",
              "  /**\n",
              "   * Handle when an output is cleared or removed\n",
              "   */\n",
              "  function handleClearOutput(event, handle) {\n",
              "    function drop(id) {\n",
              "      const view = Bokeh.index.get_by_id(id)\n",
              "      if (view != null) {\n",
              "        view.model.document.clear()\n",
              "        Bokeh.index.delete(view)\n",
              "      }\n",
              "    }\n",
              "\n",
              "    const cell = handle.cell;\n",
              "\n",
              "    const id = cell.output_area._bokeh_element_id;\n",
              "    const server_id = cell.output_area._bokeh_server_id;\n",
              "\n",
              "    // Clean up Bokeh references\n",
              "    if (id != null) {\n",
              "      drop(id)\n",
              "    }\n",
              "\n",
              "    if (server_id !== undefined) {\n",
              "      // Clean up Bokeh references\n",
              "      const cmd_clean = \"from bokeh.io.state import curstate; print(curstate().uuid_to_server['\" + server_id + \"'].get_sessions()[0].document.roots[0]._id)\";\n",
              "      cell.notebook.kernel.execute(cmd_clean, {\n",
              "        iopub: {\n",
              "          output: function(msg) {\n",
              "            const id = msg.content.text.trim()\n",
              "            drop(id)\n",
              "          }\n",
              "        }\n",
              "      });\n",
              "      // Destroy server and session\n",
              "      const cmd_destroy = \"import bokeh.io.notebook as ion; ion.destroy_server('\" + server_id + \"')\";\n",
              "      cell.notebook.kernel.execute(cmd_destroy);\n",
              "    }\n",
              "  }\n",
              "\n",
              "  /**\n",
              "   * Handle when a new output is added\n",
              "   */\n",
              "  function handleAddOutput(event, handle) {\n",
              "    const output_area = handle.output_area;\n",
              "    const output = handle.output;\n",
              "\n",
              "    // limit handleAddOutput to display_data with EXEC_MIME_TYPE content only\n",
              "    if ((output.output_type != \"display_data\") || (!Object.prototype.hasOwnProperty.call(output.data, EXEC_MIME_TYPE))) {\n",
              "      return\n",
              "    }\n",
              "\n",
              "    const toinsert = output_area.element.find(\".\" + CLASS_NAME.split(' ')[0]);\n",
              "\n",
              "    if (output.metadata[EXEC_MIME_TYPE][\"id\"] !== undefined) {\n",
              "      toinsert[toinsert.length - 1].firstChild.textContent = output.data[JS_MIME_TYPE];\n",
              "      // store reference to embed id on output_area\n",
              "      output_area._bokeh_element_id = output.metadata[EXEC_MIME_TYPE][\"id\"];\n",
              "    }\n",
              "    if (output.metadata[EXEC_MIME_TYPE][\"server_id\"] !== undefined) {\n",
              "      const bk_div = document.createElement(\"div\");\n",
              "      bk_div.innerHTML = output.data[HTML_MIME_TYPE];\n",
              "      const script_attrs = bk_div.children[0].attributes;\n",
              "      for (let i = 0; i < script_attrs.length; i++) {\n",
              "        toinsert[toinsert.length - 1].firstChild.setAttribute(script_attrs[i].name, script_attrs[i].value);\n",
              "        toinsert[toinsert.length - 1].firstChild.textContent = bk_div.children[0].textContent\n",
              "      }\n",
              "      // store reference to server id on output_area\n",
              "      output_area._bokeh_server_id = output.metadata[EXEC_MIME_TYPE][\"server_id\"];\n",
              "    }\n",
              "  }\n",
              "\n",
              "  function register_renderer(events, OutputArea) {\n",
              "\n",
              "    function append_mime(data, metadata, element) {\n",
              "      // create a DOM node to render to\n",
              "      const toinsert = this.create_output_subarea(\n",
              "        metadata,\n",
              "        CLASS_NAME,\n",
              "        EXEC_MIME_TYPE\n",
              "      );\n",
              "      this.keyboard_manager.register_events(toinsert);\n",
              "      // Render to node\n",
              "      const props = {data: data, metadata: metadata[EXEC_MIME_TYPE]};\n",
              "      render(props, toinsert[toinsert.length - 1]);\n",
              "      element.append(toinsert);\n",
              "      return toinsert\n",
              "    }\n",
              "\n",
              "    /* Handle when an output is cleared or removed */\n",
              "    events.on('clear_output.CodeCell', handleClearOutput);\n",
              "    events.on('delete.Cell', handleClearOutput);\n",
              "\n",
              "    /* Handle when a new output is added */\n",
              "    events.on('output_added.OutputArea', handleAddOutput);\n",
              "\n",
              "    /**\n",
              "     * Register the mime type and append_mime function with output_area\n",
              "     */\n",
              "    OutputArea.prototype.register_mime_type(EXEC_MIME_TYPE, append_mime, {\n",
              "      /* Is output safe? */\n",
              "      safe: true,\n",
              "      /* Index of renderer in `output_area.display_order` */\n",
              "      index: 0\n",
              "    });\n",
              "  }\n",
              "\n",
              "  // register the mime type if in Jupyter Notebook environment and previously unregistered\n",
              "  if (root.Jupyter !== undefined) {\n",
              "    const events = require('base/js/events');\n",
              "    const OutputArea = require('notebook/js/outputarea').OutputArea;\n",
              "\n",
              "    if (OutputArea.prototype.mime_types().indexOf(EXEC_MIME_TYPE) == -1) {\n",
              "      register_renderer(events, OutputArea);\n",
              "    }\n",
              "  }\n",
              "  if (typeof (root._bokeh_timeout) === \"undefined\" || force === true) {\n",
              "    root._bokeh_timeout = Date.now() + 5000;\n",
              "    root._bokeh_failed_load = false;\n",
              "  }\n",
              "\n",
              "  const NB_LOAD_WARNING = {'data': {'text/html':\n",
              "     \"<div style='background-color: #fdd'>\\n\"+\n",
              "     \"<p>\\n\"+\n",
              "     \"BokehJS does not appear to have successfully loaded. If loading BokehJS from CDN, this \\n\"+\n",
              "     \"may be due to a slow or bad network connection. Possible fixes:\\n\"+\n",
              "     \"</p>\\n\"+\n",
              "     \"<ul>\\n\"+\n",
              "     \"<li>re-rerun `output_notebook()` to attempt to load from CDN again, or</li>\\n\"+\n",
              "     \"<li>use INLINE resources instead, as so:</li>\\n\"+\n",
              "     \"</ul>\\n\"+\n",
              "     \"<code>\\n\"+\n",
              "     \"from bokeh.resources import INLINE\\n\"+\n",
              "     \"output_notebook(resources=INLINE)\\n\"+\n",
              "     \"</code>\\n\"+\n",
              "     \"</div>\"}};\n",
              "\n",
              "  function display_loaded(error = null) {\n",
              "    const el = document.getElementById(null);\n",
              "    if (el != null) {\n",
              "      const html = (() => {\n",
              "        if (typeof root.Bokeh === \"undefined\") {\n",
              "          if (error == null) {\n",
              "            return \"BokehJS is loading ...\";\n",
              "          } else {\n",
              "            return \"BokehJS failed to load.\";\n",
              "          }\n",
              "        } else {\n",
              "          const prefix = `BokehJS ${root.Bokeh.version}`;\n",
              "          if (error == null) {\n",
              "            return `${prefix} successfully loaded.`;\n",
              "          } else {\n",
              "            return `${prefix} <b>encountered errors</b> while loading and may not function as expected.`;\n",
              "          }\n",
              "        }\n",
              "      })();\n",
              "      el.innerHTML = html;\n",
              "\n",
              "      if (error != null) {\n",
              "        const wrapper = document.createElement(\"div\");\n",
              "        wrapper.style.overflow = \"auto\";\n",
              "        wrapper.style.height = \"5em\";\n",
              "        wrapper.style.resize = \"vertical\";\n",
              "        const content = document.createElement(\"div\");\n",
              "        content.style.fontFamily = \"monospace\";\n",
              "        content.style.whiteSpace = \"pre-wrap\";\n",
              "        content.style.backgroundColor = \"rgb(255, 221, 221)\";\n",
              "        content.textContent = error.stack ?? error.toString();\n",
              "        wrapper.append(content);\n",
              "        el.append(wrapper);\n",
              "      }\n",
              "    } else if (Date.now() < root._bokeh_timeout) {\n",
              "      setTimeout(() => display_loaded(error), 100);\n",
              "    }\n",
              "  }\n",
              "\n",
              "  function run_callbacks() {\n",
              "    try {\n",
              "      root._bokeh_onload_callbacks.forEach(function(callback) {\n",
              "        if (callback != null)\n",
              "          callback();\n",
              "      });\n",
              "    } finally {\n",
              "      delete root._bokeh_onload_callbacks\n",
              "    }\n",
              "    console.debug(\"Bokeh: all callbacks have finished\");\n",
              "  }\n",
              "\n",
              "  function load_libs(css_urls, js_urls, callback) {\n",
              "    if (css_urls == null) css_urls = [];\n",
              "    if (js_urls == null) js_urls = [];\n",
              "\n",
              "    root._bokeh_onload_callbacks.push(callback);\n",
              "    if (root._bokeh_is_loading > 0) {\n",
              "      console.debug(\"Bokeh: BokehJS is being loaded, scheduling callback at\", now());\n",
              "      return null;\n",
              "    }\n",
              "    if (js_urls == null || js_urls.length === 0) {\n",
              "      run_callbacks();\n",
              "      return null;\n",
              "    }\n",
              "    console.debug(\"Bokeh: BokehJS not loaded, scheduling load and callback at\", now());\n",
              "    root._bokeh_is_loading = css_urls.length + js_urls.length;\n",
              "\n",
              "    function on_load() {\n",
              "      root._bokeh_is_loading--;\n",
              "      if (root._bokeh_is_loading === 0) {\n",
              "        console.debug(\"Bokeh: all BokehJS libraries/stylesheets loaded\");\n",
              "        run_callbacks()\n",
              "      }\n",
              "    }\n",
              "\n",
              "    function on_error(url) {\n",
              "      console.error(\"failed to load \" + url);\n",
              "    }\n",
              "\n",
              "    for (let i = 0; i < css_urls.length; i++) {\n",
              "      const url = css_urls[i];\n",
              "      const element = document.createElement(\"link\");\n",
              "      element.onload = on_load;\n",
              "      element.onerror = on_error.bind(null, url);\n",
              "      element.rel = \"stylesheet\";\n",
              "      element.type = \"text/css\";\n",
              "      element.href = url;\n",
              "      console.debug(\"Bokeh: injecting link tag for BokehJS stylesheet: \", url);\n",
              "      document.body.appendChild(element);\n",
              "    }\n",
              "\n",
              "    for (let i = 0; i < js_urls.length; i++) {\n",
              "      const url = js_urls[i];\n",
              "      const element = document.createElement('script');\n",
              "      element.onload = on_load;\n",
              "      element.onerror = on_error.bind(null, url);\n",
              "      element.async = false;\n",
              "      element.src = url;\n",
              "      console.debug(\"Bokeh: injecting script tag for BokehJS library: \", url);\n",
              "      document.head.appendChild(element);\n",
              "    }\n",
              "  };\n",
              "\n",
              "  function inject_raw_css(css) {\n",
              "    const element = document.createElement(\"style\");\n",
              "    element.appendChild(document.createTextNode(css));\n",
              "    document.body.appendChild(element);\n",
              "  }\n",
              "\n",
              "  const js_urls = [\"https://cdn.bokeh.org/bokeh/release/bokeh-3.7.3.min.js\", \"https://cdn.bokeh.org/bokeh/release/bokeh-gl-3.7.3.min.js\", \"https://cdn.bokeh.org/bokeh/release/bokeh-widgets-3.7.3.min.js\", \"https://cdn.bokeh.org/bokeh/release/bokeh-tables-3.7.3.min.js\", \"https://cdn.bokeh.org/bokeh/release/bokeh-mathjax-3.7.3.min.js\"];\n",
              "  const css_urls = [];\n",
              "\n",
              "  const inline_js = [    function(Bokeh) {\n",
              "      Bokeh.set_log_level(\"info\");\n",
              "    },\n",
              "function(Bokeh) {\n",
              "    }\n",
              "  ];\n",
              "\n",
              "  function run_inline_js() {\n",
              "    if (root.Bokeh !== undefined || force === true) {\n",
              "      try {\n",
              "            for (let i = 0; i < inline_js.length; i++) {\n",
              "      inline_js[i].call(root, root.Bokeh);\n",
              "    }\n",
              "\n",
              "      } catch (error) {throw error;\n",
              "      }} else if (Date.now() < root._bokeh_timeout) {\n",
              "      setTimeout(run_inline_js, 100);\n",
              "    } else if (!root._bokeh_failed_load) {\n",
              "      console.log(\"Bokeh: BokehJS failed to load within specified timeout.\");\n",
              "      root._bokeh_failed_load = true;\n",
              "    } else if (force !== true) {\n",
              "      const cell = $(document.getElementById(null)).parents('.cell').data().cell;\n",
              "      cell.output_area.append_execute_result(NB_LOAD_WARNING)\n",
              "    }\n",
              "  }\n",
              "\n",
              "  if (root._bokeh_is_loading === 0) {\n",
              "    console.debug(\"Bokeh: BokehJS loaded, going straight to plotting\");\n",
              "    run_inline_js();\n",
              "  } else {\n",
              "    load_libs(css_urls, js_urls, function() {\n",
              "      console.debug(\"Bokeh: BokehJS plotting callback run at\", now());\n",
              "      run_inline_js();\n",
              "    });\n",
              "  }\n",
              "}(window));"
            ],
            "application/vnd.bokehjs_load.v0+json": "'use strict';\n(function(root) {\n  function now() {\n    return new Date();\n  }\n\n  const force = true;\n\n  if (typeof root._bokeh_onload_callbacks === \"undefined\" || force === true) {\n    root._bokeh_onload_callbacks = [];\n    root._bokeh_is_loading = undefined;\n  }\n\n\n  if (typeof (root._bokeh_timeout) === \"undefined\" || force === true) {\n    root._bokeh_timeout = Date.now() + 5000;\n    root._bokeh_failed_load = false;\n  }\n\n  const NB_LOAD_WARNING = {'data': {'text/html':\n     \"<div style='background-color: #fdd'>\\n\"+\n     \"<p>\\n\"+\n     \"BokehJS does not appear to have successfully loaded. If loading BokehJS from CDN, this \\n\"+\n     \"may be due to a slow or bad network connection. Possible fixes:\\n\"+\n     \"</p>\\n\"+\n     \"<ul>\\n\"+\n     \"<li>re-rerun `output_notebook()` to attempt to load from CDN again, or</li>\\n\"+\n     \"<li>use INLINE resources instead, as so:</li>\\n\"+\n     \"</ul>\\n\"+\n     \"<code>\\n\"+\n     \"from bokeh.resources import INLINE\\n\"+\n     \"output_notebook(resources=INLINE)\\n\"+\n     \"</code>\\n\"+\n     \"</div>\"}};\n\n  function display_loaded(error = null) {\n    const el = document.getElementById(null);\n    if (el != null) {\n      const html = (() => {\n        if (typeof root.Bokeh === \"undefined\") {\n          if (error == null) {\n            return \"BokehJS is loading ...\";\n          } else {\n            return \"BokehJS failed to load.\";\n          }\n        } else {\n          const prefix = `BokehJS ${root.Bokeh.version}`;\n          if (error == null) {\n            return `${prefix} successfully loaded.`;\n          } else {\n            return `${prefix} <b>encountered errors</b> while loading and may not function as expected.`;\n          }\n        }\n      })();\n      el.innerHTML = html;\n\n      if (error != null) {\n        const wrapper = document.createElement(\"div\");\n        wrapper.style.overflow = \"auto\";\n        wrapper.style.height = \"5em\";\n        wrapper.style.resize = \"vertical\";\n        const content = document.createElement(\"div\");\n        content.style.fontFamily = \"monospace\";\n        content.style.whiteSpace = \"pre-wrap\";\n        content.style.backgroundColor = \"rgb(255, 221, 221)\";\n        content.textContent = error.stack ?? error.toString();\n        wrapper.append(content);\n        el.append(wrapper);\n      }\n    } else if (Date.now() < root._bokeh_timeout) {\n      setTimeout(() => display_loaded(error), 100);\n    }\n  }\n\n  function run_callbacks() {\n    try {\n      root._bokeh_onload_callbacks.forEach(function(callback) {\n        if (callback != null)\n          callback();\n      });\n    } finally {\n      delete root._bokeh_onload_callbacks\n    }\n    console.debug(\"Bokeh: all callbacks have finished\");\n  }\n\n  function load_libs(css_urls, js_urls, callback) {\n    if (css_urls == null) css_urls = [];\n    if (js_urls == null) js_urls = [];\n\n    root._bokeh_onload_callbacks.push(callback);\n    if (root._bokeh_is_loading > 0) {\n      console.debug(\"Bokeh: BokehJS is being loaded, scheduling callback at\", now());\n      return null;\n    }\n    if (js_urls == null || js_urls.length === 0) {\n      run_callbacks();\n      return null;\n    }\n    console.debug(\"Bokeh: BokehJS not loaded, scheduling load and callback at\", now());\n    root._bokeh_is_loading = css_urls.length + js_urls.length;\n\n    function on_load() {\n      root._bokeh_is_loading--;\n      if (root._bokeh_is_loading === 0) {\n        console.debug(\"Bokeh: all BokehJS libraries/stylesheets loaded\");\n        run_callbacks()\n      }\n    }\n\n    function on_error(url) {\n      console.error(\"failed to load \" + url);\n    }\n\n    for (let i = 0; i < css_urls.length; i++) {\n      const url = css_urls[i];\n      const element = document.createElement(\"link\");\n      element.onload = on_load;\n      element.onerror = on_error.bind(null, url);\n      element.rel = \"stylesheet\";\n      element.type = \"text/css\";\n      element.href = url;\n      console.debug(\"Bokeh: injecting link tag for BokehJS stylesheet: \", url);\n      document.body.appendChild(element);\n    }\n\n    for (let i = 0; i < js_urls.length; i++) {\n      const url = js_urls[i];\n      const element = document.createElement('script');\n      element.onload = on_load;\n      element.onerror = on_error.bind(null, url);\n      element.async = false;\n      element.src = url;\n      console.debug(\"Bokeh: injecting script tag for BokehJS library: \", url);\n      document.head.appendChild(element);\n    }\n  };\n\n  function inject_raw_css(css) {\n    const element = document.createElement(\"style\");\n    element.appendChild(document.createTextNode(css));\n    document.body.appendChild(element);\n  }\n\n  const js_urls = [\"https://cdn.bokeh.org/bokeh/release/bokeh-3.7.3.min.js\", \"https://cdn.bokeh.org/bokeh/release/bokeh-gl-3.7.3.min.js\", \"https://cdn.bokeh.org/bokeh/release/bokeh-widgets-3.7.3.min.js\", \"https://cdn.bokeh.org/bokeh/release/bokeh-tables-3.7.3.min.js\", \"https://cdn.bokeh.org/bokeh/release/bokeh-mathjax-3.7.3.min.js\"];\n  const css_urls = [];\n\n  const inline_js = [    function(Bokeh) {\n      Bokeh.set_log_level(\"info\");\n    },\nfunction(Bokeh) {\n    }\n  ];\n\n  function run_inline_js() {\n    if (root.Bokeh !== undefined || force === true) {\n      try {\n            for (let i = 0; i < inline_js.length; i++) {\n      inline_js[i].call(root, root.Bokeh);\n    }\n\n      } catch (error) {throw error;\n      }} else if (Date.now() < root._bokeh_timeout) {\n      setTimeout(run_inline_js, 100);\n    } else if (!root._bokeh_failed_load) {\n      console.log(\"Bokeh: BokehJS failed to load within specified timeout.\");\n      root._bokeh_failed_load = true;\n    } else if (force !== true) {\n      const cell = $(document.getElementById(null)).parents('.cell').data().cell;\n      cell.output_area.append_execute_result(NB_LOAD_WARNING)\n    }\n  }\n\n  if (root._bokeh_is_loading === 0) {\n    console.debug(\"Bokeh: BokehJS loaded, going straight to plotting\");\n    run_inline_js();\n  } else {\n    load_libs(css_urls, js_urls, function() {\n      console.debug(\"Bokeh: BokehJS plotting callback run at\", now());\n      run_inline_js();\n    });\n  }\n}(window));"
          },
          "metadata": {}
        },
        {
          "output_type": "display_data",
          "data": {
            "text/html": [
              "\n",
              "  <div id=\"b7d5dde5-e5e4-4cf5-93f4-8cb09bda9545\" data-root-id=\"p1003\" style=\"display: contents;\"></div>\n"
            ]
          },
          "metadata": {}
        },
        {
          "output_type": "display_data",
          "data": {
            "application/javascript": [
              "(function(root) {\n",
              "  function embed_document(root) {\n",
              "  const docs_json = {\"36ffe04f-8c68-4397-9fc4-62a366d35e90\":{\"version\":\"3.7.3\",\"title\":\"Bokeh Application\",\"roots\":[{\"type\":\"object\",\"name\":\"Figure\",\"id\":\"p1003\",\"attributes\":{\"x_range\":{\"type\":\"object\",\"name\":\"DataRange1d\",\"id\":\"p1004\"},\"y_range\":{\"type\":\"object\",\"name\":\"DataRange1d\",\"id\":\"p1005\"},\"x_scale\":{\"type\":\"object\",\"name\":\"LinearScale\",\"id\":\"p1013\"},\"y_scale\":{\"type\":\"object\",\"name\":\"LinearScale\",\"id\":\"p1014\"},\"title\":{\"type\":\"object\",\"name\":\"Title\",\"id\":\"p1006\",\"attributes\":{\"text\":\"word2vec T-SNE (eng model, top1000 words)\"}},\"renderers\":[{\"type\":\"object\",\"name\":\"GlyphRenderer\",\"id\":\"p1038\",\"attributes\":{\"data_source\":{\"type\":\"object\",\"name\":\"ColumnDataSource\",\"id\":\"p1029\",\"attributes\":{\"selected\":{\"type\":\"object\",\"name\":\"Selection\",\"id\":\"p1030\",\"attributes\":{\"indices\":[],\"line_indices\":[]}},\"selection_policy\":{\"type\":\"object\",\"name\":\"UnionRenderers\",\"id\":\"p1031\"},\"data\":{\"type\":\"map\",\"entries\":[[\"x1\",{\"type\":\"ndarray\",\"array\":{\"type\":\"bytes\",\"data\":\"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\"},\"shape\":[1000],\"dtype\":\"float32\",\"order\":\"little\"}],[\"x2\",{\"type\":\"ndarray\",\"array\":{\"type\":\"bytes\",\"data\":\"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\"},\"shape\":[1000],\"dtype\":\"float32\",\"order\":\"little\"}],[\"names\",[\"the\",\"and\",\"a\",\"of\",\"to\",\"is\",\"it\",\"in\",\"i\",\"this\",\"that\",\"s\",\"was\",\"as\",\"with\",\"for\",\"movie\",\"but\",\"film\",\"you\",\"t\",\"on\",\"not\",\"he\",\"are\",\"his\",\"have\",\"be\",\"one\",\"all\",\"they\",\"at\",\"by\",\"who\",\"an\",\"from\",\"so\",\"like\",\"there\",\"or\",\"her\",\"just\",\"about\",\"out\",\"has\",\"if\",\"what\",\"some\",\"good\",\"can\",\"when\",\"more\",\"very\",\"she\",\"up\",\"no\",\"time\",\"even\",\"would\",\"their\",\"my\",\"which\",\"story\",\"only\",\"really\",\"see\",\"had\",\"were\",\"well\",\"me\",\"we\",\"than\",\"much\",\"bad\",\"been\",\"get\",\"people\",\"great\",\"into\",\"also\",\"do\",\"other\",\"first\",\"will\",\"him\",\"because\",\"most\",\"how\",\"don\",\"them\",\"make\",\"its\",\"made\",\"way\",\"could\",\"then\",\"too\",\"movies\",\"after\",\"any\",\"characters\",\"character\",\"films\",\"two\",\"think\",\"watch\",\"being\",\"plot\",\"many\",\"where\",\"never\",\"love\",\"seen\",\"little\",\"life\",\"acting\",\"best\",\"did\",\"off\",\"know\",\"over\",\"ever\",\"does\",\"show\",\"better\",\"man\",\"your\",\"end\",\"here\",\"scene\",\"while\",\"these\",\"why\",\"still\",\"scenes\",\"something\",\"say\",\"go\",\"m\",\"ve\",\"should\",\"back\",\"such\",\"real\",\"through\",\"those\",\"now\",\"re\",\"doesn\",\"watching\",\"thing\",\"director\",\"funny\",\"though\",\"years\",\"didn\",\"another\",\"actors\",\"new\",\"going\",\"old\",\"makes\",\"nothing\",\"actually\",\"before\",\"work\",\"look\",\"same\",\"find\",\"lot\",\"part\",\"few\",\"every\",\"again\",\"world\",\"action\",\"cast\",\"horror\",\"things\",\"us\",\"quite\",\"want\",\"down\",\"pretty\",\"young\",\"fact\",\"around\",\"seems\",\"enough\",\"both\",\"take\",\"long\",\"however\",\"thought\",\"got\",\"own\",\"give\",\"comedy\",\"between\",\"big\",\"d\",\"must\",\"series\",\"right\",\"may\",\"without\",\"role\",\"guy\",\"original\",\"interesting\",\"whole\",\"come\",\"isn\",\"times\",\"always\",\"saw\",\"least\",\"bit\",\"gets\",\"almost\",\"script\",\"point\",\"last\",\"music\",\"done\",\"minutes\",\"feel\",\"far\",\"since\",\"girl\",\"ll\",\"yet\",\"might\",\"making\",\"performance\",\"away\",\"family\",\"anything\",\"am\",\"probably\",\"hard\",\"woman\",\"tv\",\"kind\",\"fun\",\"rather\",\"day\",\"played\",\"worst\",\"each\",\"found\",\"sure\",\"anyone\",\"especially\",\"trying\",\"having\",\"our\",\"screen\",\"looking\",\"different\",\"believe\",\"sense\",\"place\",\"american\",\"although\",\"ending\",\"goes\",\"worth\",\"course\",\"set\",\"shows\",\"maybe\",\"three\",\"comes\",\"dvd\",\"money\",\"once\",\"everything\",\"plays\",\"effects\",\"put\",\"john\",\"looks\",\"actor\",\"main\",\"together\",\"during\",\"someone\",\"let\",\"wasn\",\"instead\",\"everyone\",\"war\",\"year\",\"reason\",\"takes\",\"special\",\"said\",\"true\",\"high\",\"night\",\"book\",\"seem\",\"job\",\"play\",\"watched\",\"audience\",\"later\",\"wife\",\"black\",\"death\",\"himself\",\"star\",\"half\",\"seeing\",\"used\",\"idea\",\"dead\",\"second\",\"men\",\"left\",\"excellent\",\"simply\",\"shot\",\"else\",\"beautiful\",\"sex\",\"completely\",\"budget\",\"father\",\"women\",\"mind\",\"house\",\"hollywood\",\"poor\",\"less\",\"fan\",\"along\",\"boring\",\"performances\",\"home\",\"line\",\"help\",\"nice\",\"try\",\"couple\",\"top\",\"version\",\"until\",\"either\",\"low\",\"next\",\"camera\",\"use\",\"friends\",\"short\",\"wrong\",\"start\",\"kids\",\"given\",\"mother\",\"read\",\"need\",\"full\",\"enjoy\",\"production\",\"classic\",\"perhaps\",\"school\",\"moments\",\"truly\",\"stupid\",\"keep\",\"awful\",\"getting\",\"rest\",\"video\",\"face\",\"tell\",\"mean\",\"others\",\"itself\",\"understand\",\"boy\",\"terrible\",\"small\",\"name\",\"style\",\"came\",\"won\",\"playing\",\"recommend\",\"doing\",\"lost\",\"person\",\"definitely\",\"gives\",\"dialogue\",\"entertaining\",\"wonderful\",\"often\",\"live\",\"lines\",\"hope\",\"went\",\"stars\",\"case\",\"remember\",\"written\",\"couldn\",\"head\",\"early\",\"title\",\"yes\",\"human\",\"perfect\",\"become\",\"based\",\"friend\",\"children\",\"certainly\",\"liked\",\"problem\",\"drama\",\"son\",\"picture\",\"several\",\"fans\",\"under\",\"lead\",\"laugh\",\"oh\",\"guys\",\"humor\",\"supposed\",\"direction\",\"against\",\"absolutely\",\"overall\",\"sort\",\"piece\",\"episode\",\"finally\",\"game\",\"lives\",\"called\",\"entire\",\"evil\",\"cinema\",\"worse\",\"care\",\"waste\",\"killer\",\"dark\",\"felt\",\"beginning\",\"despite\",\"seemed\",\"genre\",\"final\",\"b\",\"totally\",\"history\",\"wanted\",\"unfortunately\",\"town\",\"throughout\",\"white\",\"city\",\"becomes\",\"able\",\"days\",\"already\",\"turn\",\"guess\",\"run\",\"fine\",\"loved\",\"act\",\"mr\",\"flick\",\"today\",\"horrible\",\"heart\",\"side\",\"hand\",\"kill\",\"tries\",\"wants\",\"starts\",\"quality\",\"killed\",\"past\",\"themselves\",\"child\",\"close\",\"matter\",\"group\",\"sound\",\"turns\",\"daughter\",\"parts\",\"viewer\",\"etc\",\"expect\",\"fight\",\"car\",\"enjoyed\",\"directed\",\"writing\",\"decent\",\"type\",\"violence\",\"stop\",\"example\",\"stuff\",\"self\",\"kid\",\"amazing\",\"behind\",\"soon\",\"blood\",\"favorite\",\"works\",\"known\",\"thinking\",\"gave\",\"obviously\",\"sometimes\",\"hero\",\"eyes\",\"actress\",\"girls\",\"michael\",\"happened\",\"brilliant\",\"stories\",\"except\",\"myself\",\"hour\",\"coming\",\"says\",\"writer\",\"late\",\"husband\",\"extremely\",\"experience\",\"hell\",\"happens\",\"art\",\"heard\",\"police\",\"took\",\"feeling\",\"roles\",\"leave\",\"highly\",\"attempt\",\"taken\",\"interest\",\"wouldn\",\"murder\",\"moment\",\"slow\",\"score\",\"god\",\"including\",\"looked\",\"obvious\",\"involved\",\"living\",\"anyway\",\"robert\",\"david\",\"cool\",\"hours\",\"save\",\"ok\",\"age\",\"voice\",\"o\",\"career\",\"told\",\"across\",\"wonder\",\"none\",\"strong\",\"cut\",\"happen\",\"please\",\"gore\",\"simple\",\"hilarious\",\"brother\",\"important\",\"exactly\",\"power\",\"chance\",\"ago\",\"james\",\"particularly\",\"relationship\",\"documentary\",\"level\",\"complete\",\"light\",\"female\",\"annoying\",\"possible\",\"serious\",\"cannot\",\"hit\",\"crap\",\"sad\",\"running\",\"lack\",\"sequel\",\"talent\",\"usually\",\"whose\",\"basically\",\"reality\",\"ends\",\"seriously\",\"strange\",\"order\",\"finds\",\"call\",\"taking\",\"somewhat\",\"room\",\"happy\",\"silly\",\"scary\",\"middle\",\"turned\",\"alone\",\"apparently\",\"ridiculous\",\"change\",\"clich\",\"country\",\"mostly\",\"attention\",\"miss\",\"four\",\"usual\",\"shown\",\"body\",\"song\",\"wish\",\"jokes\",\"number\",\"opening\",\"released\",\"disappointed\",\"word\",\"jack\",\"thriller\",\"single\",\"opinion\",\"straight\",\"future\",\"english\",\"words\",\"parents\",\"novel\",\"saying\",\"cinematography\",\"yourself\",\"view\",\"cheap\",\"started\",\"french\",\"beyond\",\"huge\",\"talking\",\"non\",\"clearly\",\"sets\",\"talk\",\"major\",\"die\",\"shots\",\"rating\",\"problems\",\"knew\",\"knows\",\"gay\",\"modern\",\"fast\",\"british\",\"due\",\"events\",\"tells\",\"add\",\"bring\",\"comic\",\"clear\",\"ones\",\"above\",\"hate\",\"storyline\",\"york\",\"easy\",\"typical\",\"entertainment\",\"aren\",\"easily\",\"haven\",\"within\",\"local\",\"upon\",\"general\",\"dialog\",\"crime\",\"ten\",\"giving\",\"george\",\"lots\",\"sequence\",\"america\",\"ways\",\"falls\",\"similar\",\"begins\",\"appears\",\"class\",\"near\",\"mystery\",\"named\",\"bunch\",\"filmed\",\"king\",\"elements\",\"romantic\",\"team\",\"certain\",\"review\",\"predictable\",\"working\",\"avoid\",\"stand\",\"de\",\"earth\",\"sorry\",\"th\",\"e\",\"television\",\"mention\",\"enjoyable\",\"supporting\",\"tale\",\"theme\",\"message\",\"points\",\"cop\",\"gone\",\"among\",\"fall\",\"space\",\"tom\",\"viewers\",\"eye\",\"red\",\"truth\",\"leads\",\"surprised\",\"stay\",\"release\",\"kept\",\"minute\",\"richard\",\"five\",\"dull\",\"killing\",\"using\",\"effort\",\"monster\",\"third\",\"brought\",\"musical\",\"feels\",\"suspense\",\"tried\",\"means\",\"whether\",\"comments\",\"sequences\",\"dog\",\"moving\",\"period\",\"peter\",\"lee\",\"needs\",\"doubt\",\"fi\",\"showing\",\"buy\",\"okay\",\"sci\",\"somehow\",\"soundtrack\",\"viewing\",\"rent\",\"herself\",\"nearly\",\"average\",\"songs\",\"theater\",\"episodes\",\"reviews\",\"whatever\",\"follow\",\"surprise\",\"feature\",\"form\",\"move\",\"forget\",\"realistic\",\"believable\",\"free\",\"material\",\"premise\",\"editing\",\"sister\",\"brothers\",\"deep\",\"imagine\",\"gun\",\"forced\",\"famous\",\"poorly\",\"deal\",\"crew\",\"western\",\"indeed\",\"expected\",\"check\",\"possibly\",\"fantastic\",\"lame\",\"society\",\"figure\",\"otherwise\",\"dr\",\"learn\",\"open\",\"paul\",\"eventually\",\"plus\",\"lady\",\"weak\",\"hear\",\"stage\",\"sexual\",\"leaves\",\"question\",\"note\",\"difficult\",\"sit\",\"towards\",\"romance\",\"box\",\"situation\",\"begin\",\"earlier\",\"personal\",\"atmosphere\",\"reading\",\"male\",\"screenplay\",\"wait\",\"decided\",\"joe\",\"battle\",\"interested\",\"powerful\",\"previous\",\"business\",\"greatest\",\"nor\",\"hot\",\"actual\",\"cheesy\",\"became\",\"acted\",\"worked\",\"animation\",\"subject\",\"island\",\"effect\",\"footage\",\"mess\",\"era\",\"oscar\",\"result\",\"meet\",\"rock\",\"credits\",\"features\",\"particular\",\"memorable\",\"whom\",\"boys\",\"air\",\"setting\",\"perfectly\",\"writers\",\"laughs\",\"street\",\"shame\",\"quickly\",\"rich\",\"older\",\"hands\",\"background\",\"keeps\",\"twist\",\"dramatic\",\"bill\",\"total\",\"present\",\"various\",\"appear\",\"pay\",\"telling\",\"directing\",\"william\",\"party\",\"alien\",\"unless\",\"crazy\",\"harry\",\"mark\",\"badly\",\"realize\",\"girlfriend\",\"forward\",\"front\",\"needed\",\"comment\",\"emotional\",\"imdb\",\"development\",\"fighting\",\"secret\",\"break\",\"fairly\",\"unique\",\"c\",\"baby\",\"outside\",\"married\",\"manages\",\"plenty\",\"villain\",\"apart\",\"missing\",\"masterpiece\",\"nature\",\"brings\",\"remake\",\"write\",\"former\",\"superb\",\"weird\",\"doctor\",\"clever\",\"escape\",\"list\",\"incredibly\",\"meets\",\"reasons\",\"hold\",\"created\",\"sounds\",\"sam\",\"inside\",\"unlike\",\"leading\",\"laughing\",\"ideas\",\"japanese\",\"season\",\"prison\",\"directors\",\"copy\",\"cute\",\"public\",\"return\",\"political\",\"violent\",\"success\",\"force\",\"create\",\"caught\",\"admit\",\"meant\",\"water\"]]]}}},\"view\":{\"type\":\"object\",\"name\":\"CDSView\",\"id\":\"p1039\",\"attributes\":{\"filter\":{\"type\":\"object\",\"name\":\"AllIndices\",\"id\":\"p1040\"}}},\"glyph\":{\"type\":\"object\",\"name\":\"Scatter\",\"id\":\"p1035\",\"attributes\":{\"x\":{\"type\":\"field\",\"field\":\"x1\"},\"y\":{\"type\":\"field\",\"field\":\"x2\"},\"size\":{\"type\":\"value\",\"value\":8},\"line_color\":{\"type\":\"value\",\"value\":\"#1f77b4\"},\"fill_color\":{\"type\":\"value\",\"value\":\"#1f77b4\"}}},\"nonselection_glyph\":{\"type\":\"object\",\"name\":\"Scatter\",\"id\":\"p1036\",\"attributes\":{\"x\":{\"type\":\"field\",\"field\":\"x1\"},\"y\":{\"type\":\"field\",\"field\":\"x2\"},\"size\":{\"type\":\"value\",\"value\":8},\"line_color\":{\"type\":\"value\",\"value\":\"#1f77b4\"},\"line_alpha\":{\"type\":\"value\",\"value\":0.1},\"fill_color\":{\"type\":\"value\",\"value\":\"#1f77b4\"},\"fill_alpha\":{\"type\":\"value\",\"value\":0.1},\"hatch_alpha\":{\"type\":\"value\",\"value\":0.1}}},\"muted_glyph\":{\"type\":\"object\",\"name\":\"Scatter\",\"id\":\"p1037\",\"attributes\":{\"x\":{\"type\":\"field\",\"field\":\"x1\"},\"y\":{\"type\":\"field\",\"field\":\"x2\"},\"size\":{\"type\":\"value\",\"value\":8},\"line_color\":{\"type\":\"value\",\"value\":\"#1f77b4\"},\"line_alpha\":{\"type\":\"value\",\"value\":0.2},\"fill_color\":{\"type\":\"value\",\"value\":\"#1f77b4\"},\"fill_alpha\":{\"type\":\"value\",\"value\":0.2},\"hatch_alpha\":{\"type\":\"value\",\"value\":0.2}}}}}],\"toolbar\":{\"type\":\"object\",\"name\":\"Toolbar\",\"id\":\"p1012\",\"attributes\":{\"tools\":[{\"type\":\"object\",\"name\":\"PanTool\",\"id\":\"p1025\"},{\"type\":\"object\",\"name\":\"WheelZoomTool\",\"id\":\"p1026\",\"attributes\":{\"renderers\":\"auto\"}},{\"type\":\"object\",\"name\":\"ResetTool\",\"id\":\"p1027\"},{\"type\":\"object\",\"name\":\"SaveTool\",\"id\":\"p1028\"}]}},\"toolbar_location\":\"above\",\"left\":[{\"type\":\"object\",\"name\":\"LinearAxis\",\"id\":\"p1020\",\"attributes\":{\"ticker\":{\"type\":\"object\",\"name\":\"BasicTicker\",\"id\":\"p1021\",\"attributes\":{\"mantissas\":[1,2,5]}},\"formatter\":{\"type\":\"object\",\"name\":\"BasicTickFormatter\",\"id\":\"p1022\"},\"major_label_policy\":{\"type\":\"object\",\"name\":\"AllLabels\",\"id\":\"p1023\"}}}],\"below\":[{\"type\":\"object\",\"name\":\"LinearAxis\",\"id\":\"p1015\",\"attributes\":{\"ticker\":{\"type\":\"object\",\"name\":\"BasicTicker\",\"id\":\"p1016\",\"attributes\":{\"mantissas\":[1,2,5]}},\"formatter\":{\"type\":\"object\",\"name\":\"BasicTickFormatter\",\"id\":\"p1017\"},\"major_label_policy\":{\"type\":\"object\",\"name\":\"AllLabels\",\"id\":\"p1018\"}}}],\"center\":[{\"type\":\"object\",\"name\":\"Grid\",\"id\":\"p1019\",\"attributes\":{\"axis\":{\"id\":\"p1015\"}}},{\"type\":\"object\",\"name\":\"Grid\",\"id\":\"p1024\",\"attributes\":{\"dimension\":1,\"axis\":{\"id\":\"p1020\"}}},{\"type\":\"object\",\"name\":\"LabelSet\",\"id\":\"p1041\",\"attributes\":{\"source\":{\"id\":\"p1029\"},\"x\":{\"type\":\"field\",\"field\":\"x1\"},\"y\":{\"type\":\"field\",\"field\":\"x2\"},\"text\":{\"type\":\"field\",\"field\":\"names\"},\"y_offset\":{\"type\":\"value\",\"value\":6},\"text_color\":{\"type\":\"value\",\"value\":\"#555555\"},\"text_font_size\":{\"type\":\"value\",\"value\":\"8pt\"},\"text_align\":{\"type\":\"value\",\"value\":\"center\"}}}]}}]}};\n",
              "  const render_items = [{\"docid\":\"36ffe04f-8c68-4397-9fc4-62a366d35e90\",\"roots\":{\"p1003\":\"b7d5dde5-e5e4-4cf5-93f4-8cb09bda9545\"},\"root_ids\":[\"p1003\"]}];\n",
              "  void root.Bokeh.embed.embed_items_notebook(docs_json, render_items);\n",
              "  }\n",
              "  if (root.Bokeh !== undefined) {\n",
              "    embed_document(root);\n",
              "  } else {\n",
              "    let attempts = 0;\n",
              "    const timer = setInterval(function(root) {\n",
              "      if (root.Bokeh !== undefined) {\n",
              "        clearInterval(timer);\n",
              "        embed_document(root);\n",
              "      } else {\n",
              "        attempts++;\n",
              "        if (attempts > 100) {\n",
              "          clearInterval(timer);\n",
              "          console.log(\"Bokeh: ERROR: Unable to run BokehJS code because BokehJS library is missing\");\n",
              "        }\n",
              "      }\n",
              "    }, 10, root)\n",
              "  }\n",
              "})(window);"
            ],
            "application/vnd.bokehjs_exec.v0+json": ""
          },
          "metadata": {
            "application/vnd.bokehjs_exec.v0+json": {
              "id": "p1003"
            }
          }
        }
      ],
      "source": [
        "output_notebook()\n",
        "\n",
        "p = figure(tools=\"pan,wheel_zoom,reset,save\",\n",
        "           toolbar_location=\"above\",\n",
        "           title=\"word2vec T-SNE (eng model, top1000 words)\")\n",
        "\n",
        "source = ColumnDataSource(data=dict(x1=top_words_tsne[:,0],\n",
        "                                    x2=top_words_tsne[:,1],\n",
        "                                    names=top_words))\n",
        "\n",
        "p.scatter(x=\"x1\", y=\"x2\", size=8, source=source)\n",
        "\n",
        "labels = LabelSet(x=\"x1\", y=\"x2\", text=\"names\", y_offset=6,\n",
        "                  text_font_size=\"8pt\", text_color=\"#555555\",\n",
        "                  source=source, text_align='center')\n",
        "p.add_layout(labels)\n",
        "\n",
        "show(p)"
      ]
    },
    {
      "cell_type": "markdown",
      "metadata": {
        "id": "2Szes63RX-sl"
      },
      "source": [
        "To calculate the transformation of T-SNE faster (and sometimes more effective), you can first reduce the dimension of the source data using, for example, SVD, and then use T-SNE:"
      ]
    },
    {
      "cell_type": "code",
      "execution_count": 61,
      "metadata": {
        "id": "p0R7hvIfX-sm"
      },
      "outputs": [],
      "source": [
        "svd_50 = TruncatedSVD(n_components=50)\n",
        "top_words_vec_50 = svd_50.fit_transform(top_words_vec)\n",
        "top_words_tsne2 = TSNE(n_components=2, random_state=0).fit_transform(top_words_vec_50)"
      ]
    },
    {
      "cell_type": "code",
      "execution_count": 62,
      "metadata": {
        "id": "zpUJyJibX-sn",
        "colab": {
          "base_uri": "https://localhost:8080/",
          "height": 617
        },
        "outputId": "58fa3a59-5012-43c8-ad79-85210a99bcaa"
      },
      "outputs": [
        {
          "output_type": "display_data",
          "data": {
            "application/javascript": [
              "'use strict';\n",
              "(function(root) {\n",
              "  function now() {\n",
              "    return new Date();\n",
              "  }\n",
              "\n",
              "  const force = true;\n",
              "\n",
              "  if (typeof root._bokeh_onload_callbacks === \"undefined\" || force === true) {\n",
              "    root._bokeh_onload_callbacks = [];\n",
              "    root._bokeh_is_loading = undefined;\n",
              "  }\n",
              "\n",
              "const JS_MIME_TYPE = 'application/javascript';\n",
              "  const HTML_MIME_TYPE = 'text/html';\n",
              "  const EXEC_MIME_TYPE = 'application/vnd.bokehjs_exec.v0+json';\n",
              "  const CLASS_NAME = 'output_bokeh rendered_html';\n",
              "\n",
              "  /**\n",
              "   * Render data to the DOM node\n",
              "   */\n",
              "  function render(props, node) {\n",
              "    const script = document.createElement(\"script\");\n",
              "    node.appendChild(script);\n",
              "  }\n",
              "\n",
              "  /**\n",
              "   * Handle when an output is cleared or removed\n",
              "   */\n",
              "  function handleClearOutput(event, handle) {\n",
              "    function drop(id) {\n",
              "      const view = Bokeh.index.get_by_id(id)\n",
              "      if (view != null) {\n",
              "        view.model.document.clear()\n",
              "        Bokeh.index.delete(view)\n",
              "      }\n",
              "    }\n",
              "\n",
              "    const cell = handle.cell;\n",
              "\n",
              "    const id = cell.output_area._bokeh_element_id;\n",
              "    const server_id = cell.output_area._bokeh_server_id;\n",
              "\n",
              "    // Clean up Bokeh references\n",
              "    if (id != null) {\n",
              "      drop(id)\n",
              "    }\n",
              "\n",
              "    if (server_id !== undefined) {\n",
              "      // Clean up Bokeh references\n",
              "      const cmd_clean = \"from bokeh.io.state import curstate; print(curstate().uuid_to_server['\" + server_id + \"'].get_sessions()[0].document.roots[0]._id)\";\n",
              "      cell.notebook.kernel.execute(cmd_clean, {\n",
              "        iopub: {\n",
              "          output: function(msg) {\n",
              "            const id = msg.content.text.trim()\n",
              "            drop(id)\n",
              "          }\n",
              "        }\n",
              "      });\n",
              "      // Destroy server and session\n",
              "      const cmd_destroy = \"import bokeh.io.notebook as ion; ion.destroy_server('\" + server_id + \"')\";\n",
              "      cell.notebook.kernel.execute(cmd_destroy);\n",
              "    }\n",
              "  }\n",
              "\n",
              "  /**\n",
              "   * Handle when a new output is added\n",
              "   */\n",
              "  function handleAddOutput(event, handle) {\n",
              "    const output_area = handle.output_area;\n",
              "    const output = handle.output;\n",
              "\n",
              "    // limit handleAddOutput to display_data with EXEC_MIME_TYPE content only\n",
              "    if ((output.output_type != \"display_data\") || (!Object.prototype.hasOwnProperty.call(output.data, EXEC_MIME_TYPE))) {\n",
              "      return\n",
              "    }\n",
              "\n",
              "    const toinsert = output_area.element.find(\".\" + CLASS_NAME.split(' ')[0]);\n",
              "\n",
              "    if (output.metadata[EXEC_MIME_TYPE][\"id\"] !== undefined) {\n",
              "      toinsert[toinsert.length - 1].firstChild.textContent = output.data[JS_MIME_TYPE];\n",
              "      // store reference to embed id on output_area\n",
              "      output_area._bokeh_element_id = output.metadata[EXEC_MIME_TYPE][\"id\"];\n",
              "    }\n",
              "    if (output.metadata[EXEC_MIME_TYPE][\"server_id\"] !== undefined) {\n",
              "      const bk_div = document.createElement(\"div\");\n",
              "      bk_div.innerHTML = output.data[HTML_MIME_TYPE];\n",
              "      const script_attrs = bk_div.children[0].attributes;\n",
              "      for (let i = 0; i < script_attrs.length; i++) {\n",
              "        toinsert[toinsert.length - 1].firstChild.setAttribute(script_attrs[i].name, script_attrs[i].value);\n",
              "        toinsert[toinsert.length - 1].firstChild.textContent = bk_div.children[0].textContent\n",
              "      }\n",
              "      // store reference to server id on output_area\n",
              "      output_area._bokeh_server_id = output.metadata[EXEC_MIME_TYPE][\"server_id\"];\n",
              "    }\n",
              "  }\n",
              "\n",
              "  function register_renderer(events, OutputArea) {\n",
              "\n",
              "    function append_mime(data, metadata, element) {\n",
              "      // create a DOM node to render to\n",
              "      const toinsert = this.create_output_subarea(\n",
              "        metadata,\n",
              "        CLASS_NAME,\n",
              "        EXEC_MIME_TYPE\n",
              "      );\n",
              "      this.keyboard_manager.register_events(toinsert);\n",
              "      // Render to node\n",
              "      const props = {data: data, metadata: metadata[EXEC_MIME_TYPE]};\n",
              "      render(props, toinsert[toinsert.length - 1]);\n",
              "      element.append(toinsert);\n",
              "      return toinsert\n",
              "    }\n",
              "\n",
              "    /* Handle when an output is cleared or removed */\n",
              "    events.on('clear_output.CodeCell', handleClearOutput);\n",
              "    events.on('delete.Cell', handleClearOutput);\n",
              "\n",
              "    /* Handle when a new output is added */\n",
              "    events.on('output_added.OutputArea', handleAddOutput);\n",
              "\n",
              "    /**\n",
              "     * Register the mime type and append_mime function with output_area\n",
              "     */\n",
              "    OutputArea.prototype.register_mime_type(EXEC_MIME_TYPE, append_mime, {\n",
              "      /* Is output safe? */\n",
              "      safe: true,\n",
              "      /* Index of renderer in `output_area.display_order` */\n",
              "      index: 0\n",
              "    });\n",
              "  }\n",
              "\n",
              "  // register the mime type if in Jupyter Notebook environment and previously unregistered\n",
              "  if (root.Jupyter !== undefined) {\n",
              "    const events = require('base/js/events');\n",
              "    const OutputArea = require('notebook/js/outputarea').OutputArea;\n",
              "\n",
              "    if (OutputArea.prototype.mime_types().indexOf(EXEC_MIME_TYPE) == -1) {\n",
              "      register_renderer(events, OutputArea);\n",
              "    }\n",
              "  }\n",
              "  if (typeof (root._bokeh_timeout) === \"undefined\" || force === true) {\n",
              "    root._bokeh_timeout = Date.now() + 5000;\n",
              "    root._bokeh_failed_load = false;\n",
              "  }\n",
              "\n",
              "  const NB_LOAD_WARNING = {'data': {'text/html':\n",
              "     \"<div style='background-color: #fdd'>\\n\"+\n",
              "     \"<p>\\n\"+\n",
              "     \"BokehJS does not appear to have successfully loaded. If loading BokehJS from CDN, this \\n\"+\n",
              "     \"may be due to a slow or bad network connection. Possible fixes:\\n\"+\n",
              "     \"</p>\\n\"+\n",
              "     \"<ul>\\n\"+\n",
              "     \"<li>re-rerun `output_notebook()` to attempt to load from CDN again, or</li>\\n\"+\n",
              "     \"<li>use INLINE resources instead, as so:</li>\\n\"+\n",
              "     \"</ul>\\n\"+\n",
              "     \"<code>\\n\"+\n",
              "     \"from bokeh.resources import INLINE\\n\"+\n",
              "     \"output_notebook(resources=INLINE)\\n\"+\n",
              "     \"</code>\\n\"+\n",
              "     \"</div>\"}};\n",
              "\n",
              "  function display_loaded(error = null) {\n",
              "    const el = document.getElementById(null);\n",
              "    if (el != null) {\n",
              "      const html = (() => {\n",
              "        if (typeof root.Bokeh === \"undefined\") {\n",
              "          if (error == null) {\n",
              "            return \"BokehJS is loading ...\";\n",
              "          } else {\n",
              "            return \"BokehJS failed to load.\";\n",
              "          }\n",
              "        } else {\n",
              "          const prefix = `BokehJS ${root.Bokeh.version}`;\n",
              "          if (error == null) {\n",
              "            return `${prefix} successfully loaded.`;\n",
              "          } else {\n",
              "            return `${prefix} <b>encountered errors</b> while loading and may not function as expected.`;\n",
              "          }\n",
              "        }\n",
              "      })();\n",
              "      el.innerHTML = html;\n",
              "\n",
              "      if (error != null) {\n",
              "        const wrapper = document.createElement(\"div\");\n",
              "        wrapper.style.overflow = \"auto\";\n",
              "        wrapper.style.height = \"5em\";\n",
              "        wrapper.style.resize = \"vertical\";\n",
              "        const content = document.createElement(\"div\");\n",
              "        content.style.fontFamily = \"monospace\";\n",
              "        content.style.whiteSpace = \"pre-wrap\";\n",
              "        content.style.backgroundColor = \"rgb(255, 221, 221)\";\n",
              "        content.textContent = error.stack ?? error.toString();\n",
              "        wrapper.append(content);\n",
              "        el.append(wrapper);\n",
              "      }\n",
              "    } else if (Date.now() < root._bokeh_timeout) {\n",
              "      setTimeout(() => display_loaded(error), 100);\n",
              "    }\n",
              "  }\n",
              "\n",
              "  function run_callbacks() {\n",
              "    try {\n",
              "      root._bokeh_onload_callbacks.forEach(function(callback) {\n",
              "        if (callback != null)\n",
              "          callback();\n",
              "      });\n",
              "    } finally {\n",
              "      delete root._bokeh_onload_callbacks\n",
              "    }\n",
              "    console.debug(\"Bokeh: all callbacks have finished\");\n",
              "  }\n",
              "\n",
              "  function load_libs(css_urls, js_urls, callback) {\n",
              "    if (css_urls == null) css_urls = [];\n",
              "    if (js_urls == null) js_urls = [];\n",
              "\n",
              "    root._bokeh_onload_callbacks.push(callback);\n",
              "    if (root._bokeh_is_loading > 0) {\n",
              "      console.debug(\"Bokeh: BokehJS is being loaded, scheduling callback at\", now());\n",
              "      return null;\n",
              "    }\n",
              "    if (js_urls == null || js_urls.length === 0) {\n",
              "      run_callbacks();\n",
              "      return null;\n",
              "    }\n",
              "    console.debug(\"Bokeh: BokehJS not loaded, scheduling load and callback at\", now());\n",
              "    root._bokeh_is_loading = css_urls.length + js_urls.length;\n",
              "\n",
              "    function on_load() {\n",
              "      root._bokeh_is_loading--;\n",
              "      if (root._bokeh_is_loading === 0) {\n",
              "        console.debug(\"Bokeh: all BokehJS libraries/stylesheets loaded\");\n",
              "        run_callbacks()\n",
              "      }\n",
              "    }\n",
              "\n",
              "    function on_error(url) {\n",
              "      console.error(\"failed to load \" + url);\n",
              "    }\n",
              "\n",
              "    for (let i = 0; i < css_urls.length; i++) {\n",
              "      const url = css_urls[i];\n",
              "      const element = document.createElement(\"link\");\n",
              "      element.onload = on_load;\n",
              "      element.onerror = on_error.bind(null, url);\n",
              "      element.rel = \"stylesheet\";\n",
              "      element.type = \"text/css\";\n",
              "      element.href = url;\n",
              "      console.debug(\"Bokeh: injecting link tag for BokehJS stylesheet: \", url);\n",
              "      document.body.appendChild(element);\n",
              "    }\n",
              "\n",
              "    for (let i = 0; i < js_urls.length; i++) {\n",
              "      const url = js_urls[i];\n",
              "      const element = document.createElement('script');\n",
              "      element.onload = on_load;\n",
              "      element.onerror = on_error.bind(null, url);\n",
              "      element.async = false;\n",
              "      element.src = url;\n",
              "      console.debug(\"Bokeh: injecting script tag for BokehJS library: \", url);\n",
              "      document.head.appendChild(element);\n",
              "    }\n",
              "  };\n",
              "\n",
              "  function inject_raw_css(css) {\n",
              "    const element = document.createElement(\"style\");\n",
              "    element.appendChild(document.createTextNode(css));\n",
              "    document.body.appendChild(element);\n",
              "  }\n",
              "\n",
              "  const js_urls = [\"https://cdn.bokeh.org/bokeh/release/bokeh-3.7.3.min.js\", \"https://cdn.bokeh.org/bokeh/release/bokeh-gl-3.7.3.min.js\", \"https://cdn.bokeh.org/bokeh/release/bokeh-widgets-3.7.3.min.js\", \"https://cdn.bokeh.org/bokeh/release/bokeh-tables-3.7.3.min.js\", \"https://cdn.bokeh.org/bokeh/release/bokeh-mathjax-3.7.3.min.js\"];\n",
              "  const css_urls = [];\n",
              "\n",
              "  const inline_js = [    function(Bokeh) {\n",
              "      Bokeh.set_log_level(\"info\");\n",
              "    },\n",
              "function(Bokeh) {\n",
              "    }\n",
              "  ];\n",
              "\n",
              "  function run_inline_js() {\n",
              "    if (root.Bokeh !== undefined || force === true) {\n",
              "      try {\n",
              "            for (let i = 0; i < inline_js.length; i++) {\n",
              "      inline_js[i].call(root, root.Bokeh);\n",
              "    }\n",
              "\n",
              "      } catch (error) {throw error;\n",
              "      }} else if (Date.now() < root._bokeh_timeout) {\n",
              "      setTimeout(run_inline_js, 100);\n",
              "    } else if (!root._bokeh_failed_load) {\n",
              "      console.log(\"Bokeh: BokehJS failed to load within specified timeout.\");\n",
              "      root._bokeh_failed_load = true;\n",
              "    } else if (force !== true) {\n",
              "      const cell = $(document.getElementById(null)).parents('.cell').data().cell;\n",
              "      cell.output_area.append_execute_result(NB_LOAD_WARNING)\n",
              "    }\n",
              "  }\n",
              "\n",
              "  if (root._bokeh_is_loading === 0) {\n",
              "    console.debug(\"Bokeh: BokehJS loaded, going straight to plotting\");\n",
              "    run_inline_js();\n",
              "  } else {\n",
              "    load_libs(css_urls, js_urls, function() {\n",
              "      console.debug(\"Bokeh: BokehJS plotting callback run at\", now());\n",
              "      run_inline_js();\n",
              "    });\n",
              "  }\n",
              "}(window));"
            ],
            "application/vnd.bokehjs_load.v0+json": "'use strict';\n(function(root) {\n  function now() {\n    return new Date();\n  }\n\n  const force = true;\n\n  if (typeof root._bokeh_onload_callbacks === \"undefined\" || force === true) {\n    root._bokeh_onload_callbacks = [];\n    root._bokeh_is_loading = undefined;\n  }\n\n\n  if (typeof (root._bokeh_timeout) === \"undefined\" || force === true) {\n    root._bokeh_timeout = Date.now() + 5000;\n    root._bokeh_failed_load = false;\n  }\n\n  const NB_LOAD_WARNING = {'data': {'text/html':\n     \"<div style='background-color: #fdd'>\\n\"+\n     \"<p>\\n\"+\n     \"BokehJS does not appear to have successfully loaded. If loading BokehJS from CDN, this \\n\"+\n     \"may be due to a slow or bad network connection. Possible fixes:\\n\"+\n     \"</p>\\n\"+\n     \"<ul>\\n\"+\n     \"<li>re-rerun `output_notebook()` to attempt to load from CDN again, or</li>\\n\"+\n     \"<li>use INLINE resources instead, as so:</li>\\n\"+\n     \"</ul>\\n\"+\n     \"<code>\\n\"+\n     \"from bokeh.resources import INLINE\\n\"+\n     \"output_notebook(resources=INLINE)\\n\"+\n     \"</code>\\n\"+\n     \"</div>\"}};\n\n  function display_loaded(error = null) {\n    const el = document.getElementById(null);\n    if (el != null) {\n      const html = (() => {\n        if (typeof root.Bokeh === \"undefined\") {\n          if (error == null) {\n            return \"BokehJS is loading ...\";\n          } else {\n            return \"BokehJS failed to load.\";\n          }\n        } else {\n          const prefix = `BokehJS ${root.Bokeh.version}`;\n          if (error == null) {\n            return `${prefix} successfully loaded.`;\n          } else {\n            return `${prefix} <b>encountered errors</b> while loading and may not function as expected.`;\n          }\n        }\n      })();\n      el.innerHTML = html;\n\n      if (error != null) {\n        const wrapper = document.createElement(\"div\");\n        wrapper.style.overflow = \"auto\";\n        wrapper.style.height = \"5em\";\n        wrapper.style.resize = \"vertical\";\n        const content = document.createElement(\"div\");\n        content.style.fontFamily = \"monospace\";\n        content.style.whiteSpace = \"pre-wrap\";\n        content.style.backgroundColor = \"rgb(255, 221, 221)\";\n        content.textContent = error.stack ?? error.toString();\n        wrapper.append(content);\n        el.append(wrapper);\n      }\n    } else if (Date.now() < root._bokeh_timeout) {\n      setTimeout(() => display_loaded(error), 100);\n    }\n  }\n\n  function run_callbacks() {\n    try {\n      root._bokeh_onload_callbacks.forEach(function(callback) {\n        if (callback != null)\n          callback();\n      });\n    } finally {\n      delete root._bokeh_onload_callbacks\n    }\n    console.debug(\"Bokeh: all callbacks have finished\");\n  }\n\n  function load_libs(css_urls, js_urls, callback) {\n    if (css_urls == null) css_urls = [];\n    if (js_urls == null) js_urls = [];\n\n    root._bokeh_onload_callbacks.push(callback);\n    if (root._bokeh_is_loading > 0) {\n      console.debug(\"Bokeh: BokehJS is being loaded, scheduling callback at\", now());\n      return null;\n    }\n    if (js_urls == null || js_urls.length === 0) {\n      run_callbacks();\n      return null;\n    }\n    console.debug(\"Bokeh: BokehJS not loaded, scheduling load and callback at\", now());\n    root._bokeh_is_loading = css_urls.length + js_urls.length;\n\n    function on_load() {\n      root._bokeh_is_loading--;\n      if (root._bokeh_is_loading === 0) {\n        console.debug(\"Bokeh: all BokehJS libraries/stylesheets loaded\");\n        run_callbacks()\n      }\n    }\n\n    function on_error(url) {\n      console.error(\"failed to load \" + url);\n    }\n\n    for (let i = 0; i < css_urls.length; i++) {\n      const url = css_urls[i];\n      const element = document.createElement(\"link\");\n      element.onload = on_load;\n      element.onerror = on_error.bind(null, url);\n      element.rel = \"stylesheet\";\n      element.type = \"text/css\";\n      element.href = url;\n      console.debug(\"Bokeh: injecting link tag for BokehJS stylesheet: \", url);\n      document.body.appendChild(element);\n    }\n\n    for (let i = 0; i < js_urls.length; i++) {\n      const url = js_urls[i];\n      const element = document.createElement('script');\n      element.onload = on_load;\n      element.onerror = on_error.bind(null, url);\n      element.async = false;\n      element.src = url;\n      console.debug(\"Bokeh: injecting script tag for BokehJS library: \", url);\n      document.head.appendChild(element);\n    }\n  };\n\n  function inject_raw_css(css) {\n    const element = document.createElement(\"style\");\n    element.appendChild(document.createTextNode(css));\n    document.body.appendChild(element);\n  }\n\n  const js_urls = [\"https://cdn.bokeh.org/bokeh/release/bokeh-3.7.3.min.js\", \"https://cdn.bokeh.org/bokeh/release/bokeh-gl-3.7.3.min.js\", \"https://cdn.bokeh.org/bokeh/release/bokeh-widgets-3.7.3.min.js\", \"https://cdn.bokeh.org/bokeh/release/bokeh-tables-3.7.3.min.js\", \"https://cdn.bokeh.org/bokeh/release/bokeh-mathjax-3.7.3.min.js\"];\n  const css_urls = [];\n\n  const inline_js = [    function(Bokeh) {\n      Bokeh.set_log_level(\"info\");\n    },\nfunction(Bokeh) {\n    }\n  ];\n\n  function run_inline_js() {\n    if (root.Bokeh !== undefined || force === true) {\n      try {\n            for (let i = 0; i < inline_js.length; i++) {\n      inline_js[i].call(root, root.Bokeh);\n    }\n\n      } catch (error) {throw error;\n      }} else if (Date.now() < root._bokeh_timeout) {\n      setTimeout(run_inline_js, 100);\n    } else if (!root._bokeh_failed_load) {\n      console.log(\"Bokeh: BokehJS failed to load within specified timeout.\");\n      root._bokeh_failed_load = true;\n    } else if (force !== true) {\n      const cell = $(document.getElementById(null)).parents('.cell').data().cell;\n      cell.output_area.append_execute_result(NB_LOAD_WARNING)\n    }\n  }\n\n  if (root._bokeh_is_loading === 0) {\n    console.debug(\"Bokeh: BokehJS loaded, going straight to plotting\");\n    run_inline_js();\n  } else {\n    load_libs(css_urls, js_urls, function() {\n      console.debug(\"Bokeh: BokehJS plotting callback run at\", now());\n      run_inline_js();\n    });\n  }\n}(window));"
          },
          "metadata": {}
        },
        {
          "output_type": "display_data",
          "data": {
            "text/html": [
              "\n",
              "  <div id=\"a15ee78e-7e10-4bd2-83ec-fa9266b60319\" data-root-id=\"p1047\" style=\"display: contents;\"></div>\n"
            ]
          },
          "metadata": {}
        },
        {
          "output_type": "display_data",
          "data": {
            "application/javascript": [
              "(function(root) {\n",
              "  function embed_document(root) {\n",
              "  const docs_json = {\"3e7b2ddb-5d37-4a64-afe7-05e1f724115d\":{\"version\":\"3.7.3\",\"title\":\"Bokeh Application\",\"roots\":[{\"type\":\"object\",\"name\":\"Figure\",\"id\":\"p1047\",\"attributes\":{\"x_range\":{\"type\":\"object\",\"name\":\"DataRange1d\",\"id\":\"p1048\"},\"y_range\":{\"type\":\"object\",\"name\":\"DataRange1d\",\"id\":\"p1049\"},\"x_scale\":{\"type\":\"object\",\"name\":\"LinearScale\",\"id\":\"p1057\"},\"y_scale\":{\"type\":\"object\",\"name\":\"LinearScale\",\"id\":\"p1058\"},\"title\":{\"type\":\"object\",\"name\":\"Title\",\"id\":\"p1050\",\"attributes\":{\"text\":\"word2vec T-SNE (eng model, top1000 words, +SVD)\"}},\"renderers\":[{\"type\":\"object\",\"name\":\"GlyphRenderer\",\"id\":\"p1082\",\"attributes\":{\"data_source\":{\"type\":\"object\",\"name\":\"ColumnDataSource\",\"id\":\"p1073\",\"attributes\":{\"selected\":{\"type\":\"object\",\"name\":\"Selection\",\"id\":\"p1074\",\"attributes\":{\"indices\":[],\"line_indices\":[]}},\"selection_policy\":{\"type\":\"object\",\"name\":\"UnionRenderers\",\"id\":\"p1075\"},\"data\":{\"type\":\"map\",\"entries\":[[\"x1\",{\"type\":\"ndarray\",\"array\":{\"type\":\"bytes\",\"data\":\"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\"},\"shape\":[1000],\"dtype\":\"float32\",\"order\":\"little\"}],[\"x2\",{\"type\":\"ndarray\",\"array\":{\"type\":\"bytes\",\"data\":\"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\"},\"shape\":[1000],\"dtype\":\"float32\",\"order\":\"little\"}],[\"names\",[\"the\",\"and\",\"a\",\"of\",\"to\",\"is\",\"it\",\"in\",\"i\",\"this\",\"that\",\"s\",\"was\",\"as\",\"with\",\"for\",\"movie\",\"but\",\"film\",\"you\",\"t\",\"on\",\"not\",\"he\",\"are\",\"his\",\"have\",\"be\",\"one\",\"all\",\"they\",\"at\",\"by\",\"who\",\"an\",\"from\",\"so\",\"like\",\"there\",\"or\",\"her\",\"just\",\"about\",\"out\",\"has\",\"if\",\"what\",\"some\",\"good\",\"can\",\"when\",\"more\",\"very\",\"she\",\"up\",\"no\",\"time\",\"even\",\"would\",\"their\",\"my\",\"which\",\"story\",\"only\",\"really\",\"see\",\"had\",\"were\",\"well\",\"me\",\"we\",\"than\",\"much\",\"bad\",\"been\",\"get\",\"people\",\"great\",\"into\",\"also\",\"do\",\"other\",\"first\",\"will\",\"him\",\"because\",\"most\",\"how\",\"don\",\"them\",\"make\",\"its\",\"made\",\"way\",\"could\",\"then\",\"too\",\"movies\",\"after\",\"any\",\"characters\",\"character\",\"films\",\"two\",\"think\",\"watch\",\"being\",\"plot\",\"many\",\"where\",\"never\",\"love\",\"seen\",\"little\",\"life\",\"acting\",\"best\",\"did\",\"off\",\"know\",\"over\",\"ever\",\"does\",\"show\",\"better\",\"man\",\"your\",\"end\",\"here\",\"scene\",\"while\",\"these\",\"why\",\"still\",\"scenes\",\"something\",\"say\",\"go\",\"m\",\"ve\",\"should\",\"back\",\"such\",\"real\",\"through\",\"those\",\"now\",\"re\",\"doesn\",\"watching\",\"thing\",\"director\",\"funny\",\"though\",\"years\",\"didn\",\"another\",\"actors\",\"new\",\"going\",\"old\",\"makes\",\"nothing\",\"actually\",\"before\",\"work\",\"look\",\"same\",\"find\",\"lot\",\"part\",\"few\",\"every\",\"again\",\"world\",\"action\",\"cast\",\"horror\",\"things\",\"us\",\"quite\",\"want\",\"down\",\"pretty\",\"young\",\"fact\",\"around\",\"seems\",\"enough\",\"both\",\"take\",\"long\",\"however\",\"thought\",\"got\",\"own\",\"give\",\"comedy\",\"between\",\"big\",\"d\",\"must\",\"series\",\"right\",\"may\",\"without\",\"role\",\"guy\",\"original\",\"interesting\",\"whole\",\"come\",\"isn\",\"times\",\"always\",\"saw\",\"least\",\"bit\",\"gets\",\"almost\",\"script\",\"point\",\"last\",\"music\",\"done\",\"minutes\",\"feel\",\"far\",\"since\",\"girl\",\"ll\",\"yet\",\"might\",\"making\",\"performance\",\"away\",\"family\",\"anything\",\"am\",\"probably\",\"hard\",\"woman\",\"tv\",\"kind\",\"fun\",\"rather\",\"day\",\"played\",\"worst\",\"each\",\"found\",\"sure\",\"anyone\",\"especially\",\"trying\",\"having\",\"our\",\"screen\",\"looking\",\"different\",\"believe\",\"sense\",\"place\",\"american\",\"although\",\"ending\",\"goes\",\"worth\",\"course\",\"set\",\"shows\",\"maybe\",\"three\",\"comes\",\"dvd\",\"money\",\"once\",\"everything\",\"plays\",\"effects\",\"put\",\"john\",\"looks\",\"actor\",\"main\",\"together\",\"during\",\"someone\",\"let\",\"wasn\",\"instead\",\"everyone\",\"war\",\"year\",\"reason\",\"takes\",\"special\",\"said\",\"true\",\"high\",\"night\",\"book\",\"seem\",\"job\",\"play\",\"watched\",\"audience\",\"later\",\"wife\",\"black\",\"death\",\"himself\",\"star\",\"half\",\"seeing\",\"used\",\"idea\",\"dead\",\"second\",\"men\",\"left\",\"excellent\",\"simply\",\"shot\",\"else\",\"beautiful\",\"sex\",\"completely\",\"budget\",\"father\",\"women\",\"mind\",\"house\",\"hollywood\",\"poor\",\"less\",\"fan\",\"along\",\"boring\",\"performances\",\"home\",\"line\",\"help\",\"nice\",\"try\",\"couple\",\"top\",\"version\",\"until\",\"either\",\"low\",\"next\",\"camera\",\"use\",\"friends\",\"short\",\"wrong\",\"start\",\"kids\",\"given\",\"mother\",\"read\",\"need\",\"full\",\"enjoy\",\"production\",\"classic\",\"perhaps\",\"school\",\"moments\",\"truly\",\"stupid\",\"keep\",\"awful\",\"getting\",\"rest\",\"video\",\"face\",\"tell\",\"mean\",\"others\",\"itself\",\"understand\",\"boy\",\"terrible\",\"small\",\"name\",\"style\",\"came\",\"won\",\"playing\",\"recommend\",\"doing\",\"lost\",\"person\",\"definitely\",\"gives\",\"dialogue\",\"entertaining\",\"wonderful\",\"often\",\"live\",\"lines\",\"hope\",\"went\",\"stars\",\"case\",\"remember\",\"written\",\"couldn\",\"head\",\"early\",\"title\",\"yes\",\"human\",\"perfect\",\"become\",\"based\",\"friend\",\"children\",\"certainly\",\"liked\",\"problem\",\"drama\",\"son\",\"picture\",\"several\",\"fans\",\"under\",\"lead\",\"laugh\",\"oh\",\"guys\",\"humor\",\"supposed\",\"direction\",\"against\",\"absolutely\",\"overall\",\"sort\",\"piece\",\"episode\",\"finally\",\"game\",\"lives\",\"called\",\"entire\",\"evil\",\"cinema\",\"worse\",\"care\",\"waste\",\"killer\",\"dark\",\"felt\",\"beginning\",\"despite\",\"seemed\",\"genre\",\"final\",\"b\",\"totally\",\"history\",\"wanted\",\"unfortunately\",\"town\",\"throughout\",\"white\",\"city\",\"becomes\",\"able\",\"days\",\"already\",\"turn\",\"guess\",\"run\",\"fine\",\"loved\",\"act\",\"mr\",\"flick\",\"today\",\"horrible\",\"heart\",\"side\",\"hand\",\"kill\",\"tries\",\"wants\",\"starts\",\"quality\",\"killed\",\"past\",\"themselves\",\"child\",\"close\",\"matter\",\"group\",\"sound\",\"turns\",\"daughter\",\"parts\",\"viewer\",\"etc\",\"expect\",\"fight\",\"car\",\"enjoyed\",\"directed\",\"writing\",\"decent\",\"type\",\"violence\",\"stop\",\"example\",\"stuff\",\"self\",\"kid\",\"amazing\",\"behind\",\"soon\",\"blood\",\"favorite\",\"works\",\"known\",\"thinking\",\"gave\",\"obviously\",\"sometimes\",\"hero\",\"eyes\",\"actress\",\"girls\",\"michael\",\"happened\",\"brilliant\",\"stories\",\"except\",\"myself\",\"hour\",\"coming\",\"says\",\"writer\",\"late\",\"husband\",\"extremely\",\"experience\",\"hell\",\"happens\",\"art\",\"heard\",\"police\",\"took\",\"feeling\",\"roles\",\"leave\",\"highly\",\"attempt\",\"taken\",\"interest\",\"wouldn\",\"murder\",\"moment\",\"slow\",\"score\",\"god\",\"including\",\"looked\",\"obvious\",\"involved\",\"living\",\"anyway\",\"robert\",\"david\",\"cool\",\"hours\",\"save\",\"ok\",\"age\",\"voice\",\"o\",\"career\",\"told\",\"across\",\"wonder\",\"none\",\"strong\",\"cut\",\"happen\",\"please\",\"gore\",\"simple\",\"hilarious\",\"brother\",\"important\",\"exactly\",\"power\",\"chance\",\"ago\",\"james\",\"particularly\",\"relationship\",\"documentary\",\"level\",\"complete\",\"light\",\"female\",\"annoying\",\"possible\",\"serious\",\"cannot\",\"hit\",\"crap\",\"sad\",\"running\",\"lack\",\"sequel\",\"talent\",\"usually\",\"whose\",\"basically\",\"reality\",\"ends\",\"seriously\",\"strange\",\"order\",\"finds\",\"call\",\"taking\",\"somewhat\",\"room\",\"happy\",\"silly\",\"scary\",\"middle\",\"turned\",\"alone\",\"apparently\",\"ridiculous\",\"change\",\"clich\",\"country\",\"mostly\",\"attention\",\"miss\",\"four\",\"usual\",\"shown\",\"body\",\"song\",\"wish\",\"jokes\",\"number\",\"opening\",\"released\",\"disappointed\",\"word\",\"jack\",\"thriller\",\"single\",\"opinion\",\"straight\",\"future\",\"english\",\"words\",\"parents\",\"novel\",\"saying\",\"cinematography\",\"yourself\",\"view\",\"cheap\",\"started\",\"french\",\"beyond\",\"huge\",\"talking\",\"non\",\"clearly\",\"sets\",\"talk\",\"major\",\"die\",\"shots\",\"rating\",\"problems\",\"knew\",\"knows\",\"gay\",\"modern\",\"fast\",\"british\",\"due\",\"events\",\"tells\",\"add\",\"bring\",\"comic\",\"clear\",\"ones\",\"above\",\"hate\",\"storyline\",\"york\",\"easy\",\"typical\",\"entertainment\",\"aren\",\"easily\",\"haven\",\"within\",\"local\",\"upon\",\"general\",\"dialog\",\"crime\",\"ten\",\"giving\",\"george\",\"lots\",\"sequence\",\"america\",\"ways\",\"falls\",\"similar\",\"begins\",\"appears\",\"class\",\"near\",\"mystery\",\"named\",\"bunch\",\"filmed\",\"king\",\"elements\",\"romantic\",\"team\",\"certain\",\"review\",\"predictable\",\"working\",\"avoid\",\"stand\",\"de\",\"earth\",\"sorry\",\"th\",\"e\",\"television\",\"mention\",\"enjoyable\",\"supporting\",\"tale\",\"theme\",\"message\",\"points\",\"cop\",\"gone\",\"among\",\"fall\",\"space\",\"tom\",\"viewers\",\"eye\",\"red\",\"truth\",\"leads\",\"surprised\",\"stay\",\"release\",\"kept\",\"minute\",\"richard\",\"five\",\"dull\",\"killing\",\"using\",\"effort\",\"monster\",\"third\",\"brought\",\"musical\",\"feels\",\"suspense\",\"tried\",\"means\",\"whether\",\"comments\",\"sequences\",\"dog\",\"moving\",\"period\",\"peter\",\"lee\",\"needs\",\"doubt\",\"fi\",\"showing\",\"buy\",\"okay\",\"sci\",\"somehow\",\"soundtrack\",\"viewing\",\"rent\",\"herself\",\"nearly\",\"average\",\"songs\",\"theater\",\"episodes\",\"reviews\",\"whatever\",\"follow\",\"surprise\",\"feature\",\"form\",\"move\",\"forget\",\"realistic\",\"believable\",\"free\",\"material\",\"premise\",\"editing\",\"sister\",\"brothers\",\"deep\",\"imagine\",\"gun\",\"forced\",\"famous\",\"poorly\",\"deal\",\"crew\",\"western\",\"indeed\",\"expected\",\"check\",\"possibly\",\"fantastic\",\"lame\",\"society\",\"figure\",\"otherwise\",\"dr\",\"learn\",\"open\",\"paul\",\"eventually\",\"plus\",\"lady\",\"weak\",\"hear\",\"stage\",\"sexual\",\"leaves\",\"question\",\"note\",\"difficult\",\"sit\",\"towards\",\"romance\",\"box\",\"situation\",\"begin\",\"earlier\",\"personal\",\"atmosphere\",\"reading\",\"male\",\"screenplay\",\"wait\",\"decided\",\"joe\",\"battle\",\"interested\",\"powerful\",\"previous\",\"business\",\"greatest\",\"nor\",\"hot\",\"actual\",\"cheesy\",\"became\",\"acted\",\"worked\",\"animation\",\"subject\",\"island\",\"effect\",\"footage\",\"mess\",\"era\",\"oscar\",\"result\",\"meet\",\"rock\",\"credits\",\"features\",\"particular\",\"memorable\",\"whom\",\"boys\",\"air\",\"setting\",\"perfectly\",\"writers\",\"laughs\",\"street\",\"shame\",\"quickly\",\"rich\",\"older\",\"hands\",\"background\",\"keeps\",\"twist\",\"dramatic\",\"bill\",\"total\",\"present\",\"various\",\"appear\",\"pay\",\"telling\",\"directing\",\"william\",\"party\",\"alien\",\"unless\",\"crazy\",\"harry\",\"mark\",\"badly\",\"realize\",\"girlfriend\",\"forward\",\"front\",\"needed\",\"comment\",\"emotional\",\"imdb\",\"development\",\"fighting\",\"secret\",\"break\",\"fairly\",\"unique\",\"c\",\"baby\",\"outside\",\"married\",\"manages\",\"plenty\",\"villain\",\"apart\",\"missing\",\"masterpiece\",\"nature\",\"brings\",\"remake\",\"write\",\"former\",\"superb\",\"weird\",\"doctor\",\"clever\",\"escape\",\"list\",\"incredibly\",\"meets\",\"reasons\",\"hold\",\"created\",\"sounds\",\"sam\",\"inside\",\"unlike\",\"leading\",\"laughing\",\"ideas\",\"japanese\",\"season\",\"prison\",\"directors\",\"copy\",\"cute\",\"public\",\"return\",\"political\",\"violent\",\"success\",\"force\",\"create\",\"caught\",\"admit\",\"meant\",\"water\"]]]}}},\"view\":{\"type\":\"object\",\"name\":\"CDSView\",\"id\":\"p1083\",\"attributes\":{\"filter\":{\"type\":\"object\",\"name\":\"AllIndices\",\"id\":\"p1084\"}}},\"glyph\":{\"type\":\"object\",\"name\":\"Scatter\",\"id\":\"p1079\",\"attributes\":{\"x\":{\"type\":\"field\",\"field\":\"x1\"},\"y\":{\"type\":\"field\",\"field\":\"x2\"},\"size\":{\"type\":\"value\",\"value\":8},\"line_color\":{\"type\":\"value\",\"value\":\"#1f77b4\"},\"fill_color\":{\"type\":\"value\",\"value\":\"#1f77b4\"}}},\"nonselection_glyph\":{\"type\":\"object\",\"name\":\"Scatter\",\"id\":\"p1080\",\"attributes\":{\"x\":{\"type\":\"field\",\"field\":\"x1\"},\"y\":{\"type\":\"field\",\"field\":\"x2\"},\"size\":{\"type\":\"value\",\"value\":8},\"line_color\":{\"type\":\"value\",\"value\":\"#1f77b4\"},\"line_alpha\":{\"type\":\"value\",\"value\":0.1},\"fill_color\":{\"type\":\"value\",\"value\":\"#1f77b4\"},\"fill_alpha\":{\"type\":\"value\",\"value\":0.1},\"hatch_alpha\":{\"type\":\"value\",\"value\":0.1}}},\"muted_glyph\":{\"type\":\"object\",\"name\":\"Scatter\",\"id\":\"p1081\",\"attributes\":{\"x\":{\"type\":\"field\",\"field\":\"x1\"},\"y\":{\"type\":\"field\",\"field\":\"x2\"},\"size\":{\"type\":\"value\",\"value\":8},\"line_color\":{\"type\":\"value\",\"value\":\"#1f77b4\"},\"line_alpha\":{\"type\":\"value\",\"value\":0.2},\"fill_color\":{\"type\":\"value\",\"value\":\"#1f77b4\"},\"fill_alpha\":{\"type\":\"value\",\"value\":0.2},\"hatch_alpha\":{\"type\":\"value\",\"value\":0.2}}}}}],\"toolbar\":{\"type\":\"object\",\"name\":\"Toolbar\",\"id\":\"p1056\",\"attributes\":{\"tools\":[{\"type\":\"object\",\"name\":\"PanTool\",\"id\":\"p1069\"},{\"type\":\"object\",\"name\":\"WheelZoomTool\",\"id\":\"p1070\",\"attributes\":{\"renderers\":\"auto\"}},{\"type\":\"object\",\"name\":\"ResetTool\",\"id\":\"p1071\"},{\"type\":\"object\",\"name\":\"SaveTool\",\"id\":\"p1072\"}]}},\"toolbar_location\":\"above\",\"left\":[{\"type\":\"object\",\"name\":\"LinearAxis\",\"id\":\"p1064\",\"attributes\":{\"ticker\":{\"type\":\"object\",\"name\":\"BasicTicker\",\"id\":\"p1065\",\"attributes\":{\"mantissas\":[1,2,5]}},\"formatter\":{\"type\":\"object\",\"name\":\"BasicTickFormatter\",\"id\":\"p1066\"},\"major_label_policy\":{\"type\":\"object\",\"name\":\"AllLabels\",\"id\":\"p1067\"}}}],\"below\":[{\"type\":\"object\",\"name\":\"LinearAxis\",\"id\":\"p1059\",\"attributes\":{\"ticker\":{\"type\":\"object\",\"name\":\"BasicTicker\",\"id\":\"p1060\",\"attributes\":{\"mantissas\":[1,2,5]}},\"formatter\":{\"type\":\"object\",\"name\":\"BasicTickFormatter\",\"id\":\"p1061\"},\"major_label_policy\":{\"type\":\"object\",\"name\":\"AllLabels\",\"id\":\"p1062\"}}}],\"center\":[{\"type\":\"object\",\"name\":\"Grid\",\"id\":\"p1063\",\"attributes\":{\"axis\":{\"id\":\"p1059\"}}},{\"type\":\"object\",\"name\":\"Grid\",\"id\":\"p1068\",\"attributes\":{\"dimension\":1,\"axis\":{\"id\":\"p1064\"}}},{\"type\":\"object\",\"name\":\"LabelSet\",\"id\":\"p1085\",\"attributes\":{\"source\":{\"id\":\"p1073\"},\"x\":{\"type\":\"field\",\"field\":\"x1\"},\"y\":{\"type\":\"field\",\"field\":\"x2\"},\"text\":{\"type\":\"field\",\"field\":\"names\"},\"y_offset\":{\"type\":\"value\",\"value\":6},\"text_color\":{\"type\":\"value\",\"value\":\"#555555\"},\"text_font_size\":{\"type\":\"value\",\"value\":\"8pt\"},\"text_align\":{\"type\":\"value\",\"value\":\"center\"}}}]}}]}};\n",
              "  const render_items = [{\"docid\":\"3e7b2ddb-5d37-4a64-afe7-05e1f724115d\",\"roots\":{\"p1047\":\"a15ee78e-7e10-4bd2-83ec-fa9266b60319\"},\"root_ids\":[\"p1047\"]}];\n",
              "  void root.Bokeh.embed.embed_items_notebook(docs_json, render_items);\n",
              "  }\n",
              "  if (root.Bokeh !== undefined) {\n",
              "    embed_document(root);\n",
              "  } else {\n",
              "    let attempts = 0;\n",
              "    const timer = setInterval(function(root) {\n",
              "      if (root.Bokeh !== undefined) {\n",
              "        clearInterval(timer);\n",
              "        embed_document(root);\n",
              "      } else {\n",
              "        attempts++;\n",
              "        if (attempts > 100) {\n",
              "          clearInterval(timer);\n",
              "          console.log(\"Bokeh: ERROR: Unable to run BokehJS code because BokehJS library is missing\");\n",
              "        }\n",
              "      }\n",
              "    }, 10, root)\n",
              "  }\n",
              "})(window);"
            ],
            "application/vnd.bokehjs_exec.v0+json": ""
          },
          "metadata": {
            "application/vnd.bokehjs_exec.v0+json": {
              "id": "p1047"
            }
          }
        }
      ],
      "source": [
        "output_notebook()\n",
        "\n",
        "p = figure(tools=\"pan,wheel_zoom,reset,save\",\n",
        "           toolbar_location=\"above\",\n",
        "           title=\"word2vec T-SNE (eng model, top1000 words, +SVD)\")\n",
        "\n",
        "source = ColumnDataSource(data=dict(x1=top_words_tsne2[:,0],\n",
        "                                    x2=top_words_tsne2[:,1],\n",
        "                                    names=top_words))\n",
        "\n",
        "p.scatter(x=\"x1\", y=\"x2\", size=8, source=source)\n",
        "\n",
        "labels = LabelSet(x=\"x1\", y=\"x2\", text=\"names\", y_offset=6,\n",
        "                  text_font_size=\"8pt\", text_color=\"#555555\",\n",
        "                  source=source, text_align='center')\n",
        "p.add_layout(labels)\n",
        "\n",
        "show(p)"
      ]
    },
    {
      "cell_type": "markdown",
      "metadata": {
        "id": "9qZcF3nGX-sp"
      },
      "source": [
        "## fastxt\n",
        "\n",
        "FastText uses not only words embeldings, but also n-grams. In the case, each word is automatically represented in the form of a set of symbolic N-grams. Say, if we set n = 3, then the vector for the word \"What\" will be represented by the sum of the vectors of the following trigrams: \"<when\", \"whe\", \"her\", \"er\", \"re>\" (where \"<\" and \">\" symbols indicating the beginning of the word). Thanks to this, we can also receive vectors for words that are absent in the dictionary, as well as work effectively with texts containing errors and typos.\n",
        "\n",
        "* [Статья](https://aclweb.org/anthology/Q17-1010)\n",
        "* [Сайт](https://fasttext.cc/)\n",
        "* [Тьюториал](https://fasttext.cc/docs/en/support.html)\n",
        "* [Вектора для 157 языков](https://fasttext.cc/docs/en/crawl-vectors.html)\n",
        "* [Вектора, обученные на википедии](https://fasttext.cc/docs/en/pretrained-vectors.html) (separately for 294 different languages)\n",
        "* [Репозиторий](https://github.com/facebookresearch/fasttext)\n",
        "\n",
        "There is a library `FastText` for python (with ready -made models you can work through` Gensim`)."
      ]
    },
    {
      "cell_type": "code",
      "execution_count": 63,
      "metadata": {
        "id": "s-IW_cBDX-sp"
      },
      "outputs": [],
      "source": [
        "# так можно обучить свою модель\n",
        "ft_model = fasttext.train_unsupervised('clean_text.txt', minn=3, maxn=4, dim=300)"
      ]
    },
    {
      "cell_type": "code",
      "execution_count": 64,
      "metadata": {
        "colab": {
          "base_uri": "https://localhost:8080/"
        },
        "id": "NNiuzf4DX-sr",
        "outputId": "f3a67a93-1d58-4246-de64-c08243c6c622"
      },
      "outputs": [
        {
          "output_type": "execute_result",
          "data": {
            "text/plain": [
              "array([ 0.09348863,  0.08865794, -0.01062872, -0.05482049,  0.14360785,\n",
              "        0.11044349, -0.1065911 , -0.04905809,  0.1256827 ,  0.13742325,\n",
              "       -0.03804311, -0.01221638, -0.19736831, -0.00142599, -0.05534296,\n",
              "        0.04121511, -0.07040895, -0.10771107,  0.01036993, -0.04733974],\n",
              "      dtype=float32)"
            ]
          },
          "metadata": {},
          "execution_count": 64
        }
      ],
      "source": [
        "ft_model.get_word_vector(\"movie\")[:20]"
      ]
    },
    {
      "cell_type": "code",
      "execution_count": 65,
      "metadata": {
        "colab": {
          "base_uri": "https://localhost:8080/"
        },
        "id": "TsZnXqH8X-st",
        "outputId": "09d1e263-5975-4e14-b9fd-f536dfd96d9f"
      },
      "outputs": [
        {
          "output_type": "execute_result",
          "data": {
            "text/plain": [
              "[(0.9999745488166809, 'halloween'),\n",
              " (0.999972939491272, 'green'),\n",
              " (0.999961256980896, 'steve'),\n",
              " (0.9999589323997498, 'open'),\n",
              " (0.9999557733535767, 'doubt'),\n",
              " (0.9999549388885498, 'leave'),\n",
              " (0.9999526739120483, 'beverly'),\n",
              " (0.9999523162841797, 'hayden'),\n",
              " (0.9999523162841797, 'spoken'),\n",
              " (0.9999496936798096, 'whatsoever')]"
            ]
          },
          "metadata": {},
          "execution_count": 65
        }
      ],
      "source": [
        "ft_model.get_nearest_neighbors('queen')"
      ]
    },
    {
      "cell_type": "code",
      "execution_count": 66,
      "metadata": {
        "colab": {
          "base_uri": "https://localhost:8080/"
        },
        "id": "iKR3FzCFX-sv",
        "outputId": "e6225b9b-88ed-464e-a00d-b8fe3f36b4e4"
      },
      "outputs": [
        {
          "output_type": "execute_result",
          "data": {
            "text/plain": [
              "[(0.9999468326568604, 'act'),\n",
              " (0.9999309778213501, 'actress'),\n",
              " (0.9999220371246338, 'actors'),\n",
              " (0.9999140501022339, 'actual'),\n",
              " (0.9999136924743652, 'attractive'),\n",
              " (0.9999110698699951, 'doctor'),\n",
              " (0.9999055862426758, 'perspective'),\n",
              " (0.9999051094055176, 'practically'),\n",
              " (0.999904990196228, 'impact'),\n",
              " (0.9999046325683594, 'dialog')]"
            ]
          },
          "metadata": {},
          "execution_count": 66
        }
      ],
      "source": [
        "ft_model.get_analogies(\"woman\", \"man\", \"actor\")"
      ]
    },
    {
      "cell_type": "code",
      "execution_count": 67,
      "metadata": {
        "colab": {
          "base_uri": "https://localhost:8080/"
        },
        "id": "ttAgMPC_X-sx",
        "outputId": "047a8d30-d07c-4898-8cba-718960b7f902"
      },
      "outputs": [
        {
          "output_type": "execute_result",
          "data": {
            "text/plain": [
              "[(0.9999285340309143, 'act'),\n",
              " (0.9999226927757263, 'actors'),\n",
              " (0.9999207258224487, 'actor'),\n",
              " (0.9999164342880249, 'actual'),\n",
              " (0.9998677968978882, 'script'),\n",
              " (0.9998634457588196, 'director'),\n",
              " (0.9998475313186646, 'actress'),\n",
              " (0.9998472929000854, 'poorly'),\n",
              " (0.9998461008071899, 'directors'),\n",
              " (0.9998441338539124, 'utterly')]"
            ]
          },
          "metadata": {},
          "execution_count": 67
        }
      ],
      "source": [
        "# проблема с опечатками решена\n",
        "\n",
        "ft_model.get_nearest_neighbors('actr')"
      ]
    },
    {
      "cell_type": "code",
      "execution_count": 68,
      "metadata": {
        "colab": {
          "base_uri": "https://localhost:8080/"
        },
        "id": "V9alEdz0X-s0",
        "outputId": "71ff51a2-08b2-49e5-a7be-277bdbeb1b44"
      },
      "outputs": [
        {
          "output_type": "execute_result",
          "data": {
            "text/plain": [
              "[(0.9999399185180664, 'reviews'),\n",
              " (0.9999369978904724, 'not'),\n",
              " (0.9999253749847412, 'review'),\n",
              " (0.9999204874038696, 'watchable'),\n",
              " (0.9999156594276428, 'reason'),\n",
              " (0.9999061226844788, 'move'),\n",
              " (0.9998998045921326, 'just'),\n",
              " (0.9998940825462341, 'rented'),\n",
              " (0.9998904466629028, 'realise'),\n",
              " (0.9998879432678223, 'won')]"
            ]
          },
          "metadata": {},
          "execution_count": 68
        }
      ],
      "source": [
        "# проблема с out of vocabulary словами - тоже\n",
        "\n",
        "ft_model.get_nearest_neighbors('moviegeek')"
      ]
    },
    {
      "cell_type": "code",
      "execution_count": 69,
      "metadata": {
        "jupyter": {
          "source_hidden": true
        },
        "id": "5udpSGUlPUEI",
        "outputId": "93576ecf-ff22-4e49-b7d2-251cfd9e461b",
        "colab": {
          "base_uri": "https://localhost:8080/"
        }
      },
      "outputs": [
        {
          "output_type": "stream",
          "name": "stdout",
          "text": [
            "--2025-10-05 00:19:33--  https://www.dropbox.com/s/fnpq3z4bcnoktiv/positive.csv?dl=0\n",
            "Resolving www.dropbox.com (www.dropbox.com)... 162.125.4.18, 2620:100:6019:18::a27d:412\n",
            "Connecting to www.dropbox.com (www.dropbox.com)|162.125.4.18|:443... connected.\n",
            "HTTP request sent, awaiting response... 302 Found\n",
            "Location: https://www.dropbox.com/scl/fi/6mg7rw3wltux83q2o4ah4/positive.csv?rlkey=cvruhzofza9kkfxwzyp2vskfd&dl=0 [following]\n",
            "--2025-10-05 00:19:33--  https://www.dropbox.com/scl/fi/6mg7rw3wltux83q2o4ah4/positive.csv?rlkey=cvruhzofza9kkfxwzyp2vskfd&dl=0\n",
            "Reusing existing connection to www.dropbox.com:443.\n",
            "HTTP request sent, awaiting response... 302 Found\n",
            "Location: https://ucb11f678fdc17b8a6dac988346c.dl.dropboxusercontent.com/cd/0/inline/Cyk0A6bYU79CrH00zqi0nbiE5yD0irl_4HfacmjHBVEIBgiSLNsBDgXPhV56GqYbLBKIG4_TZApzgx-sjuNq8-uzN-WqLFMePZgGZ1blv1g2Nx_bYVvgzMdSFoyMyoZuwjI/file# [following]\n",
            "--2025-10-05 00:19:34--  https://ucb11f678fdc17b8a6dac988346c.dl.dropboxusercontent.com/cd/0/inline/Cyk0A6bYU79CrH00zqi0nbiE5yD0irl_4HfacmjHBVEIBgiSLNsBDgXPhV56GqYbLBKIG4_TZApzgx-sjuNq8-uzN-WqLFMePZgGZ1blv1g2Nx_bYVvgzMdSFoyMyoZuwjI/file\n",
            "Resolving ucb11f678fdc17b8a6dac988346c.dl.dropboxusercontent.com (ucb11f678fdc17b8a6dac988346c.dl.dropboxusercontent.com)... 162.125.4.15, 2620:100:6016:15::a27d:10f\n",
            "Connecting to ucb11f678fdc17b8a6dac988346c.dl.dropboxusercontent.com (ucb11f678fdc17b8a6dac988346c.dl.dropboxusercontent.com)|162.125.4.15|:443... connected.\n",
            "HTTP request sent, awaiting response... 200 OK\n",
            "Length: 26233379 (25M) [text/plain]\n",
            "Saving to: ‘positive.csv’\n",
            "\n",
            "positive.csv        100%[===================>]  25.02M  31.0MB/s    in 0.8s    \n",
            "\n",
            "2025-10-05 00:19:35 (31.0 MB/s) - ‘positive.csv’ saved [26233379/26233379]\n",
            "\n",
            "--2025-10-05 00:19:35--  https://www.dropbox.com/s/r6u59ljhhjdg6j0/negative.csv?dl=0\n",
            "Resolving www.dropbox.com (www.dropbox.com)... 162.125.4.18, 2620:100:6019:18::a27d:412\n",
            "Connecting to www.dropbox.com (www.dropbox.com)|162.125.4.18|:443... connected.\n",
            "HTTP request sent, awaiting response... 302 Found\n",
            "Location: https://www.dropbox.com/scl/fi/wui0xz78kpna56690uej4/negative.csv?rlkey=309xeou9u3rtbejw9stb13wfr&dl=0 [following]\n",
            "--2025-10-05 00:19:35--  https://www.dropbox.com/scl/fi/wui0xz78kpna56690uej4/negative.csv?rlkey=309xeou9u3rtbejw9stb13wfr&dl=0\n",
            "Reusing existing connection to www.dropbox.com:443.\n",
            "HTTP request sent, awaiting response... 302 Found\n",
            "Location: https://ucd71193aba93074efaaa5b659b1.dl.dropboxusercontent.com/cd/0/inline/CymNkmm6_4w0Unf9BZdEq5lpwYbWVrGFCfncIJHWL7w6wR5guRivBfrhgCMokc7DOhgmnjW81SI20anvy5PhXEMC_Ye_cg33jOCz7H5Dt__vPj1rTyysBBEnveVfMnt77PA/file# [following]\n",
            "--2025-10-05 00:19:36--  https://ucd71193aba93074efaaa5b659b1.dl.dropboxusercontent.com/cd/0/inline/CymNkmm6_4w0Unf9BZdEq5lpwYbWVrGFCfncIJHWL7w6wR5guRivBfrhgCMokc7DOhgmnjW81SI20anvy5PhXEMC_Ye_cg33jOCz7H5Dt__vPj1rTyysBBEnveVfMnt77PA/file\n",
            "Resolving ucd71193aba93074efaaa5b659b1.dl.dropboxusercontent.com (ucd71193aba93074efaaa5b659b1.dl.dropboxusercontent.com)... 162.125.4.15, 2620:100:6019:15::a27d:40f\n",
            "Connecting to ucd71193aba93074efaaa5b659b1.dl.dropboxusercontent.com (ucd71193aba93074efaaa5b659b1.dl.dropboxusercontent.com)|162.125.4.15|:443... connected.\n",
            "HTTP request sent, awaiting response... 200 OK\n",
            "Length: 24450101 (23M) [text/plain]\n",
            "Saving to: ‘negative.csv’\n",
            "\n",
            "negative.csv        100%[===================>]  23.32M  29.1MB/s    in 0.8s    \n",
            "\n",
            "2025-10-05 00:19:37 (29.1 MB/s) - ‘negative.csv’ saved [24450101/24450101]\n",
            "\n"
          ]
        }
      ],
      "source": [
        "! wget -O positive.csv https://www.dropbox.com/s/fnpq3z4bcnoktiv/positive.csv?dl=0\n",
        "! wget -O negative.csv https://www.dropbox.com/s/r6u59ljhhjdg6j0/negative.csv?dl=0"
      ]
    },
    {
      "cell_type": "code",
      "execution_count": 70,
      "metadata": {
        "colab": {
          "base_uri": "https://localhost:8080/",
          "height": 206
        },
        "id": "HLidtYsuX-s8",
        "outputId": "9cc66dc1-48f1-4d2a-a818-3b57a03fc634"
      },
      "outputs": [
        {
          "output_type": "execute_result",
          "data": {
            "text/plain": [
              "                                                text     label\n",
              "0  @first_timee хоть я и школота, но поверь, у на...  positive\n",
              "1  Да, все-таки он немного похож на него. Но мой ...  positive\n",
              "2  RT @KatiaCheh: Ну ты идиотка) я испугалась за ...  positive\n",
              "3  RT @digger2912: \"Кто то в углу сидит и погибае...  positive\n",
              "4  @irina_dyshkant Вот что значит страшилка :D\\nН...  positive"
            ],
            "text/html": [
              "\n",
              "  <div id=\"df-6dcee71f-0220-4a00-bd09-7175402595f0\" class=\"colab-df-container\">\n",
              "    <div>\n",
              "<style scoped>\n",
              "    .dataframe tbody tr th:only-of-type {\n",
              "        vertical-align: middle;\n",
              "    }\n",
              "\n",
              "    .dataframe tbody tr th {\n",
              "        vertical-align: top;\n",
              "    }\n",
              "\n",
              "    .dataframe thead th {\n",
              "        text-align: right;\n",
              "    }\n",
              "</style>\n",
              "<table border=\"1\" class=\"dataframe\">\n",
              "  <thead>\n",
              "    <tr style=\"text-align: right;\">\n",
              "      <th></th>\n",
              "      <th>text</th>\n",
              "      <th>label</th>\n",
              "    </tr>\n",
              "  </thead>\n",
              "  <tbody>\n",
              "    <tr>\n",
              "      <th>0</th>\n",
              "      <td>@first_timee хоть я и школота, но поверь, у на...</td>\n",
              "      <td>positive</td>\n",
              "    </tr>\n",
              "    <tr>\n",
              "      <th>1</th>\n",
              "      <td>Да, все-таки он немного похож на него. Но мой ...</td>\n",
              "      <td>positive</td>\n",
              "    </tr>\n",
              "    <tr>\n",
              "      <th>2</th>\n",
              "      <td>RT @KatiaCheh: Ну ты идиотка) я испугалась за ...</td>\n",
              "      <td>positive</td>\n",
              "    </tr>\n",
              "    <tr>\n",
              "      <th>3</th>\n",
              "      <td>RT @digger2912: \"Кто то в углу сидит и погибае...</td>\n",
              "      <td>positive</td>\n",
              "    </tr>\n",
              "    <tr>\n",
              "      <th>4</th>\n",
              "      <td>@irina_dyshkant Вот что значит страшилка :D\\nН...</td>\n",
              "      <td>positive</td>\n",
              "    </tr>\n",
              "  </tbody>\n",
              "</table>\n",
              "</div>\n",
              "    <div class=\"colab-df-buttons\">\n",
              "\n",
              "  <div class=\"colab-df-container\">\n",
              "    <button class=\"colab-df-convert\" onclick=\"convertToInteractive('df-6dcee71f-0220-4a00-bd09-7175402595f0')\"\n",
              "            title=\"Convert this dataframe to an interactive table.\"\n",
              "            style=\"display:none;\">\n",
              "\n",
              "  <svg xmlns=\"http://www.w3.org/2000/svg\" height=\"24px\" viewBox=\"0 -960 960 960\">\n",
              "    <path d=\"M120-120v-720h720v720H120Zm60-500h600v-160H180v160Zm220 220h160v-160H400v160Zm0 220h160v-160H400v160ZM180-400h160v-160H180v160Zm440 0h160v-160H620v160ZM180-180h160v-160H180v160Zm440 0h160v-160H620v160Z\"/>\n",
              "  </svg>\n",
              "    </button>\n",
              "\n",
              "  <style>\n",
              "    .colab-df-container {\n",
              "      display:flex;\n",
              "      gap: 12px;\n",
              "    }\n",
              "\n",
              "    .colab-df-convert {\n",
              "      background-color: #E8F0FE;\n",
              "      border: none;\n",
              "      border-radius: 50%;\n",
              "      cursor: pointer;\n",
              "      display: none;\n",
              "      fill: #1967D2;\n",
              "      height: 32px;\n",
              "      padding: 0 0 0 0;\n",
              "      width: 32px;\n",
              "    }\n",
              "\n",
              "    .colab-df-convert:hover {\n",
              "      background-color: #E2EBFA;\n",
              "      box-shadow: 0px 1px 2px rgba(60, 64, 67, 0.3), 0px 1px 3px 1px rgba(60, 64, 67, 0.15);\n",
              "      fill: #174EA6;\n",
              "    }\n",
              "\n",
              "    .colab-df-buttons div {\n",
              "      margin-bottom: 4px;\n",
              "    }\n",
              "\n",
              "    [theme=dark] .colab-df-convert {\n",
              "      background-color: #3B4455;\n",
              "      fill: #D2E3FC;\n",
              "    }\n",
              "\n",
              "    [theme=dark] .colab-df-convert:hover {\n",
              "      background-color: #434B5C;\n",
              "      box-shadow: 0px 1px 3px 1px rgba(0, 0, 0, 0.15);\n",
              "      filter: drop-shadow(0px 1px 2px rgba(0, 0, 0, 0.3));\n",
              "      fill: #FFFFFF;\n",
              "    }\n",
              "  </style>\n",
              "\n",
              "    <script>\n",
              "      const buttonEl =\n",
              "        document.querySelector('#df-6dcee71f-0220-4a00-bd09-7175402595f0 button.colab-df-convert');\n",
              "      buttonEl.style.display =\n",
              "        google.colab.kernel.accessAllowed ? 'block' : 'none';\n",
              "\n",
              "      async function convertToInteractive(key) {\n",
              "        const element = document.querySelector('#df-6dcee71f-0220-4a00-bd09-7175402595f0');\n",
              "        const dataTable =\n",
              "          await google.colab.kernel.invokeFunction('convertToInteractive',\n",
              "                                                    [key], {});\n",
              "        if (!dataTable) return;\n",
              "\n",
              "        const docLinkHtml = 'Like what you see? Visit the ' +\n",
              "          '<a target=\"_blank\" href=https://colab.research.google.com/notebooks/data_table.ipynb>data table notebook</a>'\n",
              "          + ' to learn more about interactive tables.';\n",
              "        element.innerHTML = '';\n",
              "        dataTable['output_type'] = 'display_data';\n",
              "        await google.colab.output.renderOutput(dataTable, element);\n",
              "        const docLink = document.createElement('div');\n",
              "        docLink.innerHTML = docLinkHtml;\n",
              "        element.appendChild(docLink);\n",
              "      }\n",
              "    </script>\n",
              "  </div>\n",
              "\n",
              "\n",
              "    <div id=\"df-4e94dd90-c845-49bc-9741-7c3708e6d562\">\n",
              "      <button class=\"colab-df-quickchart\" onclick=\"quickchart('df-4e94dd90-c845-49bc-9741-7c3708e6d562')\"\n",
              "                title=\"Suggest charts\"\n",
              "                style=\"display:none;\">\n",
              "\n",
              "<svg xmlns=\"http://www.w3.org/2000/svg\" height=\"24px\"viewBox=\"0 0 24 24\"\n",
              "     width=\"24px\">\n",
              "    <g>\n",
              "        <path d=\"M19 3H5c-1.1 0-2 .9-2 2v14c0 1.1.9 2 2 2h14c1.1 0 2-.9 2-2V5c0-1.1-.9-2-2-2zM9 17H7v-7h2v7zm4 0h-2V7h2v10zm4 0h-2v-4h2v4z\"/>\n",
              "    </g>\n",
              "</svg>\n",
              "      </button>\n",
              "\n",
              "<style>\n",
              "  .colab-df-quickchart {\n",
              "      --bg-color: #E8F0FE;\n",
              "      --fill-color: #1967D2;\n",
              "      --hover-bg-color: #E2EBFA;\n",
              "      --hover-fill-color: #174EA6;\n",
              "      --disabled-fill-color: #AAA;\n",
              "      --disabled-bg-color: #DDD;\n",
              "  }\n",
              "\n",
              "  [theme=dark] .colab-df-quickchart {\n",
              "      --bg-color: #3B4455;\n",
              "      --fill-color: #D2E3FC;\n",
              "      --hover-bg-color: #434B5C;\n",
              "      --hover-fill-color: #FFFFFF;\n",
              "      --disabled-bg-color: #3B4455;\n",
              "      --disabled-fill-color: #666;\n",
              "  }\n",
              "\n",
              "  .colab-df-quickchart {\n",
              "    background-color: var(--bg-color);\n",
              "    border: none;\n",
              "    border-radius: 50%;\n",
              "    cursor: pointer;\n",
              "    display: none;\n",
              "    fill: var(--fill-color);\n",
              "    height: 32px;\n",
              "    padding: 0;\n",
              "    width: 32px;\n",
              "  }\n",
              "\n",
              "  .colab-df-quickchart:hover {\n",
              "    background-color: var(--hover-bg-color);\n",
              "    box-shadow: 0 1px 2px rgba(60, 64, 67, 0.3), 0 1px 3px 1px rgba(60, 64, 67, 0.15);\n",
              "    fill: var(--button-hover-fill-color);\n",
              "  }\n",
              "\n",
              "  .colab-df-quickchart-complete:disabled,\n",
              "  .colab-df-quickchart-complete:disabled:hover {\n",
              "    background-color: var(--disabled-bg-color);\n",
              "    fill: var(--disabled-fill-color);\n",
              "    box-shadow: none;\n",
              "  }\n",
              "\n",
              "  .colab-df-spinner {\n",
              "    border: 2px solid var(--fill-color);\n",
              "    border-color: transparent;\n",
              "    border-bottom-color: var(--fill-color);\n",
              "    animation:\n",
              "      spin 1s steps(1) infinite;\n",
              "  }\n",
              "\n",
              "  @keyframes spin {\n",
              "    0% {\n",
              "      border-color: transparent;\n",
              "      border-bottom-color: var(--fill-color);\n",
              "      border-left-color: var(--fill-color);\n",
              "    }\n",
              "    20% {\n",
              "      border-color: transparent;\n",
              "      border-left-color: var(--fill-color);\n",
              "      border-top-color: var(--fill-color);\n",
              "    }\n",
              "    30% {\n",
              "      border-color: transparent;\n",
              "      border-left-color: var(--fill-color);\n",
              "      border-top-color: var(--fill-color);\n",
              "      border-right-color: var(--fill-color);\n",
              "    }\n",
              "    40% {\n",
              "      border-color: transparent;\n",
              "      border-right-color: var(--fill-color);\n",
              "      border-top-color: var(--fill-color);\n",
              "    }\n",
              "    60% {\n",
              "      border-color: transparent;\n",
              "      border-right-color: var(--fill-color);\n",
              "    }\n",
              "    80% {\n",
              "      border-color: transparent;\n",
              "      border-right-color: var(--fill-color);\n",
              "      border-bottom-color: var(--fill-color);\n",
              "    }\n",
              "    90% {\n",
              "      border-color: transparent;\n",
              "      border-bottom-color: var(--fill-color);\n",
              "    }\n",
              "  }\n",
              "</style>\n",
              "\n",
              "      <script>\n",
              "        async function quickchart(key) {\n",
              "          const quickchartButtonEl =\n",
              "            document.querySelector('#' + key + ' button');\n",
              "          quickchartButtonEl.disabled = true;  // To prevent multiple clicks.\n",
              "          quickchartButtonEl.classList.add('colab-df-spinner');\n",
              "          try {\n",
              "            const charts = await google.colab.kernel.invokeFunction(\n",
              "                'suggestCharts', [key], {});\n",
              "          } catch (error) {\n",
              "            console.error('Error during call to suggestCharts:', error);\n",
              "          }\n",
              "          quickchartButtonEl.classList.remove('colab-df-spinner');\n",
              "          quickchartButtonEl.classList.add('colab-df-quickchart-complete');\n",
              "        }\n",
              "        (() => {\n",
              "          let quickchartButtonEl =\n",
              "            document.querySelector('#df-4e94dd90-c845-49bc-9741-7c3708e6d562 button');\n",
              "          quickchartButtonEl.style.display =\n",
              "            google.colab.kernel.accessAllowed ? 'block' : 'none';\n",
              "        })();\n",
              "      </script>\n",
              "    </div>\n",
              "\n",
              "    </div>\n",
              "  </div>\n"
            ],
            "application/vnd.google.colaboratory.intrinsic+json": {
              "type": "dataframe",
              "variable_name": "df"
            }
          },
          "metadata": {},
          "execution_count": 70
        }
      ],
      "source": [
        "positive = pd.read_csv('positive.csv', sep=';', usecols=[3], names=['text'])\n",
        "positive['label'] = ['positive'] * len(positive)\n",
        "negative = pd.read_csv('negative.csv', sep=';', usecols=[3], names=['text'])\n",
        "negative['label'] = ['negative'] * len(negative)\n",
        "df = pd.concat((positive, negative))\n",
        "df.head()"
      ]
    },
    {
      "cell_type": "code",
      "execution_count": 71,
      "metadata": {
        "colab": {
          "base_uri": "https://localhost:8080/"
        },
        "id": "-YB6B4CvmNJ8",
        "outputId": "f2762d8c-93d7-4e99-9508-acf5017db32d"
      },
      "outputs": [
        {
          "output_type": "execute_result",
          "data": {
            "text/plain": [
              "226834"
            ]
          },
          "metadata": {},
          "execution_count": 71
        }
      ],
      "source": [
        "len(df)"
      ]
    },
    {
      "cell_type": "markdown",
      "metadata": {
        "id": "5jtZR-uYX-tA"
      },
      "source": [
        "We will conduct standard pre -processing:"
      ]
    },
    {
      "cell_type": "code",
      "execution_count": 72,
      "metadata": {
        "id": "3qAiiLvsX-tB",
        "outputId": "030cd596-36a0-4eaf-99c5-19800e433166",
        "colab": {
          "base_uri": "https://localhost:8080/"
        }
      },
      "outputs": [
        {
          "output_type": "stream",
          "name": "stderr",
          "text": [
            "<>:3: SyntaxWarning: invalid escape sequence '\\)'\n",
            "<>:3: SyntaxWarning: invalid escape sequence '\\)'\n",
            "/tmp/ipython-input-3134102254.py:3: SyntaxWarning: invalid escape sequence '\\)'\n",
            "  regex = re.compile(\"[А-Яа-я:=!\\)\\()A-z\\_\\%/|]+\")\n"
          ]
        }
      ],
      "source": [
        "m = MorphAnalyzer()\n",
        "\n",
        "regex = re.compile(\"[А-Яа-я:=!\\)\\()A-z\\_\\%/|]+\")\n",
        "\n",
        "def words_only(text, regex=regex):\n",
        "    try:\n",
        "        return regex.findall(text)\n",
        "    except:\n",
        "        return []"
      ]
    },
    {
      "cell_type": "code",
      "execution_count": 73,
      "metadata": {
        "id": "9zakhvVrX-tC"
      },
      "outputs": [],
      "source": [
        "#@lru_cache(maxsize=128)\n",
        "# если вы работаете не колабе, можно заменить pymorphy на mystem и раскомментирвать первую строку про lru_cache\n",
        "def lemmatize(text, pymorphy=m):\n",
        "    try:\n",
        "        return \" \".join([pymorphy.parse(w)[0].normal_form for w in text])\n",
        "    except:\n",
        "        return \" \""
      ]
    },
    {
      "cell_type": "code",
      "execution_count": 74,
      "metadata": {
        "id": "nDQdq4MLX-tE"
      },
      "outputs": [],
      "source": [
        "def clean_text(text):\n",
        "    return lemmatize(words_only(text))"
      ]
    },
    {
      "cell_type": "code",
      "execution_count": null,
      "metadata": {
        "id": "ul08w2I6PUEM"
      },
      "outputs": [],
      "source": [
        "5"
      ]
    },
    {
      "cell_type": "code",
      "execution_count": 75,
      "metadata": {
        "colab": {
          "base_uri": "https://localhost:8080/",
          "height": 290,
          "referenced_widgets": [
            "e9de96ae66294c7bb766d757b467ea81",
            "24c120d3a58d4fcdb35a6b0a7abc81b7",
            "19f1355d5b564fe8b32d690db18ef468",
            "f557103e9dd344d4b35687261c19918d",
            "f84845d20394446584797390eb0bf8b1",
            "c2bbe800f2fa4406bf614e2b480b641c",
            "5ef07e86e4bd4178a5cdd49166a7c90b",
            "84650b9c281f47149d5b75600cdd8753",
            "027df8e8304340e198d90dfdf0f4deb3",
            "65a8491921a34a9fa37f5ff90a95be1b",
            "13ce7e451e59442595243eefc5bdf835"
          ]
        },
        "collapsed": true,
        "id": "fj6dS127X-tG",
        "jupyter": {
          "outputs_hidden": true
        },
        "outputId": "28ba066f-d4cc-482e-b629-692c55cb8cdb",
        "scrolled": true
      },
      "outputs": [
        {
          "output_type": "stream",
          "name": "stderr",
          "text": [
            "/tmp/ipython-input-2187888392.py:2: TqdmDeprecationWarning: This function will be removed in tqdm==5.0.0\n",
            "Please use `tqdm.notebook.tqdm` instead of `tqdm.tqdm_notebook`\n",
            "  lemmas = list(tqdm(p.imap(clean_text, df['text']), total=len(df)))\n"
          ]
        },
        {
          "output_type": "display_data",
          "data": {
            "text/plain": [
              "  0%|          | 0/226834 [00:00<?, ?it/s]"
            ],
            "application/vnd.jupyter.widget-view+json": {
              "version_major": 2,
              "version_minor": 0,
              "model_id": "e9de96ae66294c7bb766d757b467ea81"
            }
          },
          "metadata": {}
        },
        {
          "output_type": "execute_result",
          "data": {
            "text/plain": [
              "                                                text     label  \\\n",
              "0  @first_timee хоть я и школота, но поверь, у на...  positive   \n",
              "1  Да, все-таки он немного похож на него. Но мой ...  positive   \n",
              "2  RT @KatiaCheh: Ну ты идиотка) я испугалась за ...  positive   \n",
              "3  RT @digger2912: \"Кто то в углу сидит и погибае...  positive   \n",
              "4  @irina_dyshkant Вот что значит страшилка :D\\nН...  positive   \n",
              "\n",
              "                                              lemmas  \n",
              "0  first_timee хоть я и школотый но поверь у мы т...  \n",
              "1  да всё таки он немного похожий на он но мой ма...  \n",
              "2  rt katiacheh: ну ты идиотка) я испугаться за т...  \n",
              "3  rt digger : кто то в угол сидеть и погибать от...  \n",
              "4  irina_dyshkant вот что значит страшилка :d но ...  "
            ],
            "text/html": [
              "\n",
              "  <div id=\"df-75e8e551-1433-4e2d-a1f3-c0818071442a\" class=\"colab-df-container\">\n",
              "    <div>\n",
              "<style scoped>\n",
              "    .dataframe tbody tr th:only-of-type {\n",
              "        vertical-align: middle;\n",
              "    }\n",
              "\n",
              "    .dataframe tbody tr th {\n",
              "        vertical-align: top;\n",
              "    }\n",
              "\n",
              "    .dataframe thead th {\n",
              "        text-align: right;\n",
              "    }\n",
              "</style>\n",
              "<table border=\"1\" class=\"dataframe\">\n",
              "  <thead>\n",
              "    <tr style=\"text-align: right;\">\n",
              "      <th></th>\n",
              "      <th>text</th>\n",
              "      <th>label</th>\n",
              "      <th>lemmas</th>\n",
              "    </tr>\n",
              "  </thead>\n",
              "  <tbody>\n",
              "    <tr>\n",
              "      <th>0</th>\n",
              "      <td>@first_timee хоть я и школота, но поверь, у на...</td>\n",
              "      <td>positive</td>\n",
              "      <td>first_timee хоть я и школотый но поверь у мы т...</td>\n",
              "    </tr>\n",
              "    <tr>\n",
              "      <th>1</th>\n",
              "      <td>Да, все-таки он немного похож на него. Но мой ...</td>\n",
              "      <td>positive</td>\n",
              "      <td>да всё таки он немного похожий на он но мой ма...</td>\n",
              "    </tr>\n",
              "    <tr>\n",
              "      <th>2</th>\n",
              "      <td>RT @KatiaCheh: Ну ты идиотка) я испугалась за ...</td>\n",
              "      <td>positive</td>\n",
              "      <td>rt katiacheh: ну ты идиотка) я испугаться за т...</td>\n",
              "    </tr>\n",
              "    <tr>\n",
              "      <th>3</th>\n",
              "      <td>RT @digger2912: \"Кто то в углу сидит и погибае...</td>\n",
              "      <td>positive</td>\n",
              "      <td>rt digger : кто то в угол сидеть и погибать от...</td>\n",
              "    </tr>\n",
              "    <tr>\n",
              "      <th>4</th>\n",
              "      <td>@irina_dyshkant Вот что значит страшилка :D\\nН...</td>\n",
              "      <td>positive</td>\n",
              "      <td>irina_dyshkant вот что значит страшилка :d но ...</td>\n",
              "    </tr>\n",
              "  </tbody>\n",
              "</table>\n",
              "</div>\n",
              "    <div class=\"colab-df-buttons\">\n",
              "\n",
              "  <div class=\"colab-df-container\">\n",
              "    <button class=\"colab-df-convert\" onclick=\"convertToInteractive('df-75e8e551-1433-4e2d-a1f3-c0818071442a')\"\n",
              "            title=\"Convert this dataframe to an interactive table.\"\n",
              "            style=\"display:none;\">\n",
              "\n",
              "  <svg xmlns=\"http://www.w3.org/2000/svg\" height=\"24px\" viewBox=\"0 -960 960 960\">\n",
              "    <path d=\"M120-120v-720h720v720H120Zm60-500h600v-160H180v160Zm220 220h160v-160H400v160Zm0 220h160v-160H400v160ZM180-400h160v-160H180v160Zm440 0h160v-160H620v160ZM180-180h160v-160H180v160Zm440 0h160v-160H620v160Z\"/>\n",
              "  </svg>\n",
              "    </button>\n",
              "\n",
              "  <style>\n",
              "    .colab-df-container {\n",
              "      display:flex;\n",
              "      gap: 12px;\n",
              "    }\n",
              "\n",
              "    .colab-df-convert {\n",
              "      background-color: #E8F0FE;\n",
              "      border: none;\n",
              "      border-radius: 50%;\n",
              "      cursor: pointer;\n",
              "      display: none;\n",
              "      fill: #1967D2;\n",
              "      height: 32px;\n",
              "      padding: 0 0 0 0;\n",
              "      width: 32px;\n",
              "    }\n",
              "\n",
              "    .colab-df-convert:hover {\n",
              "      background-color: #E2EBFA;\n",
              "      box-shadow: 0px 1px 2px rgba(60, 64, 67, 0.3), 0px 1px 3px 1px rgba(60, 64, 67, 0.15);\n",
              "      fill: #174EA6;\n",
              "    }\n",
              "\n",
              "    .colab-df-buttons div {\n",
              "      margin-bottom: 4px;\n",
              "    }\n",
              "\n",
              "    [theme=dark] .colab-df-convert {\n",
              "      background-color: #3B4455;\n",
              "      fill: #D2E3FC;\n",
              "    }\n",
              "\n",
              "    [theme=dark] .colab-df-convert:hover {\n",
              "      background-color: #434B5C;\n",
              "      box-shadow: 0px 1px 3px 1px rgba(0, 0, 0, 0.15);\n",
              "      filter: drop-shadow(0px 1px 2px rgba(0, 0, 0, 0.3));\n",
              "      fill: #FFFFFF;\n",
              "    }\n",
              "  </style>\n",
              "\n",
              "    <script>\n",
              "      const buttonEl =\n",
              "        document.querySelector('#df-75e8e551-1433-4e2d-a1f3-c0818071442a button.colab-df-convert');\n",
              "      buttonEl.style.display =\n",
              "        google.colab.kernel.accessAllowed ? 'block' : 'none';\n",
              "\n",
              "      async function convertToInteractive(key) {\n",
              "        const element = document.querySelector('#df-75e8e551-1433-4e2d-a1f3-c0818071442a');\n",
              "        const dataTable =\n",
              "          await google.colab.kernel.invokeFunction('convertToInteractive',\n",
              "                                                    [key], {});\n",
              "        if (!dataTable) return;\n",
              "\n",
              "        const docLinkHtml = 'Like what you see? Visit the ' +\n",
              "          '<a target=\"_blank\" href=https://colab.research.google.com/notebooks/data_table.ipynb>data table notebook</a>'\n",
              "          + ' to learn more about interactive tables.';\n",
              "        element.innerHTML = '';\n",
              "        dataTable['output_type'] = 'display_data';\n",
              "        await google.colab.output.renderOutput(dataTable, element);\n",
              "        const docLink = document.createElement('div');\n",
              "        docLink.innerHTML = docLinkHtml;\n",
              "        element.appendChild(docLink);\n",
              "      }\n",
              "    </script>\n",
              "  </div>\n",
              "\n",
              "\n",
              "    <div id=\"df-b4663b7a-0cb2-4362-a8f6-1e9397a959c4\">\n",
              "      <button class=\"colab-df-quickchart\" onclick=\"quickchart('df-b4663b7a-0cb2-4362-a8f6-1e9397a959c4')\"\n",
              "                title=\"Suggest charts\"\n",
              "                style=\"display:none;\">\n",
              "\n",
              "<svg xmlns=\"http://www.w3.org/2000/svg\" height=\"24px\"viewBox=\"0 0 24 24\"\n",
              "     width=\"24px\">\n",
              "    <g>\n",
              "        <path d=\"M19 3H5c-1.1 0-2 .9-2 2v14c0 1.1.9 2 2 2h14c1.1 0 2-.9 2-2V5c0-1.1-.9-2-2-2zM9 17H7v-7h2v7zm4 0h-2V7h2v10zm4 0h-2v-4h2v4z\"/>\n",
              "    </g>\n",
              "</svg>\n",
              "      </button>\n",
              "\n",
              "<style>\n",
              "  .colab-df-quickchart {\n",
              "      --bg-color: #E8F0FE;\n",
              "      --fill-color: #1967D2;\n",
              "      --hover-bg-color: #E2EBFA;\n",
              "      --hover-fill-color: #174EA6;\n",
              "      --disabled-fill-color: #AAA;\n",
              "      --disabled-bg-color: #DDD;\n",
              "  }\n",
              "\n",
              "  [theme=dark] .colab-df-quickchart {\n",
              "      --bg-color: #3B4455;\n",
              "      --fill-color: #D2E3FC;\n",
              "      --hover-bg-color: #434B5C;\n",
              "      --hover-fill-color: #FFFFFF;\n",
              "      --disabled-bg-color: #3B4455;\n",
              "      --disabled-fill-color: #666;\n",
              "  }\n",
              "\n",
              "  .colab-df-quickchart {\n",
              "    background-color: var(--bg-color);\n",
              "    border: none;\n",
              "    border-radius: 50%;\n",
              "    cursor: pointer;\n",
              "    display: none;\n",
              "    fill: var(--fill-color);\n",
              "    height: 32px;\n",
              "    padding: 0;\n",
              "    width: 32px;\n",
              "  }\n",
              "\n",
              "  .colab-df-quickchart:hover {\n",
              "    background-color: var(--hover-bg-color);\n",
              "    box-shadow: 0 1px 2px rgba(60, 64, 67, 0.3), 0 1px 3px 1px rgba(60, 64, 67, 0.15);\n",
              "    fill: var(--button-hover-fill-color);\n",
              "  }\n",
              "\n",
              "  .colab-df-quickchart-complete:disabled,\n",
              "  .colab-df-quickchart-complete:disabled:hover {\n",
              "    background-color: var(--disabled-bg-color);\n",
              "    fill: var(--disabled-fill-color);\n",
              "    box-shadow: none;\n",
              "  }\n",
              "\n",
              "  .colab-df-spinner {\n",
              "    border: 2px solid var(--fill-color);\n",
              "    border-color: transparent;\n",
              "    border-bottom-color: var(--fill-color);\n",
              "    animation:\n",
              "      spin 1s steps(1) infinite;\n",
              "  }\n",
              "\n",
              "  @keyframes spin {\n",
              "    0% {\n",
              "      border-color: transparent;\n",
              "      border-bottom-color: var(--fill-color);\n",
              "      border-left-color: var(--fill-color);\n",
              "    }\n",
              "    20% {\n",
              "      border-color: transparent;\n",
              "      border-left-color: var(--fill-color);\n",
              "      border-top-color: var(--fill-color);\n",
              "    }\n",
              "    30% {\n",
              "      border-color: transparent;\n",
              "      border-left-color: var(--fill-color);\n",
              "      border-top-color: var(--fill-color);\n",
              "      border-right-color: var(--fill-color);\n",
              "    }\n",
              "    40% {\n",
              "      border-color: transparent;\n",
              "      border-right-color: var(--fill-color);\n",
              "      border-top-color: var(--fill-color);\n",
              "    }\n",
              "    60% {\n",
              "      border-color: transparent;\n",
              "      border-right-color: var(--fill-color);\n",
              "    }\n",
              "    80% {\n",
              "      border-color: transparent;\n",
              "      border-right-color: var(--fill-color);\n",
              "      border-bottom-color: var(--fill-color);\n",
              "    }\n",
              "    90% {\n",
              "      border-color: transparent;\n",
              "      border-bottom-color: var(--fill-color);\n",
              "    }\n",
              "  }\n",
              "</style>\n",
              "\n",
              "      <script>\n",
              "        async function quickchart(key) {\n",
              "          const quickchartButtonEl =\n",
              "            document.querySelector('#' + key + ' button');\n",
              "          quickchartButtonEl.disabled = true;  // To prevent multiple clicks.\n",
              "          quickchartButtonEl.classList.add('colab-df-spinner');\n",
              "          try {\n",
              "            const charts = await google.colab.kernel.invokeFunction(\n",
              "                'suggestCharts', [key], {});\n",
              "          } catch (error) {\n",
              "            console.error('Error during call to suggestCharts:', error);\n",
              "          }\n",
              "          quickchartButtonEl.classList.remove('colab-df-spinner');\n",
              "          quickchartButtonEl.classList.add('colab-df-quickchart-complete');\n",
              "        }\n",
              "        (() => {\n",
              "          let quickchartButtonEl =\n",
              "            document.querySelector('#df-b4663b7a-0cb2-4362-a8f6-1e9397a959c4 button');\n",
              "          quickchartButtonEl.style.display =\n",
              "            google.colab.kernel.accessAllowed ? 'block' : 'none';\n",
              "        })();\n",
              "      </script>\n",
              "    </div>\n",
              "\n",
              "    </div>\n",
              "  </div>\n"
            ],
            "application/vnd.google.colaboratory.intrinsic+json": {
              "type": "dataframe",
              "variable_name": "df"
            }
          },
          "metadata": {},
          "execution_count": 75
        }
      ],
      "source": [
        "with Pool(8) as p:\n",
        "    lemmas = list(tqdm(p.imap(clean_text, df['text']), total=len(df)))\n",
        "\n",
        "df['lemmas'] = lemmas\n",
        "df.head()"
      ]
    },
    {
      "cell_type": "markdown",
      "metadata": {
        "id": "3QuPeLrvX-tI"
      },
      "source": [
        "We write down the received data in format for teaching the classifier:"
      ]
    },
    {
      "cell_type": "code",
      "execution_count": 76,
      "metadata": {
        "colab": {
          "base_uri": "https://localhost:8080/"
        },
        "id": "AGOFQSekX-tI",
        "outputId": "c489865d-9991-484a-8bf8-af614ff4d83e"
      },
      "outputs": [
        {
          "output_type": "stream",
          "name": "stdout",
          "text": [
            "total train examples 151978\n",
            "total test examples 74856\n"
          ]
        }
      ],
      "source": [
        "X = df.lemmas.tolist()\n",
        "y = df.label.tolist()\n",
        "\n",
        "X, y = np.array(X), np.array(y)\n",
        "\n",
        "X_train, X_test, y_train, y_test = train_test_split(X,y, test_size=0.33)\n",
        "print (\"total train examples %s\" % len(y_train))\n",
        "print (\"total test examples %s\" % len(y_test))"
      ]
    },
    {
      "cell_type": "code",
      "execution_count": 77,
      "metadata": {
        "id": "mogTwRfnX-tK"
      },
      "outputs": [],
      "source": [
        "with open('data.train.txt', 'w+') as outfile:\n",
        "    for i in range(len(X_train)):\n",
        "        outfile.write('__label__' + y_train[i] + ' '+ X_train[i] + '\\n')\n",
        "\n",
        "\n",
        "with open('test.txt', 'w+') as outfile:\n",
        "    for i in range(len(X_test)):\n",
        "        outfile.write('__label__' + y_test[i] + ' ' + X_test[i] + '\\n')"
      ]
    },
    {
      "cell_type": "code",
      "execution_count": 78,
      "metadata": {
        "colab": {
          "base_uri": "https://localhost:8080/"
        },
        "id": "u0rt2mhjX-tL",
        "outputId": "a1f684f5-8d60-4657-b111-94f3b81bdf5e"
      },
      "outputs": [
        {
          "output_type": "stream",
          "name": "stdout",
          "text": [
            "P@1: 0.896574756866517\n",
            "R@1: 0.896574756866517\n",
            "Number of examples: 74856\n"
          ]
        }
      ],
      "source": [
        "classifier = fasttext.train_supervised('data.train.txt')\n",
        "result = classifier.test('test.txt')\n",
        "\n",
        "print('P@1:', result[1])\n",
        "print('R@1:', result[2])\n",
        "print('Number of examples:', result[0])"
      ]
    },
    {
      "cell_type": "code",
      "execution_count": null,
      "metadata": {
        "id": "jCJ5QA0m0rOc"
      },
      "outputs": [],
      "source": []
    }
  ],
  "metadata": {
    "colab": {
      "collapsed_sections": [
        "yXNm8flVX-rP",
        "0rfihwVJKwzC",
        "ZNHMtmbqX-rl",
        "CXKnPffPX-sY",
        "Sv0wxUXIX-se"
      ],
      "provenance": []
    },
    "kernelspec": {
      "display_name": "Python 3 (ipykernel)",
      "language": "python",
      "name": "python3"
    },
    "language_info": {
      "codemirror_mode": {
        "name": "ipython",
        "version": 3
      },
      "file_extension": ".py",
      "mimetype": "text/x-python",
      "name": "python",
      "nbconvert_exporter": "python",
      "pygments_lexer": "ipython3",
      "version": "3.12.4"
    },
    "widgets": {
      "application/vnd.jupyter.widget-state+json": {
        "d73e9ab8297949bd8379ab0d2ed3d6e3": {
          "model_module": "@jupyter-widgets/controls",
          "model_name": "HBoxModel",
          "model_module_version": "1.5.0",
          "state": {
            "_dom_classes": [],
            "_model_module": "@jupyter-widgets/controls",
            "_model_module_version": "1.5.0",
            "_model_name": "HBoxModel",
            "_view_count": null,
            "_view_module": "@jupyter-widgets/controls",
            "_view_module_version": "1.5.0",
            "_view_name": "HBoxView",
            "box_style": "",
            "children": [
              "IPY_MODEL_790701a9dfd943b8944785ecf8a5ca49",
              "IPY_MODEL_af279264ce414605af38a3dc799d6d84",
              "IPY_MODEL_f9f4e7f06d4f419b84c18f3063cb3e55"
            ],
            "layout": "IPY_MODEL_3d9c3d0d533c4225a113dc9a42ccb962"
          }
        },
        "790701a9dfd943b8944785ecf8a5ca49": {
          "model_module": "@jupyter-widgets/controls",
          "model_name": "HTMLModel",
          "model_module_version": "1.5.0",
          "state": {
            "_dom_classes": [],
            "_model_module": "@jupyter-widgets/controls",
            "_model_module_version": "1.5.0",
            "_model_name": "HTMLModel",
            "_view_count": null,
            "_view_module": "@jupyter-widgets/controls",
            "_view_module_version": "1.5.0",
            "_view_name": "HTMLView",
            "description": "",
            "description_tooltip": null,
            "layout": "IPY_MODEL_bda5d9bd379642b384ec4bdce3dd3d99",
            "placeholder": "​",
            "style": "IPY_MODEL_89f3491983544600ad55fcdb75b78395",
            "value": "100%"
          }
        },
        "af279264ce414605af38a3dc799d6d84": {
          "model_module": "@jupyter-widgets/controls",
          "model_name": "FloatProgressModel",
          "model_module_version": "1.5.0",
          "state": {
            "_dom_classes": [],
            "_model_module": "@jupyter-widgets/controls",
            "_model_module_version": "1.5.0",
            "_model_name": "FloatProgressModel",
            "_view_count": null,
            "_view_module": "@jupyter-widgets/controls",
            "_view_module_version": "1.5.0",
            "_view_name": "ProgressView",
            "bar_style": "success",
            "description": "",
            "description_tooltip": null,
            "layout": "IPY_MODEL_51d4a8842343453ea1d08349351dbd20",
            "max": 529416,
            "min": 0,
            "orientation": "horizontal",
            "style": "IPY_MODEL_47c8d85e33b34242902b07da1c2edeb8",
            "value": 529416
          }
        },
        "f9f4e7f06d4f419b84c18f3063cb3e55": {
          "model_module": "@jupyter-widgets/controls",
          "model_name": "HTMLModel",
          "model_module_version": "1.5.0",
          "state": {
            "_dom_classes": [],
            "_model_module": "@jupyter-widgets/controls",
            "_model_module_version": "1.5.0",
            "_model_name": "HTMLModel",
            "_view_count": null,
            "_view_module": "@jupyter-widgets/controls",
            "_view_module_version": "1.5.0",
            "_view_name": "HTMLView",
            "description": "",
            "description_tooltip": null,
            "layout": "IPY_MODEL_e8c77a1adfc84241bcaca9474d265325",
            "placeholder": "​",
            "style": "IPY_MODEL_2e8ed78650bb4c5d9f6d84aa0528eb52",
            "value": " 529416/529416 [00:10&lt;00:00, 60118.53it/s]"
          }
        },
        "3d9c3d0d533c4225a113dc9a42ccb962": {
          "model_module": "@jupyter-widgets/base",
          "model_name": "LayoutModel",
          "model_module_version": "1.2.0",
          "state": {
            "_model_module": "@jupyter-widgets/base",
            "_model_module_version": "1.2.0",
            "_model_name": "LayoutModel",
            "_view_count": null,
            "_view_module": "@jupyter-widgets/base",
            "_view_module_version": "1.2.0",
            "_view_name": "LayoutView",
            "align_content": null,
            "align_items": null,
            "align_self": null,
            "border": null,
            "bottom": null,
            "display": null,
            "flex": null,
            "flex_flow": null,
            "grid_area": null,
            "grid_auto_columns": null,
            "grid_auto_flow": null,
            "grid_auto_rows": null,
            "grid_column": null,
            "grid_gap": null,
            "grid_row": null,
            "grid_template_areas": null,
            "grid_template_columns": null,
            "grid_template_rows": null,
            "height": null,
            "justify_content": null,
            "justify_items": null,
            "left": null,
            "margin": null,
            "max_height": null,
            "max_width": null,
            "min_height": null,
            "min_width": null,
            "object_fit": null,
            "object_position": null,
            "order": null,
            "overflow": null,
            "overflow_x": null,
            "overflow_y": null,
            "padding": null,
            "right": null,
            "top": null,
            "visibility": null,
            "width": null
          }
        },
        "bda5d9bd379642b384ec4bdce3dd3d99": {
          "model_module": "@jupyter-widgets/base",
          "model_name": "LayoutModel",
          "model_module_version": "1.2.0",
          "state": {
            "_model_module": "@jupyter-widgets/base",
            "_model_module_version": "1.2.0",
            "_model_name": "LayoutModel",
            "_view_count": null,
            "_view_module": "@jupyter-widgets/base",
            "_view_module_version": "1.2.0",
            "_view_name": "LayoutView",
            "align_content": null,
            "align_items": null,
            "align_self": null,
            "border": null,
            "bottom": null,
            "display": null,
            "flex": null,
            "flex_flow": null,
            "grid_area": null,
            "grid_auto_columns": null,
            "grid_auto_flow": null,
            "grid_auto_rows": null,
            "grid_column": null,
            "grid_gap": null,
            "grid_row": null,
            "grid_template_areas": null,
            "grid_template_columns": null,
            "grid_template_rows": null,
            "height": null,
            "justify_content": null,
            "justify_items": null,
            "left": null,
            "margin": null,
            "max_height": null,
            "max_width": null,
            "min_height": null,
            "min_width": null,
            "object_fit": null,
            "object_position": null,
            "order": null,
            "overflow": null,
            "overflow_x": null,
            "overflow_y": null,
            "padding": null,
            "right": null,
            "top": null,
            "visibility": null,
            "width": null
          }
        },
        "89f3491983544600ad55fcdb75b78395": {
          "model_module": "@jupyter-widgets/controls",
          "model_name": "DescriptionStyleModel",
          "model_module_version": "1.5.0",
          "state": {
            "_model_module": "@jupyter-widgets/controls",
            "_model_module_version": "1.5.0",
            "_model_name": "DescriptionStyleModel",
            "_view_count": null,
            "_view_module": "@jupyter-widgets/base",
            "_view_module_version": "1.2.0",
            "_view_name": "StyleView",
            "description_width": ""
          }
        },
        "51d4a8842343453ea1d08349351dbd20": {
          "model_module": "@jupyter-widgets/base",
          "model_name": "LayoutModel",
          "model_module_version": "1.2.0",
          "state": {
            "_model_module": "@jupyter-widgets/base",
            "_model_module_version": "1.2.0",
            "_model_name": "LayoutModel",
            "_view_count": null,
            "_view_module": "@jupyter-widgets/base",
            "_view_module_version": "1.2.0",
            "_view_name": "LayoutView",
            "align_content": null,
            "align_items": null,
            "align_self": null,
            "border": null,
            "bottom": null,
            "display": null,
            "flex": null,
            "flex_flow": null,
            "grid_area": null,
            "grid_auto_columns": null,
            "grid_auto_flow": null,
            "grid_auto_rows": null,
            "grid_column": null,
            "grid_gap": null,
            "grid_row": null,
            "grid_template_areas": null,
            "grid_template_columns": null,
            "grid_template_rows": null,
            "height": null,
            "justify_content": null,
            "justify_items": null,
            "left": null,
            "margin": null,
            "max_height": null,
            "max_width": null,
            "min_height": null,
            "min_width": null,
            "object_fit": null,
            "object_position": null,
            "order": null,
            "overflow": null,
            "overflow_x": null,
            "overflow_y": null,
            "padding": null,
            "right": null,
            "top": null,
            "visibility": null,
            "width": null
          }
        },
        "47c8d85e33b34242902b07da1c2edeb8": {
          "model_module": "@jupyter-widgets/controls",
          "model_name": "ProgressStyleModel",
          "model_module_version": "1.5.0",
          "state": {
            "_model_module": "@jupyter-widgets/controls",
            "_model_module_version": "1.5.0",
            "_model_name": "ProgressStyleModel",
            "_view_count": null,
            "_view_module": "@jupyter-widgets/base",
            "_view_module_version": "1.2.0",
            "_view_name": "StyleView",
            "bar_color": null,
            "description_width": ""
          }
        },
        "e8c77a1adfc84241bcaca9474d265325": {
          "model_module": "@jupyter-widgets/base",
          "model_name": "LayoutModel",
          "model_module_version": "1.2.0",
          "state": {
            "_model_module": "@jupyter-widgets/base",
            "_model_module_version": "1.2.0",
            "_model_name": "LayoutModel",
            "_view_count": null,
            "_view_module": "@jupyter-widgets/base",
            "_view_module_version": "1.2.0",
            "_view_name": "LayoutView",
            "align_content": null,
            "align_items": null,
            "align_self": null,
            "border": null,
            "bottom": null,
            "display": null,
            "flex": null,
            "flex_flow": null,
            "grid_area": null,
            "grid_auto_columns": null,
            "grid_auto_flow": null,
            "grid_auto_rows": null,
            "grid_column": null,
            "grid_gap": null,
            "grid_row": null,
            "grid_template_areas": null,
            "grid_template_columns": null,
            "grid_template_rows": null,
            "height": null,
            "justify_content": null,
            "justify_items": null,
            "left": null,
            "margin": null,
            "max_height": null,
            "max_width": null,
            "min_height": null,
            "min_width": null,
            "object_fit": null,
            "object_position": null,
            "order": null,
            "overflow": null,
            "overflow_x": null,
            "overflow_y": null,
            "padding": null,
            "right": null,
            "top": null,
            "visibility": null,
            "width": null
          }
        },
        "2e8ed78650bb4c5d9f6d84aa0528eb52": {
          "model_module": "@jupyter-widgets/controls",
          "model_name": "DescriptionStyleModel",
          "model_module_version": "1.5.0",
          "state": {
            "_model_module": "@jupyter-widgets/controls",
            "_model_module_version": "1.5.0",
            "_model_name": "DescriptionStyleModel",
            "_view_count": null,
            "_view_module": "@jupyter-widgets/base",
            "_view_module_version": "1.2.0",
            "_view_name": "StyleView",
            "description_width": ""
          }
        },
        "e9de96ae66294c7bb766d757b467ea81": {
          "model_module": "@jupyter-widgets/controls",
          "model_name": "HBoxModel",
          "model_module_version": "1.5.0",
          "state": {
            "_dom_classes": [],
            "_model_module": "@jupyter-widgets/controls",
            "_model_module_version": "1.5.0",
            "_model_name": "HBoxModel",
            "_view_count": null,
            "_view_module": "@jupyter-widgets/controls",
            "_view_module_version": "1.5.0",
            "_view_name": "HBoxView",
            "box_style": "",
            "children": [
              "IPY_MODEL_24c120d3a58d4fcdb35a6b0a7abc81b7",
              "IPY_MODEL_19f1355d5b564fe8b32d690db18ef468",
              "IPY_MODEL_f557103e9dd344d4b35687261c19918d"
            ],
            "layout": "IPY_MODEL_f84845d20394446584797390eb0bf8b1"
          }
        },
        "24c120d3a58d4fcdb35a6b0a7abc81b7": {
          "model_module": "@jupyter-widgets/controls",
          "model_name": "HTMLModel",
          "model_module_version": "1.5.0",
          "state": {
            "_dom_classes": [],
            "_model_module": "@jupyter-widgets/controls",
            "_model_module_version": "1.5.0",
            "_model_name": "HTMLModel",
            "_view_count": null,
            "_view_module": "@jupyter-widgets/controls",
            "_view_module_version": "1.5.0",
            "_view_name": "HTMLView",
            "description": "",
            "description_tooltip": null,
            "layout": "IPY_MODEL_c2bbe800f2fa4406bf614e2b480b641c",
            "placeholder": "​",
            "style": "IPY_MODEL_5ef07e86e4bd4178a5cdd49166a7c90b",
            "value": "100%"
          }
        },
        "19f1355d5b564fe8b32d690db18ef468": {
          "model_module": "@jupyter-widgets/controls",
          "model_name": "FloatProgressModel",
          "model_module_version": "1.5.0",
          "state": {
            "_dom_classes": [],
            "_model_module": "@jupyter-widgets/controls",
            "_model_module_version": "1.5.0",
            "_model_name": "FloatProgressModel",
            "_view_count": null,
            "_view_module": "@jupyter-widgets/controls",
            "_view_module_version": "1.5.0",
            "_view_name": "ProgressView",
            "bar_style": "success",
            "description": "",
            "description_tooltip": null,
            "layout": "IPY_MODEL_84650b9c281f47149d5b75600cdd8753",
            "max": 226834,
            "min": 0,
            "orientation": "horizontal",
            "style": "IPY_MODEL_027df8e8304340e198d90dfdf0f4deb3",
            "value": 226834
          }
        },
        "f557103e9dd344d4b35687261c19918d": {
          "model_module": "@jupyter-widgets/controls",
          "model_name": "HTMLModel",
          "model_module_version": "1.5.0",
          "state": {
            "_dom_classes": [],
            "_model_module": "@jupyter-widgets/controls",
            "_model_module_version": "1.5.0",
            "_model_name": "HTMLModel",
            "_view_count": null,
            "_view_module": "@jupyter-widgets/controls",
            "_view_module_version": "1.5.0",
            "_view_name": "HTMLView",
            "description": "",
            "description_tooltip": null,
            "layout": "IPY_MODEL_65a8491921a34a9fa37f5ff90a95be1b",
            "placeholder": "​",
            "style": "IPY_MODEL_13ce7e451e59442595243eefc5bdf835",
            "value": " 226834/226834 [11:05&lt;00:00, 433.90it/s]"
          }
        },
        "f84845d20394446584797390eb0bf8b1": {
          "model_module": "@jupyter-widgets/base",
          "model_name": "LayoutModel",
          "model_module_version": "1.2.0",
          "state": {
            "_model_module": "@jupyter-widgets/base",
            "_model_module_version": "1.2.0",
            "_model_name": "LayoutModel",
            "_view_count": null,
            "_view_module": "@jupyter-widgets/base",
            "_view_module_version": "1.2.0",
            "_view_name": "LayoutView",
            "align_content": null,
            "align_items": null,
            "align_self": null,
            "border": null,
            "bottom": null,
            "display": null,
            "flex": null,
            "flex_flow": null,
            "grid_area": null,
            "grid_auto_columns": null,
            "grid_auto_flow": null,
            "grid_auto_rows": null,
            "grid_column": null,
            "grid_gap": null,
            "grid_row": null,
            "grid_template_areas": null,
            "grid_template_columns": null,
            "grid_template_rows": null,
            "height": null,
            "justify_content": null,
            "justify_items": null,
            "left": null,
            "margin": null,
            "max_height": null,
            "max_width": null,
            "min_height": null,
            "min_width": null,
            "object_fit": null,
            "object_position": null,
            "order": null,
            "overflow": null,
            "overflow_x": null,
            "overflow_y": null,
            "padding": null,
            "right": null,
            "top": null,
            "visibility": null,
            "width": null
          }
        },
        "c2bbe800f2fa4406bf614e2b480b641c": {
          "model_module": "@jupyter-widgets/base",
          "model_name": "LayoutModel",
          "model_module_version": "1.2.0",
          "state": {
            "_model_module": "@jupyter-widgets/base",
            "_model_module_version": "1.2.0",
            "_model_name": "LayoutModel",
            "_view_count": null,
            "_view_module": "@jupyter-widgets/base",
            "_view_module_version": "1.2.0",
            "_view_name": "LayoutView",
            "align_content": null,
            "align_items": null,
            "align_self": null,
            "border": null,
            "bottom": null,
            "display": null,
            "flex": null,
            "flex_flow": null,
            "grid_area": null,
            "grid_auto_columns": null,
            "grid_auto_flow": null,
            "grid_auto_rows": null,
            "grid_column": null,
            "grid_gap": null,
            "grid_row": null,
            "grid_template_areas": null,
            "grid_template_columns": null,
            "grid_template_rows": null,
            "height": null,
            "justify_content": null,
            "justify_items": null,
            "left": null,
            "margin": null,
            "max_height": null,
            "max_width": null,
            "min_height": null,
            "min_width": null,
            "object_fit": null,
            "object_position": null,
            "order": null,
            "overflow": null,
            "overflow_x": null,
            "overflow_y": null,
            "padding": null,
            "right": null,
            "top": null,
            "visibility": null,
            "width": null
          }
        },
        "5ef07e86e4bd4178a5cdd49166a7c90b": {
          "model_module": "@jupyter-widgets/controls",
          "model_name": "DescriptionStyleModel",
          "model_module_version": "1.5.0",
          "state": {
            "_model_module": "@jupyter-widgets/controls",
            "_model_module_version": "1.5.0",
            "_model_name": "DescriptionStyleModel",
            "_view_count": null,
            "_view_module": "@jupyter-widgets/base",
            "_view_module_version": "1.2.0",
            "_view_name": "StyleView",
            "description_width": ""
          }
        },
        "84650b9c281f47149d5b75600cdd8753": {
          "model_module": "@jupyter-widgets/base",
          "model_name": "LayoutModel",
          "model_module_version": "1.2.0",
          "state": {
            "_model_module": "@jupyter-widgets/base",
            "_model_module_version": "1.2.0",
            "_model_name": "LayoutModel",
            "_view_count": null,
            "_view_module": "@jupyter-widgets/base",
            "_view_module_version": "1.2.0",
            "_view_name": "LayoutView",
            "align_content": null,
            "align_items": null,
            "align_self": null,
            "border": null,
            "bottom": null,
            "display": null,
            "flex": null,
            "flex_flow": null,
            "grid_area": null,
            "grid_auto_columns": null,
            "grid_auto_flow": null,
            "grid_auto_rows": null,
            "grid_column": null,
            "grid_gap": null,
            "grid_row": null,
            "grid_template_areas": null,
            "grid_template_columns": null,
            "grid_template_rows": null,
            "height": null,
            "justify_content": null,
            "justify_items": null,
            "left": null,
            "margin": null,
            "max_height": null,
            "max_width": null,
            "min_height": null,
            "min_width": null,
            "object_fit": null,
            "object_position": null,
            "order": null,
            "overflow": null,
            "overflow_x": null,
            "overflow_y": null,
            "padding": null,
            "right": null,
            "top": null,
            "visibility": null,
            "width": null
          }
        },
        "027df8e8304340e198d90dfdf0f4deb3": {
          "model_module": "@jupyter-widgets/controls",
          "model_name": "ProgressStyleModel",
          "model_module_version": "1.5.0",
          "state": {
            "_model_module": "@jupyter-widgets/controls",
            "_model_module_version": "1.5.0",
            "_model_name": "ProgressStyleModel",
            "_view_count": null,
            "_view_module": "@jupyter-widgets/base",
            "_view_module_version": "1.2.0",
            "_view_name": "StyleView",
            "bar_color": null,
            "description_width": ""
          }
        },
        "65a8491921a34a9fa37f5ff90a95be1b": {
          "model_module": "@jupyter-widgets/base",
          "model_name": "LayoutModel",
          "model_module_version": "1.2.0",
          "state": {
            "_model_module": "@jupyter-widgets/base",
            "_model_module_version": "1.2.0",
            "_model_name": "LayoutModel",
            "_view_count": null,
            "_view_module": "@jupyter-widgets/base",
            "_view_module_version": "1.2.0",
            "_view_name": "LayoutView",
            "align_content": null,
            "align_items": null,
            "align_self": null,
            "border": null,
            "bottom": null,
            "display": null,
            "flex": null,
            "flex_flow": null,
            "grid_area": null,
            "grid_auto_columns": null,
            "grid_auto_flow": null,
            "grid_auto_rows": null,
            "grid_column": null,
            "grid_gap": null,
            "grid_row": null,
            "grid_template_areas": null,
            "grid_template_columns": null,
            "grid_template_rows": null,
            "height": null,
            "justify_content": null,
            "justify_items": null,
            "left": null,
            "margin": null,
            "max_height": null,
            "max_width": null,
            "min_height": null,
            "min_width": null,
            "object_fit": null,
            "object_position": null,
            "order": null,
            "overflow": null,
            "overflow_x": null,
            "overflow_y": null,
            "padding": null,
            "right": null,
            "top": null,
            "visibility": null,
            "width": null
          }
        },
        "13ce7e451e59442595243eefc5bdf835": {
          "model_module": "@jupyter-widgets/controls",
          "model_name": "DescriptionStyleModel",
          "model_module_version": "1.5.0",
          "state": {
            "_model_module": "@jupyter-widgets/controls",
            "_model_module_version": "1.5.0",
            "_model_name": "DescriptionStyleModel",
            "_view_count": null,
            "_view_module": "@jupyter-widgets/base",
            "_view_module_version": "1.2.0",
            "_view_name": "StyleView",
            "description_width": ""
          }
        }
      }
    }
  },
  "nbformat": 4,
  "nbformat_minor": 0
}